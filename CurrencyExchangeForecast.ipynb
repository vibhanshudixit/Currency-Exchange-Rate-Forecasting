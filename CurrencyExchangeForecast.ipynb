{
  "nbformat": 4,
  "nbformat_minor": 0,
  "metadata": {
    "colab": {
      "provenance": [],
      "authorship_tag": "ABX9TyPucuTF+YHLUWGk2ldjlkGl",
      "include_colab_link": true
    },
    "kernelspec": {
      "name": "python3",
      "display_name": "Python 3"
    },
    "language_info": {
      "name": "python"
    }
  },
  "cells": [
    {
      "cell_type": "markdown",
      "metadata": {
        "id": "view-in-github",
        "colab_type": "text"
      },
      "source": [
        "<a href=\"https://colab.research.google.com/github/vibhanshudixit/Currency-Exchange-Rate-Forecasting/blob/main/CurrencyExchangeForecast.ipynb\" target=\"_parent\"><img src=\"https://colab.research.google.com/assets/colab-badge.svg\" alt=\"Open In Colab\"/></a>"
      ]
    },
    {
      "cell_type": "code",
      "source": [
        "!pip uninstall -y numpy scipy scikit-learn pmdarima\n",
        "!pip install numpy==1.26.4 scipy==1.13.1 scikit-learn pmdarima"
      ],
      "metadata": {
        "colab": {
          "base_uri": "https://localhost:8080/",
          "height": 931
        },
        "id": "-UZtTiGzF80u",
        "outputId": "4fff088e-bcb6-453c-e5be-1bb466c13987"
      },
      "execution_count": 1,
      "outputs": [
        {
          "output_type": "stream",
          "name": "stdout",
          "text": [
            "Found existing installation: numpy 1.26.4\n",
            "Uninstalling numpy-1.26.4:\n",
            "  Successfully uninstalled numpy-1.26.4\n",
            "Found existing installation: scipy 1.13.1\n",
            "Uninstalling scipy-1.13.1:\n",
            "  Successfully uninstalled scipy-1.13.1\n",
            "Found existing installation: scikit-learn 1.7.1\n",
            "Uninstalling scikit-learn-1.7.1:\n",
            "  Successfully uninstalled scikit-learn-1.7.1\n",
            "Found existing installation: pmdarima 2.0.4\n",
            "Uninstalling pmdarima-2.0.4:\n",
            "  Successfully uninstalled pmdarima-2.0.4\n",
            "Collecting numpy==1.26.4\n",
            "  Using cached numpy-1.26.4-cp311-cp311-manylinux_2_17_x86_64.manylinux2014_x86_64.whl.metadata (61 kB)\n",
            "Collecting scipy==1.13.1\n",
            "  Using cached scipy-1.13.1-cp311-cp311-manylinux_2_17_x86_64.manylinux2014_x86_64.whl.metadata (60 kB)\n",
            "Collecting scikit-learn\n",
            "  Using cached scikit_learn-1.7.1-cp311-cp311-manylinux2014_x86_64.manylinux_2_17_x86_64.whl.metadata (11 kB)\n",
            "Collecting pmdarima\n",
            "  Using cached pmdarima-2.0.4-cp311-cp311-manylinux_2_17_x86_64.manylinux2014_x86_64.manylinux_2_28_x86_64.whl.metadata (7.8 kB)\n",
            "Requirement already satisfied: joblib>=1.2.0 in /usr/local/lib/python3.11/dist-packages (from scikit-learn) (1.5.1)\n",
            "Requirement already satisfied: threadpoolctl>=3.1.0 in /usr/local/lib/python3.11/dist-packages (from scikit-learn) (3.6.0)\n",
            "Requirement already satisfied: Cython!=0.29.18,!=0.29.31,>=0.29 in /usr/local/lib/python3.11/dist-packages (from pmdarima) (3.0.12)\n",
            "Requirement already satisfied: pandas>=0.19 in /usr/local/lib/python3.11/dist-packages (from pmdarima) (2.2.2)\n",
            "Requirement already satisfied: statsmodels>=0.13.2 in /usr/local/lib/python3.11/dist-packages (from pmdarima) (0.14.5)\n",
            "Requirement already satisfied: urllib3 in /usr/local/lib/python3.11/dist-packages (from pmdarima) (2.5.0)\n",
            "Requirement already satisfied: setuptools!=50.0.0,>=38.6.0 in /usr/local/lib/python3.11/dist-packages (from pmdarima) (75.2.0)\n",
            "Requirement already satisfied: packaging>=17.1 in /usr/local/lib/python3.11/dist-packages (from pmdarima) (25.0)\n",
            "Requirement already satisfied: python-dateutil>=2.8.2 in /usr/local/lib/python3.11/dist-packages (from pandas>=0.19->pmdarima) (2.9.0.post0)\n",
            "Requirement already satisfied: pytz>=2020.1 in /usr/local/lib/python3.11/dist-packages (from pandas>=0.19->pmdarima) (2025.2)\n",
            "Requirement already satisfied: tzdata>=2022.7 in /usr/local/lib/python3.11/dist-packages (from pandas>=0.19->pmdarima) (2025.2)\n",
            "Requirement already satisfied: patsy>=0.5.6 in /usr/local/lib/python3.11/dist-packages (from statsmodels>=0.13.2->pmdarima) (1.0.1)\n",
            "Requirement already satisfied: six>=1.5 in /usr/local/lib/python3.11/dist-packages (from python-dateutil>=2.8.2->pandas>=0.19->pmdarima) (1.17.0)\n",
            "Using cached numpy-1.26.4-cp311-cp311-manylinux_2_17_x86_64.manylinux2014_x86_64.whl (18.3 MB)\n",
            "Using cached scipy-1.13.1-cp311-cp311-manylinux_2_17_x86_64.manylinux2014_x86_64.whl (38.6 MB)\n",
            "Using cached scikit_learn-1.7.1-cp311-cp311-manylinux2014_x86_64.manylinux_2_17_x86_64.whl (9.7 MB)\n",
            "Using cached pmdarima-2.0.4-cp311-cp311-manylinux_2_17_x86_64.manylinux2014_x86_64.manylinux_2_28_x86_64.whl (2.2 MB)\n",
            "Installing collected packages: numpy, scipy, scikit-learn, pmdarima\n",
            "\u001b[31mERROR: pip's dependency resolver does not currently take into account all the packages that are installed. This behaviour is the source of the following dependency conflicts.\n",
            "opencv-contrib-python 4.12.0.88 requires numpy<2.3.0,>=2; python_version >= \"3.9\", but you have numpy 1.26.4 which is incompatible.\n",
            "sklearn-compat 0.1.3 requires scikit-learn<1.7,>=1.2, but you have scikit-learn 1.7.1 which is incompatible.\n",
            "opencv-python 4.12.0.88 requires numpy<2.3.0,>=2; python_version >= \"3.9\", but you have numpy 1.26.4 which is incompatible.\n",
            "thinc 8.3.6 requires numpy<3.0.0,>=2.0.0, but you have numpy 1.26.4 which is incompatible.\n",
            "tsfresh 0.21.0 requires scipy>=1.14.0; python_version >= \"3.10\", but you have scipy 1.13.1 which is incompatible.\n",
            "opencv-python-headless 4.12.0.88 requires numpy<2.3.0,>=2; python_version >= \"3.9\", but you have numpy 1.26.4 which is incompatible.\u001b[0m\u001b[31m\n",
            "\u001b[0mSuccessfully installed numpy-1.26.4 pmdarima-2.0.4 scikit-learn-1.7.1 scipy-1.13.1\n"
          ]
        },
        {
          "output_type": "display_data",
          "data": {
            "application/vnd.colab-display-data+json": {
              "pip_warning": {
                "packages": [
                  "numpy"
                ]
              },
              "id": "381599ce03fc41d2aca7e3d569f2416b"
            }
          },
          "metadata": {}
        }
      ]
    },
    {
      "cell_type": "code",
      "execution_count": 1,
      "metadata": {
        "id": "jR7EFe9wiCwu"
      },
      "outputs": [],
      "source": [
        "import zipfile\n",
        "import os\n",
        "\n",
        "zip_file = '/content/f864a-inr-usd.zip'\n",
        "directory_path = '/content/inr-usd'\n",
        "\n",
        "with zipfile.ZipFile(zip_file, 'r') as zip_ref:\n",
        "    zip_ref.extractall(directory_path)"
      ]
    },
    {
      "cell_type": "code",
      "source": [
        "import pandas as pd\n",
        "import numpy as np\n",
        "import matplotlib.pyplot as plt\n",
        "import seaborn as sns\n",
        "import plotly.express as px\n",
        "\n",
        "data = pd.read_csv('/content/inr-usd/INR-USD.csv')"
      ],
      "metadata": {
        "id": "EI1pKBoQimCB"
      },
      "execution_count": 2,
      "outputs": []
    },
    {
      "cell_type": "code",
      "source": [
        "data.head()"
      ],
      "metadata": {
        "colab": {
          "base_uri": "https://localhost:8080/",
          "height": 206
        },
        "id": "qSqyos4gi7NW",
        "outputId": "b18fcb81-e5f2-496a-de9f-a381efbb06b5"
      },
      "execution_count": 3,
      "outputs": [
        {
          "output_type": "execute_result",
          "data": {
            "text/plain": [
              "         Date       Open       High        Low      Close  Adj Close  Volume\n",
              "0  2003-12-01  45.709000  45.728001  45.449001  45.480000  45.480000     0.0\n",
              "1  2003-12-08  45.474998  45.507999  45.352001  45.451000  45.451000     0.0\n",
              "2  2003-12-15  45.450001  45.500000  45.332001  45.455002  45.455002     0.0\n",
              "3  2003-12-22  45.417000  45.549000  45.296001  45.507999  45.507999     0.0\n",
              "4  2003-12-29  45.439999  45.645000  45.421001  45.560001  45.560001     0.0"
            ],
            "text/html": [
              "\n",
              "  <div id=\"df-693cc6e6-1448-4712-a69b-85497186c3df\" class=\"colab-df-container\">\n",
              "    <div>\n",
              "<style scoped>\n",
              "    .dataframe tbody tr th:only-of-type {\n",
              "        vertical-align: middle;\n",
              "    }\n",
              "\n",
              "    .dataframe tbody tr th {\n",
              "        vertical-align: top;\n",
              "    }\n",
              "\n",
              "    .dataframe thead th {\n",
              "        text-align: right;\n",
              "    }\n",
              "</style>\n",
              "<table border=\"1\" class=\"dataframe\">\n",
              "  <thead>\n",
              "    <tr style=\"text-align: right;\">\n",
              "      <th></th>\n",
              "      <th>Date</th>\n",
              "      <th>Open</th>\n",
              "      <th>High</th>\n",
              "      <th>Low</th>\n",
              "      <th>Close</th>\n",
              "      <th>Adj Close</th>\n",
              "      <th>Volume</th>\n",
              "    </tr>\n",
              "  </thead>\n",
              "  <tbody>\n",
              "    <tr>\n",
              "      <th>0</th>\n",
              "      <td>2003-12-01</td>\n",
              "      <td>45.709000</td>\n",
              "      <td>45.728001</td>\n",
              "      <td>45.449001</td>\n",
              "      <td>45.480000</td>\n",
              "      <td>45.480000</td>\n",
              "      <td>0.0</td>\n",
              "    </tr>\n",
              "    <tr>\n",
              "      <th>1</th>\n",
              "      <td>2003-12-08</td>\n",
              "      <td>45.474998</td>\n",
              "      <td>45.507999</td>\n",
              "      <td>45.352001</td>\n",
              "      <td>45.451000</td>\n",
              "      <td>45.451000</td>\n",
              "      <td>0.0</td>\n",
              "    </tr>\n",
              "    <tr>\n",
              "      <th>2</th>\n",
              "      <td>2003-12-15</td>\n",
              "      <td>45.450001</td>\n",
              "      <td>45.500000</td>\n",
              "      <td>45.332001</td>\n",
              "      <td>45.455002</td>\n",
              "      <td>45.455002</td>\n",
              "      <td>0.0</td>\n",
              "    </tr>\n",
              "    <tr>\n",
              "      <th>3</th>\n",
              "      <td>2003-12-22</td>\n",
              "      <td>45.417000</td>\n",
              "      <td>45.549000</td>\n",
              "      <td>45.296001</td>\n",
              "      <td>45.507999</td>\n",
              "      <td>45.507999</td>\n",
              "      <td>0.0</td>\n",
              "    </tr>\n",
              "    <tr>\n",
              "      <th>4</th>\n",
              "      <td>2003-12-29</td>\n",
              "      <td>45.439999</td>\n",
              "      <td>45.645000</td>\n",
              "      <td>45.421001</td>\n",
              "      <td>45.560001</td>\n",
              "      <td>45.560001</td>\n",
              "      <td>0.0</td>\n",
              "    </tr>\n",
              "  </tbody>\n",
              "</table>\n",
              "</div>\n",
              "    <div class=\"colab-df-buttons\">\n",
              "\n",
              "  <div class=\"colab-df-container\">\n",
              "    <button class=\"colab-df-convert\" onclick=\"convertToInteractive('df-693cc6e6-1448-4712-a69b-85497186c3df')\"\n",
              "            title=\"Convert this dataframe to an interactive table.\"\n",
              "            style=\"display:none;\">\n",
              "\n",
              "  <svg xmlns=\"http://www.w3.org/2000/svg\" height=\"24px\" viewBox=\"0 -960 960 960\">\n",
              "    <path d=\"M120-120v-720h720v720H120Zm60-500h600v-160H180v160Zm220 220h160v-160H400v160Zm0 220h160v-160H400v160ZM180-400h160v-160H180v160Zm440 0h160v-160H620v160ZM180-180h160v-160H180v160Zm440 0h160v-160H620v160Z\"/>\n",
              "  </svg>\n",
              "    </button>\n",
              "\n",
              "  <style>\n",
              "    .colab-df-container {\n",
              "      display:flex;\n",
              "      gap: 12px;\n",
              "    }\n",
              "\n",
              "    .colab-df-convert {\n",
              "      background-color: #E8F0FE;\n",
              "      border: none;\n",
              "      border-radius: 50%;\n",
              "      cursor: pointer;\n",
              "      display: none;\n",
              "      fill: #1967D2;\n",
              "      height: 32px;\n",
              "      padding: 0 0 0 0;\n",
              "      width: 32px;\n",
              "    }\n",
              "\n",
              "    .colab-df-convert:hover {\n",
              "      background-color: #E2EBFA;\n",
              "      box-shadow: 0px 1px 2px rgba(60, 64, 67, 0.3), 0px 1px 3px 1px rgba(60, 64, 67, 0.15);\n",
              "      fill: #174EA6;\n",
              "    }\n",
              "\n",
              "    .colab-df-buttons div {\n",
              "      margin-bottom: 4px;\n",
              "    }\n",
              "\n",
              "    [theme=dark] .colab-df-convert {\n",
              "      background-color: #3B4455;\n",
              "      fill: #D2E3FC;\n",
              "    }\n",
              "\n",
              "    [theme=dark] .colab-df-convert:hover {\n",
              "      background-color: #434B5C;\n",
              "      box-shadow: 0px 1px 3px 1px rgba(0, 0, 0, 0.15);\n",
              "      filter: drop-shadow(0px 1px 2px rgba(0, 0, 0, 0.3));\n",
              "      fill: #FFFFFF;\n",
              "    }\n",
              "  </style>\n",
              "\n",
              "    <script>\n",
              "      const buttonEl =\n",
              "        document.querySelector('#df-693cc6e6-1448-4712-a69b-85497186c3df button.colab-df-convert');\n",
              "      buttonEl.style.display =\n",
              "        google.colab.kernel.accessAllowed ? 'block' : 'none';\n",
              "\n",
              "      async function convertToInteractive(key) {\n",
              "        const element = document.querySelector('#df-693cc6e6-1448-4712-a69b-85497186c3df');\n",
              "        const dataTable =\n",
              "          await google.colab.kernel.invokeFunction('convertToInteractive',\n",
              "                                                    [key], {});\n",
              "        if (!dataTable) return;\n",
              "\n",
              "        const docLinkHtml = 'Like what you see? Visit the ' +\n",
              "          '<a target=\"_blank\" href=https://colab.research.google.com/notebooks/data_table.ipynb>data table notebook</a>'\n",
              "          + ' to learn more about interactive tables.';\n",
              "        element.innerHTML = '';\n",
              "        dataTable['output_type'] = 'display_data';\n",
              "        await google.colab.output.renderOutput(dataTable, element);\n",
              "        const docLink = document.createElement('div');\n",
              "        docLink.innerHTML = docLinkHtml;\n",
              "        element.appendChild(docLink);\n",
              "      }\n",
              "    </script>\n",
              "  </div>\n",
              "\n",
              "\n",
              "    <div id=\"df-026d9794-06ea-421a-8130-1cf3cd102fd6\">\n",
              "      <button class=\"colab-df-quickchart\" onclick=\"quickchart('df-026d9794-06ea-421a-8130-1cf3cd102fd6')\"\n",
              "                title=\"Suggest charts\"\n",
              "                style=\"display:none;\">\n",
              "\n",
              "<svg xmlns=\"http://www.w3.org/2000/svg\" height=\"24px\"viewBox=\"0 0 24 24\"\n",
              "     width=\"24px\">\n",
              "    <g>\n",
              "        <path d=\"M19 3H5c-1.1 0-2 .9-2 2v14c0 1.1.9 2 2 2h14c1.1 0 2-.9 2-2V5c0-1.1-.9-2-2-2zM9 17H7v-7h2v7zm4 0h-2V7h2v10zm4 0h-2v-4h2v4z\"/>\n",
              "    </g>\n",
              "</svg>\n",
              "      </button>\n",
              "\n",
              "<style>\n",
              "  .colab-df-quickchart {\n",
              "      --bg-color: #E8F0FE;\n",
              "      --fill-color: #1967D2;\n",
              "      --hover-bg-color: #E2EBFA;\n",
              "      --hover-fill-color: #174EA6;\n",
              "      --disabled-fill-color: #AAA;\n",
              "      --disabled-bg-color: #DDD;\n",
              "  }\n",
              "\n",
              "  [theme=dark] .colab-df-quickchart {\n",
              "      --bg-color: #3B4455;\n",
              "      --fill-color: #D2E3FC;\n",
              "      --hover-bg-color: #434B5C;\n",
              "      --hover-fill-color: #FFFFFF;\n",
              "      --disabled-bg-color: #3B4455;\n",
              "      --disabled-fill-color: #666;\n",
              "  }\n",
              "\n",
              "  .colab-df-quickchart {\n",
              "    background-color: var(--bg-color);\n",
              "    border: none;\n",
              "    border-radius: 50%;\n",
              "    cursor: pointer;\n",
              "    display: none;\n",
              "    fill: var(--fill-color);\n",
              "    height: 32px;\n",
              "    padding: 0;\n",
              "    width: 32px;\n",
              "  }\n",
              "\n",
              "  .colab-df-quickchart:hover {\n",
              "    background-color: var(--hover-bg-color);\n",
              "    box-shadow: 0 1px 2px rgba(60, 64, 67, 0.3), 0 1px 3px 1px rgba(60, 64, 67, 0.15);\n",
              "    fill: var(--button-hover-fill-color);\n",
              "  }\n",
              "\n",
              "  .colab-df-quickchart-complete:disabled,\n",
              "  .colab-df-quickchart-complete:disabled:hover {\n",
              "    background-color: var(--disabled-bg-color);\n",
              "    fill: var(--disabled-fill-color);\n",
              "    box-shadow: none;\n",
              "  }\n",
              "\n",
              "  .colab-df-spinner {\n",
              "    border: 2px solid var(--fill-color);\n",
              "    border-color: transparent;\n",
              "    border-bottom-color: var(--fill-color);\n",
              "    animation:\n",
              "      spin 1s steps(1) infinite;\n",
              "  }\n",
              "\n",
              "  @keyframes spin {\n",
              "    0% {\n",
              "      border-color: transparent;\n",
              "      border-bottom-color: var(--fill-color);\n",
              "      border-left-color: var(--fill-color);\n",
              "    }\n",
              "    20% {\n",
              "      border-color: transparent;\n",
              "      border-left-color: var(--fill-color);\n",
              "      border-top-color: var(--fill-color);\n",
              "    }\n",
              "    30% {\n",
              "      border-color: transparent;\n",
              "      border-left-color: var(--fill-color);\n",
              "      border-top-color: var(--fill-color);\n",
              "      border-right-color: var(--fill-color);\n",
              "    }\n",
              "    40% {\n",
              "      border-color: transparent;\n",
              "      border-right-color: var(--fill-color);\n",
              "      border-top-color: var(--fill-color);\n",
              "    }\n",
              "    60% {\n",
              "      border-color: transparent;\n",
              "      border-right-color: var(--fill-color);\n",
              "    }\n",
              "    80% {\n",
              "      border-color: transparent;\n",
              "      border-right-color: var(--fill-color);\n",
              "      border-bottom-color: var(--fill-color);\n",
              "    }\n",
              "    90% {\n",
              "      border-color: transparent;\n",
              "      border-bottom-color: var(--fill-color);\n",
              "    }\n",
              "  }\n",
              "</style>\n",
              "\n",
              "      <script>\n",
              "        async function quickchart(key) {\n",
              "          const quickchartButtonEl =\n",
              "            document.querySelector('#' + key + ' button');\n",
              "          quickchartButtonEl.disabled = true;  // To prevent multiple clicks.\n",
              "          quickchartButtonEl.classList.add('colab-df-spinner');\n",
              "          try {\n",
              "            const charts = await google.colab.kernel.invokeFunction(\n",
              "                'suggestCharts', [key], {});\n",
              "          } catch (error) {\n",
              "            console.error('Error during call to suggestCharts:', error);\n",
              "          }\n",
              "          quickchartButtonEl.classList.remove('colab-df-spinner');\n",
              "          quickchartButtonEl.classList.add('colab-df-quickchart-complete');\n",
              "        }\n",
              "        (() => {\n",
              "          let quickchartButtonEl =\n",
              "            document.querySelector('#df-026d9794-06ea-421a-8130-1cf3cd102fd6 button');\n",
              "          quickchartButtonEl.style.display =\n",
              "            google.colab.kernel.accessAllowed ? 'block' : 'none';\n",
              "        })();\n",
              "      </script>\n",
              "    </div>\n",
              "\n",
              "    </div>\n",
              "  </div>\n"
            ],
            "application/vnd.google.colaboratory.intrinsic+json": {
              "type": "dataframe",
              "variable_name": "data",
              "summary": "{\n  \"name\": \"data\",\n  \"rows\": 1016,\n  \"fields\": [\n    {\n      \"column\": \"Date\",\n      \"properties\": {\n        \"dtype\": \"object\",\n        \"num_unique_values\": 1016,\n        \"samples\": [\n          \"2018-05-07\",\n          \"2013-11-11\",\n          \"2007-12-10\"\n        ],\n        \"semantic_type\": \"\",\n        \"description\": \"\"\n      }\n    },\n    {\n      \"column\": \"Open\",\n      \"properties\": {\n        \"dtype\": \"number\",\n        \"std\": 12.614634787446649,\n        \"min\": 38.995998,\n        \"max\": 82.917999,\n        \"num_unique_values\": 980,\n        \"samples\": [\n          71.148003,\n          53.805,\n          46.459999\n        ],\n        \"semantic_type\": \"\",\n        \"description\": \"\"\n      }\n    },\n    {\n      \"column\": \"High\",\n      \"properties\": {\n        \"dtype\": \"number\",\n        \"std\": 12.716632346269366,\n        \"min\": 39.334999,\n        \"max\": 83.386002,\n        \"num_unique_values\": 968,\n        \"samples\": [\n          64.263,\n          51.252998,\n          52.720001\n        ],\n        \"semantic_type\": \"\",\n        \"description\": \"\"\n      }\n    },\n    {\n      \"column\": \"Low\",\n      \"properties\": {\n        \"dtype\": \"number\",\n        \"std\": 12.56527864562745,\n        \"min\": 38.979,\n        \"max\": 82.563004,\n        \"num_unique_values\": 934,\n        \"samples\": [\n          46.202999,\n          43.259998,\n          39.646999\n        ],\n        \"semantic_type\": \"\",\n        \"description\": \"\"\n      }\n    },\n    {\n      \"column\": \"Close\",\n      \"properties\": {\n        \"dtype\": \"number\",\n        \"std\": 12.657407030197088,\n        \"min\": 39.044998,\n        \"max\": 82.932999,\n        \"num_unique_values\": 954,\n        \"samples\": [\n          39.805,\n          53.792999,\n          67.974998\n        ],\n        \"semantic_type\": \"\",\n        \"description\": \"\"\n      }\n    },\n    {\n      \"column\": \"Adj Close\",\n      \"properties\": {\n        \"dtype\": \"number\",\n        \"std\": 12.657407030197088,\n        \"min\": 39.044998,\n        \"max\": 82.932999,\n        \"num_unique_values\": 954,\n        \"samples\": [\n          39.805,\n          53.792999,\n          67.974998\n        ],\n        \"semantic_type\": \"\",\n        \"description\": \"\"\n      }\n    },\n    {\n      \"column\": \"Volume\",\n      \"properties\": {\n        \"dtype\": \"number\",\n        \"std\": 0.0,\n        \"min\": 0.0,\n        \"max\": 0.0,\n        \"num_unique_values\": 1,\n        \"samples\": [\n          0.0\n        ],\n        \"semantic_type\": \"\",\n        \"description\": \"\"\n      }\n    }\n  ]\n}"
            }
          },
          "metadata": {},
          "execution_count": 3
        }
      ]
    },
    {
      "cell_type": "code",
      "source": [
        "data.isnull().sum()"
      ],
      "metadata": {
        "colab": {
          "base_uri": "https://localhost:8080/",
          "height": 303
        },
        "id": "B0E4UkF3i9DH",
        "outputId": "a3a5465f-7b86-4d88-a7f8-0913c02f6741"
      },
      "execution_count": 4,
      "outputs": [
        {
          "output_type": "execute_result",
          "data": {
            "text/plain": [
              "Date         0\n",
              "Open         3\n",
              "High         3\n",
              "Low          3\n",
              "Close        3\n",
              "Adj Close    3\n",
              "Volume       3\n",
              "dtype: int64"
            ],
            "text/html": [
              "<div>\n",
              "<style scoped>\n",
              "    .dataframe tbody tr th:only-of-type {\n",
              "        vertical-align: middle;\n",
              "    }\n",
              "\n",
              "    .dataframe tbody tr th {\n",
              "        vertical-align: top;\n",
              "    }\n",
              "\n",
              "    .dataframe thead th {\n",
              "        text-align: right;\n",
              "    }\n",
              "</style>\n",
              "<table border=\"1\" class=\"dataframe\">\n",
              "  <thead>\n",
              "    <tr style=\"text-align: right;\">\n",
              "      <th></th>\n",
              "      <th>0</th>\n",
              "    </tr>\n",
              "  </thead>\n",
              "  <tbody>\n",
              "    <tr>\n",
              "      <th>Date</th>\n",
              "      <td>0</td>\n",
              "    </tr>\n",
              "    <tr>\n",
              "      <th>Open</th>\n",
              "      <td>3</td>\n",
              "    </tr>\n",
              "    <tr>\n",
              "      <th>High</th>\n",
              "      <td>3</td>\n",
              "    </tr>\n",
              "    <tr>\n",
              "      <th>Low</th>\n",
              "      <td>3</td>\n",
              "    </tr>\n",
              "    <tr>\n",
              "      <th>Close</th>\n",
              "      <td>3</td>\n",
              "    </tr>\n",
              "    <tr>\n",
              "      <th>Adj Close</th>\n",
              "      <td>3</td>\n",
              "    </tr>\n",
              "    <tr>\n",
              "      <th>Volume</th>\n",
              "      <td>3</td>\n",
              "    </tr>\n",
              "  </tbody>\n",
              "</table>\n",
              "</div><br><label><b>dtype:</b> int64</label>"
            ]
          },
          "metadata": {},
          "execution_count": 4
        }
      ]
    },
    {
      "cell_type": "code",
      "source": [
        "data = data.dropna()"
      ],
      "metadata": {
        "id": "-farJUfYjB9R"
      },
      "execution_count": 5,
      "outputs": []
    },
    {
      "cell_type": "code",
      "source": [
        "data.describe()"
      ],
      "metadata": {
        "colab": {
          "base_uri": "https://localhost:8080/",
          "height": 300
        },
        "id": "dLlH_iGqjG5B",
        "outputId": "63a20f77-b9ff-4b63-dbc4-f886f74bb06f"
      },
      "execution_count": 6,
      "outputs": [
        {
          "output_type": "execute_result",
          "data": {
            "text/plain": [
              "              Open         High          Low        Close    Adj Close  Volume\n",
              "count  1013.000000  1013.000000  1013.000000  1013.000000  1013.000000  1013.0\n",
              "mean     58.035208    58.506681    57.654706    58.056509    58.056509     0.0\n",
              "std      12.614635    12.716632    12.565279    12.657407    12.657407     0.0\n",
              "min      38.995998    39.334999    38.979000    39.044998    39.044998     0.0\n",
              "25%      45.508999    45.775002    45.231998    45.498001    45.498001     0.0\n",
              "50%      59.702999    60.342999    59.209999    59.840000    59.840000     0.0\n",
              "75%      68.508499    69.099998    68.250000    68.538002    68.538002     0.0\n",
              "max      82.917999    83.386002    82.563004    82.932999    82.932999     0.0"
            ],
            "text/html": [
              "\n",
              "  <div id=\"df-5192e8a5-742f-4cc3-964d-b44431bd1f4c\" class=\"colab-df-container\">\n",
              "    <div>\n",
              "<style scoped>\n",
              "    .dataframe tbody tr th:only-of-type {\n",
              "        vertical-align: middle;\n",
              "    }\n",
              "\n",
              "    .dataframe tbody tr th {\n",
              "        vertical-align: top;\n",
              "    }\n",
              "\n",
              "    .dataframe thead th {\n",
              "        text-align: right;\n",
              "    }\n",
              "</style>\n",
              "<table border=\"1\" class=\"dataframe\">\n",
              "  <thead>\n",
              "    <tr style=\"text-align: right;\">\n",
              "      <th></th>\n",
              "      <th>Open</th>\n",
              "      <th>High</th>\n",
              "      <th>Low</th>\n",
              "      <th>Close</th>\n",
              "      <th>Adj Close</th>\n",
              "      <th>Volume</th>\n",
              "    </tr>\n",
              "  </thead>\n",
              "  <tbody>\n",
              "    <tr>\n",
              "      <th>count</th>\n",
              "      <td>1013.000000</td>\n",
              "      <td>1013.000000</td>\n",
              "      <td>1013.000000</td>\n",
              "      <td>1013.000000</td>\n",
              "      <td>1013.000000</td>\n",
              "      <td>1013.0</td>\n",
              "    </tr>\n",
              "    <tr>\n",
              "      <th>mean</th>\n",
              "      <td>58.035208</td>\n",
              "      <td>58.506681</td>\n",
              "      <td>57.654706</td>\n",
              "      <td>58.056509</td>\n",
              "      <td>58.056509</td>\n",
              "      <td>0.0</td>\n",
              "    </tr>\n",
              "    <tr>\n",
              "      <th>std</th>\n",
              "      <td>12.614635</td>\n",
              "      <td>12.716632</td>\n",
              "      <td>12.565279</td>\n",
              "      <td>12.657407</td>\n",
              "      <td>12.657407</td>\n",
              "      <td>0.0</td>\n",
              "    </tr>\n",
              "    <tr>\n",
              "      <th>min</th>\n",
              "      <td>38.995998</td>\n",
              "      <td>39.334999</td>\n",
              "      <td>38.979000</td>\n",
              "      <td>39.044998</td>\n",
              "      <td>39.044998</td>\n",
              "      <td>0.0</td>\n",
              "    </tr>\n",
              "    <tr>\n",
              "      <th>25%</th>\n",
              "      <td>45.508999</td>\n",
              "      <td>45.775002</td>\n",
              "      <td>45.231998</td>\n",
              "      <td>45.498001</td>\n",
              "      <td>45.498001</td>\n",
              "      <td>0.0</td>\n",
              "    </tr>\n",
              "    <tr>\n",
              "      <th>50%</th>\n",
              "      <td>59.702999</td>\n",
              "      <td>60.342999</td>\n",
              "      <td>59.209999</td>\n",
              "      <td>59.840000</td>\n",
              "      <td>59.840000</td>\n",
              "      <td>0.0</td>\n",
              "    </tr>\n",
              "    <tr>\n",
              "      <th>75%</th>\n",
              "      <td>68.508499</td>\n",
              "      <td>69.099998</td>\n",
              "      <td>68.250000</td>\n",
              "      <td>68.538002</td>\n",
              "      <td>68.538002</td>\n",
              "      <td>0.0</td>\n",
              "    </tr>\n",
              "    <tr>\n",
              "      <th>max</th>\n",
              "      <td>82.917999</td>\n",
              "      <td>83.386002</td>\n",
              "      <td>82.563004</td>\n",
              "      <td>82.932999</td>\n",
              "      <td>82.932999</td>\n",
              "      <td>0.0</td>\n",
              "    </tr>\n",
              "  </tbody>\n",
              "</table>\n",
              "</div>\n",
              "    <div class=\"colab-df-buttons\">\n",
              "\n",
              "  <div class=\"colab-df-container\">\n",
              "    <button class=\"colab-df-convert\" onclick=\"convertToInteractive('df-5192e8a5-742f-4cc3-964d-b44431bd1f4c')\"\n",
              "            title=\"Convert this dataframe to an interactive table.\"\n",
              "            style=\"display:none;\">\n",
              "\n",
              "  <svg xmlns=\"http://www.w3.org/2000/svg\" height=\"24px\" viewBox=\"0 -960 960 960\">\n",
              "    <path d=\"M120-120v-720h720v720H120Zm60-500h600v-160H180v160Zm220 220h160v-160H400v160Zm0 220h160v-160H400v160ZM180-400h160v-160H180v160Zm440 0h160v-160H620v160ZM180-180h160v-160H180v160Zm440 0h160v-160H620v160Z\"/>\n",
              "  </svg>\n",
              "    </button>\n",
              "\n",
              "  <style>\n",
              "    .colab-df-container {\n",
              "      display:flex;\n",
              "      gap: 12px;\n",
              "    }\n",
              "\n",
              "    .colab-df-convert {\n",
              "      background-color: #E8F0FE;\n",
              "      border: none;\n",
              "      border-radius: 50%;\n",
              "      cursor: pointer;\n",
              "      display: none;\n",
              "      fill: #1967D2;\n",
              "      height: 32px;\n",
              "      padding: 0 0 0 0;\n",
              "      width: 32px;\n",
              "    }\n",
              "\n",
              "    .colab-df-convert:hover {\n",
              "      background-color: #E2EBFA;\n",
              "      box-shadow: 0px 1px 2px rgba(60, 64, 67, 0.3), 0px 1px 3px 1px rgba(60, 64, 67, 0.15);\n",
              "      fill: #174EA6;\n",
              "    }\n",
              "\n",
              "    .colab-df-buttons div {\n",
              "      margin-bottom: 4px;\n",
              "    }\n",
              "\n",
              "    [theme=dark] .colab-df-convert {\n",
              "      background-color: #3B4455;\n",
              "      fill: #D2E3FC;\n",
              "    }\n",
              "\n",
              "    [theme=dark] .colab-df-convert:hover {\n",
              "      background-color: #434B5C;\n",
              "      box-shadow: 0px 1px 3px 1px rgba(0, 0, 0, 0.15);\n",
              "      filter: drop-shadow(0px 1px 2px rgba(0, 0, 0, 0.3));\n",
              "      fill: #FFFFFF;\n",
              "    }\n",
              "  </style>\n",
              "\n",
              "    <script>\n",
              "      const buttonEl =\n",
              "        document.querySelector('#df-5192e8a5-742f-4cc3-964d-b44431bd1f4c button.colab-df-convert');\n",
              "      buttonEl.style.display =\n",
              "        google.colab.kernel.accessAllowed ? 'block' : 'none';\n",
              "\n",
              "      async function convertToInteractive(key) {\n",
              "        const element = document.querySelector('#df-5192e8a5-742f-4cc3-964d-b44431bd1f4c');\n",
              "        const dataTable =\n",
              "          await google.colab.kernel.invokeFunction('convertToInteractive',\n",
              "                                                    [key], {});\n",
              "        if (!dataTable) return;\n",
              "\n",
              "        const docLinkHtml = 'Like what you see? Visit the ' +\n",
              "          '<a target=\"_blank\" href=https://colab.research.google.com/notebooks/data_table.ipynb>data table notebook</a>'\n",
              "          + ' to learn more about interactive tables.';\n",
              "        element.innerHTML = '';\n",
              "        dataTable['output_type'] = 'display_data';\n",
              "        await google.colab.output.renderOutput(dataTable, element);\n",
              "        const docLink = document.createElement('div');\n",
              "        docLink.innerHTML = docLinkHtml;\n",
              "        element.appendChild(docLink);\n",
              "      }\n",
              "    </script>\n",
              "  </div>\n",
              "\n",
              "\n",
              "    <div id=\"df-0edcb222-7b73-4c1f-a629-b0e301f6bfc7\">\n",
              "      <button class=\"colab-df-quickchart\" onclick=\"quickchart('df-0edcb222-7b73-4c1f-a629-b0e301f6bfc7')\"\n",
              "                title=\"Suggest charts\"\n",
              "                style=\"display:none;\">\n",
              "\n",
              "<svg xmlns=\"http://www.w3.org/2000/svg\" height=\"24px\"viewBox=\"0 0 24 24\"\n",
              "     width=\"24px\">\n",
              "    <g>\n",
              "        <path d=\"M19 3H5c-1.1 0-2 .9-2 2v14c0 1.1.9 2 2 2h14c1.1 0 2-.9 2-2V5c0-1.1-.9-2-2-2zM9 17H7v-7h2v7zm4 0h-2V7h2v10zm4 0h-2v-4h2v4z\"/>\n",
              "    </g>\n",
              "</svg>\n",
              "      </button>\n",
              "\n",
              "<style>\n",
              "  .colab-df-quickchart {\n",
              "      --bg-color: #E8F0FE;\n",
              "      --fill-color: #1967D2;\n",
              "      --hover-bg-color: #E2EBFA;\n",
              "      --hover-fill-color: #174EA6;\n",
              "      --disabled-fill-color: #AAA;\n",
              "      --disabled-bg-color: #DDD;\n",
              "  }\n",
              "\n",
              "  [theme=dark] .colab-df-quickchart {\n",
              "      --bg-color: #3B4455;\n",
              "      --fill-color: #D2E3FC;\n",
              "      --hover-bg-color: #434B5C;\n",
              "      --hover-fill-color: #FFFFFF;\n",
              "      --disabled-bg-color: #3B4455;\n",
              "      --disabled-fill-color: #666;\n",
              "  }\n",
              "\n",
              "  .colab-df-quickchart {\n",
              "    background-color: var(--bg-color);\n",
              "    border: none;\n",
              "    border-radius: 50%;\n",
              "    cursor: pointer;\n",
              "    display: none;\n",
              "    fill: var(--fill-color);\n",
              "    height: 32px;\n",
              "    padding: 0;\n",
              "    width: 32px;\n",
              "  }\n",
              "\n",
              "  .colab-df-quickchart:hover {\n",
              "    background-color: var(--hover-bg-color);\n",
              "    box-shadow: 0 1px 2px rgba(60, 64, 67, 0.3), 0 1px 3px 1px rgba(60, 64, 67, 0.15);\n",
              "    fill: var(--button-hover-fill-color);\n",
              "  }\n",
              "\n",
              "  .colab-df-quickchart-complete:disabled,\n",
              "  .colab-df-quickchart-complete:disabled:hover {\n",
              "    background-color: var(--disabled-bg-color);\n",
              "    fill: var(--disabled-fill-color);\n",
              "    box-shadow: none;\n",
              "  }\n",
              "\n",
              "  .colab-df-spinner {\n",
              "    border: 2px solid var(--fill-color);\n",
              "    border-color: transparent;\n",
              "    border-bottom-color: var(--fill-color);\n",
              "    animation:\n",
              "      spin 1s steps(1) infinite;\n",
              "  }\n",
              "\n",
              "  @keyframes spin {\n",
              "    0% {\n",
              "      border-color: transparent;\n",
              "      border-bottom-color: var(--fill-color);\n",
              "      border-left-color: var(--fill-color);\n",
              "    }\n",
              "    20% {\n",
              "      border-color: transparent;\n",
              "      border-left-color: var(--fill-color);\n",
              "      border-top-color: var(--fill-color);\n",
              "    }\n",
              "    30% {\n",
              "      border-color: transparent;\n",
              "      border-left-color: var(--fill-color);\n",
              "      border-top-color: var(--fill-color);\n",
              "      border-right-color: var(--fill-color);\n",
              "    }\n",
              "    40% {\n",
              "      border-color: transparent;\n",
              "      border-right-color: var(--fill-color);\n",
              "      border-top-color: var(--fill-color);\n",
              "    }\n",
              "    60% {\n",
              "      border-color: transparent;\n",
              "      border-right-color: var(--fill-color);\n",
              "    }\n",
              "    80% {\n",
              "      border-color: transparent;\n",
              "      border-right-color: var(--fill-color);\n",
              "      border-bottom-color: var(--fill-color);\n",
              "    }\n",
              "    90% {\n",
              "      border-color: transparent;\n",
              "      border-bottom-color: var(--fill-color);\n",
              "    }\n",
              "  }\n",
              "</style>\n",
              "\n",
              "      <script>\n",
              "        async function quickchart(key) {\n",
              "          const quickchartButtonEl =\n",
              "            document.querySelector('#' + key + ' button');\n",
              "          quickchartButtonEl.disabled = true;  // To prevent multiple clicks.\n",
              "          quickchartButtonEl.classList.add('colab-df-spinner');\n",
              "          try {\n",
              "            const charts = await google.colab.kernel.invokeFunction(\n",
              "                'suggestCharts', [key], {});\n",
              "          } catch (error) {\n",
              "            console.error('Error during call to suggestCharts:', error);\n",
              "          }\n",
              "          quickchartButtonEl.classList.remove('colab-df-spinner');\n",
              "          quickchartButtonEl.classList.add('colab-df-quickchart-complete');\n",
              "        }\n",
              "        (() => {\n",
              "          let quickchartButtonEl =\n",
              "            document.querySelector('#df-0edcb222-7b73-4c1f-a629-b0e301f6bfc7 button');\n",
              "          quickchartButtonEl.style.display =\n",
              "            google.colab.kernel.accessAllowed ? 'block' : 'none';\n",
              "        })();\n",
              "      </script>\n",
              "    </div>\n",
              "\n",
              "    </div>\n",
              "  </div>\n"
            ],
            "application/vnd.google.colaboratory.intrinsic+json": {
              "type": "dataframe",
              "summary": "{\n  \"name\": \"data\",\n  \"rows\": 8,\n  \"fields\": [\n    {\n      \"column\": \"Open\",\n      \"properties\": {\n        \"dtype\": \"number\",\n        \"std\": 340.29778304149363,\n        \"min\": 12.614634787446649,\n        \"max\": 1013.0,\n        \"num_unique_values\": 8,\n        \"samples\": [\n          58.0352084254689,\n          59.702999,\n          1013.0\n        ],\n        \"semantic_type\": \"\",\n        \"description\": \"\"\n      }\n    },\n    {\n      \"column\": \"High\",\n      \"properties\": {\n        \"dtype\": \"number\",\n        \"std\": 340.1615304105121,\n        \"min\": 12.716632346269366,\n        \"max\": 1013.0,\n        \"num_unique_values\": 8,\n        \"samples\": [\n          58.5066811875617,\n          60.342999,\n          1013.0\n        ],\n        \"semantic_type\": \"\",\n        \"description\": \"\"\n      }\n    },\n    {\n      \"column\": \"Low\",\n      \"properties\": {\n        \"dtype\": \"number\",\n        \"std\": 340.3830506813027,\n        \"min\": 12.56527864562745,\n        \"max\": 1013.0,\n        \"num_unique_values\": 8,\n        \"samples\": [\n          57.65470550839092,\n          59.209999,\n          1013.0\n        ],\n        \"semantic_type\": \"\",\n        \"description\": \"\"\n      }\n    },\n    {\n      \"column\": \"Close\",\n      \"properties\": {\n        \"dtype\": \"number\",\n        \"std\": 340.28340275187287,\n        \"min\": 12.657407030197088,\n        \"max\": 1013.0,\n        \"num_unique_values\": 8,\n        \"samples\": [\n          58.056509475814416,\n          59.84,\n          1013.0\n        ],\n        \"semantic_type\": \"\",\n        \"description\": \"\"\n      }\n    },\n    {\n      \"column\": \"Adj Close\",\n      \"properties\": {\n        \"dtype\": \"number\",\n        \"std\": 340.28340275187287,\n        \"min\": 12.657407030197088,\n        \"max\": 1013.0,\n        \"num_unique_values\": 8,\n        \"samples\": [\n          58.056509475814416,\n          59.84,\n          1013.0\n        ],\n        \"semantic_type\": \"\",\n        \"description\": \"\"\n      }\n    },\n    {\n      \"column\": \"Volume\",\n      \"properties\": {\n        \"dtype\": \"number\",\n        \"std\": 358.1495846709863,\n        \"min\": 0.0,\n        \"max\": 1013.0,\n        \"num_unique_values\": 2,\n        \"samples\": [\n          0.0,\n          1013.0\n        ],\n        \"semantic_type\": \"\",\n        \"description\": \"\"\n      }\n    }\n  ]\n}"
            }
          },
          "metadata": {},
          "execution_count": 6
        }
      ]
    },
    {
      "cell_type": "code",
      "source": [
        "figure = px.line(data, x ='Date', y='Close')\n",
        "figure.show()"
      ],
      "metadata": {
        "colab": {
          "base_uri": "https://localhost:8080/",
          "height": 542
        },
        "id": "_VNOLN38jK7z",
        "outputId": "33e136eb-677b-4517-c00a-9b03e360df0a"
      },
      "execution_count": 7,
      "outputs": [
        {
          "output_type": "display_data",
          "data": {
            "text/html": [
              "<html>\n",
              "<head><meta charset=\"utf-8\" /></head>\n",
              "<body>\n",
              "    <div>            <script src=\"https://cdnjs.cloudflare.com/ajax/libs/mathjax/2.7.5/MathJax.js?config=TeX-AMS-MML_SVG\"></script><script type=\"text/javascript\">if (window.MathJax && window.MathJax.Hub && window.MathJax.Hub.Config) {window.MathJax.Hub.Config({SVG: {font: \"STIX-Web\"}});}</script>                <script type=\"text/javascript\">window.PlotlyConfig = {MathJaxConfig: 'local'};</script>\n",
              "        <script charset=\"utf-8\" src=\"https://cdn.plot.ly/plotly-2.35.2.min.js\"></script>                <div id=\"e6ae4bc8-2ac3-4bb7-b21f-d18aab70a540\" class=\"plotly-graph-div\" style=\"height:525px; width:100%;\"></div>            <script type=\"text/javascript\">                                    window.PLOTLYENV=window.PLOTLYENV || {};                                    if (document.getElementById(\"e6ae4bc8-2ac3-4bb7-b21f-d18aab70a540\")) {                    Plotly.newPlot(                        \"e6ae4bc8-2ac3-4bb7-b21f-d18aab70a540\",                        [{\"hovertemplate\":\"Date=%{x}\\u003cbr\\u003eClose=%{y}\\u003cextra\\u003e\\u003c\\u002fextra\\u003e\",\"legendgroup\":\"\",\"line\":{\"color\":\"#636efa\",\"dash\":\"solid\"},\"marker\":{\"symbol\":\"circle\"},\"mode\":\"lines\",\"name\":\"\",\"showlegend\":false,\"x\":[\"2003-12-01\",\"2003-12-08\",\"2003-12-15\",\"2003-12-22\",\"2003-12-29\",\"2004-01-05\",\"2004-01-12\",\"2004-01-19\",\"2004-01-26\",\"2004-02-02\",\"2004-02-09\",\"2004-02-16\",\"2004-02-23\",\"2004-03-01\",\"2004-03-08\",\"2004-03-15\",\"2004-03-22\",\"2004-03-29\",\"2004-04-05\",\"2004-04-12\",\"2004-04-19\",\"2004-04-26\",\"2004-05-03\",\"2004-05-10\",\"2004-05-17\",\"2004-05-24\",\"2004-05-31\",\"2004-06-07\",\"2004-06-14\",\"2004-06-21\",\"2004-06-28\",\"2004-07-05\",\"2004-07-12\",\"2004-07-19\",\"2004-07-26\",\"2004-08-02\",\"2004-08-09\",\"2004-08-16\",\"2004-08-23\",\"2004-08-30\",\"2004-09-06\",\"2004-09-13\",\"2004-09-20\",\"2004-09-27\",\"2004-10-04\",\"2004-10-11\",\"2004-10-18\",\"2004-10-25\",\"2004-11-01\",\"2004-11-08\",\"2004-11-15\",\"2004-11-22\",\"2004-11-29\",\"2004-12-06\",\"2004-12-13\",\"2004-12-20\",\"2004-12-27\",\"2005-01-03\",\"2005-01-10\",\"2005-01-17\",\"2005-01-24\",\"2005-01-31\",\"2005-02-07\",\"2005-02-14\",\"2005-02-21\",\"2005-02-28\",\"2005-03-07\",\"2005-03-14\",\"2005-03-21\",\"2005-03-28\",\"2005-04-04\",\"2005-04-11\",\"2005-04-18\",\"2005-04-25\",\"2005-05-02\",\"2005-05-09\",\"2005-05-16\",\"2005-05-23\",\"2005-05-30\",\"2005-06-06\",\"2005-06-13\",\"2005-06-20\",\"2005-06-27\",\"2005-07-04\",\"2005-07-11\",\"2005-07-18\",\"2005-07-25\",\"2005-08-01\",\"2005-08-08\",\"2005-08-15\",\"2005-08-22\",\"2005-08-29\",\"2005-09-05\",\"2005-09-12\",\"2005-09-19\",\"2005-09-26\",\"2005-10-03\",\"2005-10-10\",\"2005-10-17\",\"2005-10-24\",\"2005-10-31\",\"2005-11-07\",\"2005-11-14\",\"2005-11-21\",\"2005-11-28\",\"2005-12-05\",\"2005-12-12\",\"2005-12-19\",\"2005-12-26\",\"2006-01-02\",\"2006-01-09\",\"2006-01-16\",\"2006-01-23\",\"2006-01-30\",\"2006-02-06\",\"2006-02-13\",\"2006-02-20\",\"2006-02-27\",\"2006-03-06\",\"2006-03-13\",\"2006-03-20\",\"2006-03-27\",\"2006-04-03\",\"2006-04-10\",\"2006-04-17\",\"2006-04-24\",\"2006-05-01\",\"2006-05-08\",\"2006-05-15\",\"2006-05-22\",\"2006-05-29\",\"2006-06-05\",\"2006-06-12\",\"2006-06-19\",\"2006-06-26\",\"2006-07-03\",\"2006-07-10\",\"2006-07-17\",\"2006-07-24\",\"2006-07-31\",\"2006-08-07\",\"2006-08-14\",\"2006-08-21\",\"2006-08-28\",\"2006-09-04\",\"2006-09-11\",\"2006-09-18\",\"2006-09-25\",\"2006-10-02\",\"2006-10-09\",\"2006-10-16\",\"2006-10-23\",\"2006-10-30\",\"2006-11-06\",\"2006-11-13\",\"2006-11-20\",\"2006-11-27\",\"2006-12-04\",\"2006-12-11\",\"2006-12-18\",\"2006-12-25\",\"2007-01-01\",\"2007-01-08\",\"2007-01-15\",\"2007-01-22\",\"2007-01-29\",\"2007-02-05\",\"2007-02-12\",\"2007-02-19\",\"2007-02-26\",\"2007-03-05\",\"2007-03-12\",\"2007-03-19\",\"2007-03-26\",\"2007-04-02\",\"2007-04-09\",\"2007-04-16\",\"2007-04-23\",\"2007-04-30\",\"2007-05-07\",\"2007-05-14\",\"2007-05-21\",\"2007-05-28\",\"2007-06-04\",\"2007-06-11\",\"2007-06-18\",\"2007-06-25\",\"2007-07-02\",\"2007-07-09\",\"2007-07-16\",\"2007-07-23\",\"2007-07-30\",\"2007-08-06\",\"2007-08-13\",\"2007-08-20\",\"2007-08-27\",\"2007-09-03\",\"2007-09-10\",\"2007-09-17\",\"2007-09-24\",\"2007-10-01\",\"2007-10-08\",\"2007-10-15\",\"2007-10-22\",\"2007-10-29\",\"2007-11-05\",\"2007-11-12\",\"2007-11-19\",\"2007-11-26\",\"2007-12-03\",\"2007-12-10\",\"2007-12-17\",\"2007-12-24\",\"2007-12-31\",\"2008-01-07\",\"2008-01-14\",\"2008-01-21\",\"2008-01-28\",\"2008-02-04\",\"2008-02-11\",\"2008-02-18\",\"2008-02-25\",\"2008-03-03\",\"2008-03-10\",\"2008-03-17\",\"2008-03-24\",\"2008-03-31\",\"2008-04-07\",\"2008-04-14\",\"2008-04-21\",\"2008-04-28\",\"2008-05-05\",\"2008-05-12\",\"2008-05-19\",\"2008-05-26\",\"2008-06-02\",\"2008-06-09\",\"2008-06-16\",\"2008-06-23\",\"2008-06-30\",\"2008-07-07\",\"2008-07-14\",\"2008-07-21\",\"2008-07-28\",\"2008-08-25\",\"2008-09-01\",\"2008-09-08\",\"2008-09-15\",\"2008-09-22\",\"2008-09-29\",\"2008-10-06\",\"2008-10-13\",\"2008-10-20\",\"2008-10-27\",\"2008-11-03\",\"2008-11-10\",\"2008-11-17\",\"2008-11-24\",\"2008-12-01\",\"2008-12-08\",\"2008-12-15\",\"2008-12-22\",\"2008-12-29\",\"2009-01-05\",\"2009-01-12\",\"2009-01-19\",\"2009-01-26\",\"2009-02-02\",\"2009-02-09\",\"2009-02-16\",\"2009-02-23\",\"2009-03-02\",\"2009-03-09\",\"2009-03-16\",\"2009-03-23\",\"2009-03-30\",\"2009-04-06\",\"2009-04-13\",\"2009-04-20\",\"2009-04-27\",\"2009-05-04\",\"2009-05-11\",\"2009-05-18\",\"2009-05-25\",\"2009-06-01\",\"2009-06-08\",\"2009-06-15\",\"2009-06-22\",\"2009-06-29\",\"2009-07-06\",\"2009-07-13\",\"2009-07-20\",\"2009-07-27\",\"2009-08-03\",\"2009-08-10\",\"2009-08-17\",\"2009-08-24\",\"2009-08-31\",\"2009-09-07\",\"2009-09-14\",\"2009-09-21\",\"2009-09-28\",\"2009-10-05\",\"2009-10-12\",\"2009-10-19\",\"2009-10-26\",\"2009-11-02\",\"2009-11-09\",\"2009-11-16\",\"2009-11-23\",\"2009-11-30\",\"2009-12-07\",\"2009-12-14\",\"2009-12-21\",\"2009-12-28\",\"2010-01-04\",\"2010-01-11\",\"2010-01-18\",\"2010-01-25\",\"2010-02-01\",\"2010-02-08\",\"2010-02-15\",\"2010-02-22\",\"2010-03-01\",\"2010-03-08\",\"2010-03-15\",\"2010-03-22\",\"2010-03-29\",\"2010-04-05\",\"2010-04-12\",\"2010-04-19\",\"2010-04-26\",\"2010-05-03\",\"2010-05-10\",\"2010-05-17\",\"2010-05-24\",\"2010-05-31\",\"2010-06-07\",\"2010-06-14\",\"2010-06-21\",\"2010-06-28\",\"2010-07-05\",\"2010-07-12\",\"2010-07-19\",\"2010-07-26\",\"2010-08-02\",\"2010-08-09\",\"2010-08-16\",\"2010-08-23\",\"2010-08-30\",\"2010-09-06\",\"2010-09-13\",\"2010-09-20\",\"2010-09-27\",\"2010-10-04\",\"2010-10-11\",\"2010-10-18\",\"2010-10-25\",\"2010-11-01\",\"2010-11-08\",\"2010-11-15\",\"2010-11-22\",\"2010-11-29\",\"2010-12-06\",\"2010-12-13\",\"2010-12-20\",\"2010-12-27\",\"2011-01-03\",\"2011-01-10\",\"2011-01-17\",\"2011-01-24\",\"2011-01-31\",\"2011-02-07\",\"2011-02-14\",\"2011-02-21\",\"2011-02-28\",\"2011-03-07\",\"2011-03-14\",\"2011-03-21\",\"2011-03-28\",\"2011-04-04\",\"2011-04-11\",\"2011-04-18\",\"2011-04-25\",\"2011-05-02\",\"2011-05-09\",\"2011-05-16\",\"2011-05-23\",\"2011-05-30\",\"2011-06-06\",\"2011-06-13\",\"2011-06-20\",\"2011-06-27\",\"2011-07-04\",\"2011-07-11\",\"2011-07-18\",\"2011-07-25\",\"2011-08-01\",\"2011-08-08\",\"2011-08-15\",\"2011-08-22\",\"2011-08-29\",\"2011-09-05\",\"2011-09-12\",\"2011-09-19\",\"2011-09-26\",\"2011-10-03\",\"2011-10-10\",\"2011-10-17\",\"2011-10-24\",\"2011-10-31\",\"2011-11-07\",\"2011-11-14\",\"2011-11-21\",\"2011-11-28\",\"2011-12-05\",\"2011-12-12\",\"2011-12-19\",\"2011-12-26\",\"2012-01-02\",\"2012-01-09\",\"2012-01-16\",\"2012-01-23\",\"2012-01-30\",\"2012-02-06\",\"2012-02-13\",\"2012-02-20\",\"2012-02-27\",\"2012-03-05\",\"2012-03-12\",\"2012-03-19\",\"2012-03-26\",\"2012-04-02\",\"2012-04-09\",\"2012-04-16\",\"2012-04-23\",\"2012-04-30\",\"2012-05-07\",\"2012-05-14\",\"2012-05-21\",\"2012-05-28\",\"2012-06-04\",\"2012-06-11\",\"2012-06-18\",\"2012-06-25\",\"2012-07-02\",\"2012-07-09\",\"2012-07-16\",\"2012-07-23\",\"2012-07-30\",\"2012-08-06\",\"2012-08-13\",\"2012-08-20\",\"2012-08-27\",\"2012-09-03\",\"2012-09-10\",\"2012-09-17\",\"2012-09-24\",\"2012-10-01\",\"2012-10-08\",\"2012-10-15\",\"2012-10-22\",\"2012-10-29\",\"2012-11-05\",\"2012-11-12\",\"2012-11-19\",\"2012-11-26\",\"2012-12-03\",\"2012-12-10\",\"2012-12-17\",\"2012-12-24\",\"2012-12-31\",\"2013-01-07\",\"2013-01-14\",\"2013-01-21\",\"2013-01-28\",\"2013-02-04\",\"2013-02-11\",\"2013-02-18\",\"2013-02-25\",\"2013-03-04\",\"2013-03-11\",\"2013-03-18\",\"2013-03-25\",\"2013-04-01\",\"2013-04-08\",\"2013-04-15\",\"2013-04-22\",\"2013-04-29\",\"2013-05-06\",\"2013-05-13\",\"2013-05-20\",\"2013-05-27\",\"2013-06-03\",\"2013-06-10\",\"2013-06-17\",\"2013-06-24\",\"2013-07-01\",\"2013-07-08\",\"2013-07-15\",\"2013-07-22\",\"2013-07-29\",\"2013-08-05\",\"2013-08-12\",\"2013-08-19\",\"2013-08-26\",\"2013-09-02\",\"2013-09-09\",\"2013-09-16\",\"2013-09-23\",\"2013-09-30\",\"2013-10-07\",\"2013-10-14\",\"2013-10-21\",\"2013-10-28\",\"2013-11-04\",\"2013-11-11\",\"2013-11-18\",\"2013-11-25\",\"2013-12-02\",\"2013-12-09\",\"2013-12-16\",\"2013-12-23\",\"2013-12-30\",\"2014-01-06\",\"2014-01-13\",\"2014-01-20\",\"2014-01-27\",\"2014-02-03\",\"2014-02-10\",\"2014-02-17\",\"2014-02-24\",\"2014-03-03\",\"2014-03-10\",\"2014-03-17\",\"2014-03-24\",\"2014-03-31\",\"2014-04-07\",\"2014-04-14\",\"2014-04-21\",\"2014-04-28\",\"2014-05-05\",\"2014-05-12\",\"2014-05-19\",\"2014-05-26\",\"2014-06-02\",\"2014-06-09\",\"2014-06-16\",\"2014-06-23\",\"2014-06-30\",\"2014-07-07\",\"2014-07-14\",\"2014-07-21\",\"2014-07-28\",\"2014-08-04\",\"2014-08-11\",\"2014-08-18\",\"2014-08-25\",\"2014-09-01\",\"2014-09-08\",\"2014-09-15\",\"2014-09-22\",\"2014-09-29\",\"2014-10-06\",\"2014-10-13\",\"2014-10-20\",\"2014-10-27\",\"2014-11-03\",\"2014-11-10\",\"2014-11-17\",\"2014-11-24\",\"2014-12-01\",\"2014-12-08\",\"2014-12-15\",\"2014-12-22\",\"2014-12-29\",\"2015-01-05\",\"2015-01-12\",\"2015-01-19\",\"2015-01-26\",\"2015-02-02\",\"2015-02-09\",\"2015-02-16\",\"2015-02-23\",\"2015-03-02\",\"2015-03-09\",\"2015-03-16\",\"2015-03-23\",\"2015-03-30\",\"2015-04-06\",\"2015-04-13\",\"2015-04-20\",\"2015-04-27\",\"2015-05-04\",\"2015-05-11\",\"2015-05-18\",\"2015-05-25\",\"2015-06-01\",\"2015-06-08\",\"2015-06-15\",\"2015-06-22\",\"2015-06-29\",\"2015-07-06\",\"2015-07-13\",\"2015-07-20\",\"2015-07-27\",\"2015-08-03\",\"2015-08-10\",\"2015-08-17\",\"2015-08-24\",\"2015-08-31\",\"2015-09-07\",\"2015-09-14\",\"2015-09-21\",\"2015-09-28\",\"2015-10-05\",\"2015-10-12\",\"2015-10-19\",\"2015-10-26\",\"2015-11-02\",\"2015-11-09\",\"2015-11-16\",\"2015-11-23\",\"2015-11-30\",\"2015-12-07\",\"2015-12-14\",\"2015-12-21\",\"2015-12-28\",\"2016-01-04\",\"2016-01-11\",\"2016-01-18\",\"2016-01-25\",\"2016-02-01\",\"2016-02-08\",\"2016-02-15\",\"2016-02-22\",\"2016-02-29\",\"2016-03-07\",\"2016-03-14\",\"2016-03-21\",\"2016-03-28\",\"2016-04-04\",\"2016-04-11\",\"2016-04-18\",\"2016-04-25\",\"2016-05-02\",\"2016-05-09\",\"2016-05-16\",\"2016-05-23\",\"2016-05-30\",\"2016-06-06\",\"2016-06-13\",\"2016-06-20\",\"2016-06-27\",\"2016-07-04\",\"2016-07-11\",\"2016-07-18\",\"2016-07-25\",\"2016-08-01\",\"2016-08-08\",\"2016-08-15\",\"2016-08-22\",\"2016-08-29\",\"2016-09-05\",\"2016-09-12\",\"2016-09-19\",\"2016-09-26\",\"2016-10-03\",\"2016-10-10\",\"2016-10-17\",\"2016-10-24\",\"2016-10-31\",\"2016-11-07\",\"2016-11-14\",\"2016-11-21\",\"2016-11-28\",\"2016-12-05\",\"2016-12-12\",\"2016-12-19\",\"2016-12-26\",\"2017-01-02\",\"2017-01-09\",\"2017-01-16\",\"2017-01-23\",\"2017-01-30\",\"2017-02-06\",\"2017-02-13\",\"2017-02-20\",\"2017-02-27\",\"2017-03-06\",\"2017-03-13\",\"2017-03-20\",\"2017-03-27\",\"2017-04-03\",\"2017-04-10\",\"2017-04-17\",\"2017-04-24\",\"2017-05-01\",\"2017-05-08\",\"2017-05-15\",\"2017-05-22\",\"2017-05-29\",\"2017-06-05\",\"2017-06-12\",\"2017-06-19\",\"2017-06-26\",\"2017-07-03\",\"2017-07-10\",\"2017-07-17\",\"2017-07-24\",\"2017-07-31\",\"2017-08-07\",\"2017-08-14\",\"2017-08-21\",\"2017-08-28\",\"2017-09-04\",\"2017-09-11\",\"2017-09-18\",\"2017-09-25\",\"2017-10-02\",\"2017-10-09\",\"2017-10-16\",\"2017-10-23\",\"2017-10-30\",\"2017-11-06\",\"2017-11-13\",\"2017-11-20\",\"2017-11-27\",\"2017-12-04\",\"2017-12-11\",\"2017-12-18\",\"2017-12-25\",\"2018-01-01\",\"2018-01-08\",\"2018-01-15\",\"2018-01-22\",\"2018-01-29\",\"2018-02-05\",\"2018-02-12\",\"2018-02-19\",\"2018-02-26\",\"2018-03-05\",\"2018-03-12\",\"2018-03-19\",\"2018-03-26\",\"2018-04-02\",\"2018-04-09\",\"2018-04-16\",\"2018-04-23\",\"2018-04-30\",\"2018-05-07\",\"2018-05-14\",\"2018-05-21\",\"2018-05-28\",\"2018-06-04\",\"2018-06-11\",\"2018-06-18\",\"2018-06-25\",\"2018-07-02\",\"2018-07-09\",\"2018-07-16\",\"2018-07-23\",\"2018-07-30\",\"2018-08-06\",\"2018-08-13\",\"2018-08-20\",\"2018-08-27\",\"2018-09-03\",\"2018-09-10\",\"2018-09-17\",\"2018-09-24\",\"2018-10-01\",\"2018-10-08\",\"2018-10-15\",\"2018-10-22\",\"2018-10-29\",\"2018-11-05\",\"2018-11-12\",\"2018-11-19\",\"2018-11-26\",\"2018-12-03\",\"2018-12-10\",\"2018-12-17\",\"2018-12-24\",\"2018-12-31\",\"2019-01-07\",\"2019-01-14\",\"2019-01-21\",\"2019-01-28\",\"2019-02-04\",\"2019-02-11\",\"2019-02-18\",\"2019-02-25\",\"2019-03-04\",\"2019-03-11\",\"2019-03-18\",\"2019-03-25\",\"2019-04-01\",\"2019-04-08\",\"2019-04-15\",\"2019-04-22\",\"2019-04-29\",\"2019-05-06\",\"2019-05-13\",\"2019-05-20\",\"2019-05-27\",\"2019-06-03\",\"2019-06-10\",\"2019-06-17\",\"2019-06-24\",\"2019-07-01\",\"2019-07-08\",\"2019-07-15\",\"2019-07-22\",\"2019-07-29\",\"2019-08-05\",\"2019-08-12\",\"2019-08-19\",\"2019-08-26\",\"2019-09-02\",\"2019-09-09\",\"2019-09-16\",\"2019-09-23\",\"2019-09-30\",\"2019-10-07\",\"2019-10-14\",\"2019-10-21\",\"2019-10-28\",\"2019-11-04\",\"2019-11-11\",\"2019-11-18\",\"2019-11-25\",\"2019-12-02\",\"2019-12-09\",\"2019-12-16\",\"2019-12-23\",\"2019-12-30\",\"2020-01-06\",\"2020-01-13\",\"2020-01-20\",\"2020-01-27\",\"2020-02-03\",\"2020-02-10\",\"2020-02-17\",\"2020-02-24\",\"2020-03-02\",\"2020-03-09\",\"2020-03-16\",\"2020-03-23\",\"2020-03-30\",\"2020-04-06\",\"2020-04-13\",\"2020-04-20\",\"2020-04-27\",\"2020-05-04\",\"2020-05-11\",\"2020-05-18\",\"2020-05-25\",\"2020-06-01\",\"2020-06-08\",\"2020-06-15\",\"2020-06-22\",\"2020-06-29\",\"2020-07-06\",\"2020-07-13\",\"2020-07-20\",\"2020-07-27\",\"2020-08-03\",\"2020-08-10\",\"2020-08-17\",\"2020-08-24\",\"2020-08-31\",\"2020-09-07\",\"2020-09-14\",\"2020-09-21\",\"2020-09-28\",\"2020-10-05\",\"2020-10-12\",\"2020-10-19\",\"2020-10-26\",\"2020-11-02\",\"2020-11-09\",\"2020-11-16\",\"2020-11-23\",\"2020-11-30\",\"2020-12-07\",\"2020-12-14\",\"2020-12-21\",\"2020-12-28\",\"2021-01-04\",\"2021-01-11\",\"2021-01-18\",\"2021-01-25\",\"2021-02-01\",\"2021-02-08\",\"2021-02-15\",\"2021-02-22\",\"2021-03-01\",\"2021-03-08\",\"2021-03-15\",\"2021-03-22\",\"2021-03-29\",\"2021-04-05\",\"2021-04-12\",\"2021-04-19\",\"2021-04-26\",\"2021-05-03\",\"2021-05-10\",\"2021-05-17\",\"2021-05-24\",\"2021-05-31\",\"2021-06-07\",\"2021-06-14\",\"2021-06-21\",\"2021-06-28\",\"2021-07-05\",\"2021-07-12\",\"2021-07-19\",\"2021-07-26\",\"2021-08-02\",\"2021-08-09\",\"2021-08-16\",\"2021-08-23\",\"2021-08-30\",\"2021-09-06\",\"2021-09-13\",\"2021-09-20\",\"2021-09-27\",\"2021-10-04\",\"2021-10-11\",\"2021-10-18\",\"2021-10-25\",\"2021-11-01\",\"2021-11-08\",\"2021-11-15\",\"2021-11-22\",\"2021-11-29\",\"2021-12-06\",\"2021-12-13\",\"2021-12-20\",\"2021-12-27\",\"2022-01-03\",\"2022-01-10\",\"2022-01-17\",\"2022-01-24\",\"2022-01-31\",\"2022-02-07\",\"2022-02-14\",\"2022-02-21\",\"2022-02-28\",\"2022-03-07\",\"2022-03-14\",\"2022-03-21\",\"2022-03-28\",\"2022-04-04\",\"2022-04-11\",\"2022-04-18\",\"2022-04-25\",\"2022-05-02\",\"2022-05-09\",\"2022-05-16\",\"2022-05-23\",\"2022-05-30\",\"2022-06-06\",\"2022-06-13\",\"2022-06-20\",\"2022-06-27\",\"2022-07-04\",\"2022-07-11\",\"2022-07-18\",\"2022-07-25\",\"2022-08-01\",\"2022-08-08\",\"2022-08-15\",\"2022-08-22\",\"2022-08-29\",\"2022-09-05\",\"2022-09-12\",\"2022-09-19\",\"2022-09-26\",\"2022-10-03\",\"2022-10-10\",\"2022-10-17\",\"2022-10-24\",\"2022-10-31\",\"2022-11-07\",\"2022-11-14\",\"2022-11-21\",\"2022-11-28\",\"2022-12-05\",\"2022-12-12\",\"2022-12-19\",\"2022-12-26\",\"2023-01-02\",\"2023-01-09\",\"2023-01-16\",\"2023-01-23\",\"2023-01-30\",\"2023-02-06\",\"2023-02-13\",\"2023-02-20\",\"2023-02-27\",\"2023-03-06\",\"2023-03-13\",\"2023-03-20\",\"2023-03-27\",\"2023-04-03\",\"2023-04-10\",\"2023-04-17\",\"2023-04-24\",\"2023-05-01\",\"2023-05-08\",\"2023-05-10\"],\"xaxis\":\"x\",\"y\":[45.48,45.451,45.455002,45.507999,45.560001,45.351002,45.352001,45.243999,45.0,45.290001,45.373001,45.238998,45.195999,45.200001,45.278999,45.104,44.52,43.691002,43.522999,43.740002,44.109001,44.259998,44.529999,45.380001,45.182999,45.219002,44.972,45.066002,45.507999,45.648998,45.501999,45.645,46.088001,46.129002,46.237999,46.111,46.229,46.220001,46.209999,46.257,46.172001,45.771,45.799999,45.993,45.674999,45.743999,45.610001,45.243999,44.959999,45.029999,44.93,44.928001,43.991001,44.569,43.875999,43.612999,43.307999,43.832001,43.52,43.599998,43.580002,43.275002,43.700001,43.66,43.599998,43.567001,43.419998,43.549999,43.619999,43.619999,43.599998,43.700001,43.66,43.431999,43.43,43.360001,43.450001,43.5,43.560001,43.470001,43.459999,43.404999,43.459999,43.540001,43.470001,43.369999,43.360001,43.419998,43.52,43.5,43.599998,43.880001,43.740002,43.799999,43.849998,43.880001,44.259998,44.77,45.009998,44.970001,45.419998,45.48,45.66,45.740002,46.060001,46.139999,45.279999,45.060001,44.970001,44.5,44.07,44.150002,43.939999,44.16,44.040001,44.32,44.290001,44.18,44.459999,44.25,44.424999,44.540001,44.404999,45.0,44.994999,44.805,44.779999,44.825001,45.360001,45.755001,45.605,45.744999,45.625,45.939999,45.880001,45.860001,46.125,46.580002,46.465,46.459999,46.424999,46.400002,46.345001,46.507999,45.994999,45.884998,45.709999,45.715,45.355,45.299999,45.125,45.005001,44.695,44.485001,44.685001,44.529999,44.435001,44.465,44.5,44.305,44.040001,44.220001,44.255001,44.084999,44.040001,43.919998,43.98,44.0,44.200001,44.035,44.009998,43.889999,43.305,43.044998,42.695,42.365002,41.52,40.724998,40.68,40.674999,40.299999,40.52,40.215,40.759998,40.459999,40.494999,40.529999,40.310001,40.200001,40.125,40.32,40.195,40.400002,41.0,40.84,40.575001,40.599998,40.285,39.77,39.575001,39.404999,39.095001,39.450001,39.235001,39.265999,39.044998,39.174999,39.599998,39.362999,39.360001,39.240002,39.235001,39.244999,39.095001,39.095001,39.134998,39.245998,39.055,39.535,39.584999,39.974998,39.91,40.355,40.075001,40.185001,39.615002,39.805,39.775002,39.665001,39.990002,40.485001,41.5,42.435001,42.610001,42.084999,42.564999,42.805,42.799999,42.715,43.084999,42.728001,42.595001,42.084999,42.433998,43.625,44.573002,45.560001,45.705002,46.498001,46.973,48.423,48.823002,49.755001,49.403,47.555,48.783001,49.548,49.568001,49.563,48.233002,47.037998,48.682999,48.244999,48.292999,48.643002,49.018002,48.733002,48.623001,48.598,49.733002,50.893002,51.682999,51.452999,50.563,50.493,49.928001,49.627998,49.803001,49.693001,49.192001,49.147999,49.382999,47.145,47.112999,47.068001,47.308998,48.018002,48.018002,47.807999,48.763,48.563,48.162998,47.625999,47.737999,48.193001,48.432999,48.528,48.868,48.394001,48.037998,47.938,47.627998,46.458,46.217999,46.428001,46.917999,46.740002,46.257999,46.643002,46.553001,46.150002,46.473,46.702999,46.650002,46.610001,45.518002,45.803001,46.223,46.098,46.737999,46.400002,46.252998,46.068001,45.507999,45.498001,45.268002,45.138,44.807999,44.119999,44.318001,44.290001,44.217999,45.417999,45.217999,46.917999,46.327999,46.868,46.778,45.978001,46.358002,46.568001,46.658001,46.702999,46.917999,46.368,46.056,46.709999,46.358002,46.787998,46.599998,46.303001,46.099998,45.450001,44.563,44.200001,44.068001,44.200001,44.419998,44.013,44.240002,45.150002,45.557999,45.130001,45.049999,45.25,45.060001,44.810001,45.18,44.959999,45.778,45.688,45.560001,45.630001,45.209999,45.400002,44.849998,45.110001,45.049999,44.599998,44.450001,44.099998,44.419998,44.259998,44.299999,44.700001,44.709999,44.849998,45.189999,44.759998,44.599998,44.799999,44.849998,44.592999,44.330002,44.400002,44.299999,44.009998,44.563,45.292999,45.709999,46.009998,45.700001,46.130001,47.5,49.473,48.860001,49.040001,49.200001,49.860001,49.790001,49.048,49.959999,50.948002,52.063,51.299999,51.700001,53.209999,52.509998,53.0,52.673,51.432999,50.223,49.388,48.653,49.353001,49.318001,49.007999,49.518002,50.073002,50.132999,51.167999,50.868,51.033001,51.542999,52.068001,52.537998,53.467999,53.627998,54.417999,55.368,55.537998,55.417999,55.388,57.118,55.502998,55.403,55.138,55.318001,55.248001,55.748001,55.278,55.728001,55.498001,55.518002,55.358002,54.298,53.358002,52.848,51.908001,52.803001,53.838001,53.548,53.807999,54.588001,55.158001,55.443001,54.257999,54.338001,54.438,54.848,54.752998,54.880001,54.868,53.737999,53.792999,53.162998,53.588001,54.318001,54.272999,54.897999,54.342999,54.022999,54.342999,54.278,54.803001,54.513,53.932999,54.373001,53.779999,54.803001,54.888,55.813,56.573002,57.057999,57.498001,59.268002,59.526001,60.223,59.883999,59.333,59.060001,61.098,60.723999,62.490002,64.07,66.589996,65.237999,63.290001,62.720001,62.91,61.380001,60.990002,61.240002,61.439999,62.200001,63.34,62.709999,62.240002,62.459999,61.150002,62.188,62.02,61.669998,62.23,61.439999,61.549999,62.73,62.5,62.09,61.830002,62.009998,61.82,61.23,60.98,61.02,59.84,59.669998,60.34,60.150002,60.630001,60.02,59.849998,58.560001,58.419998,58.900002,59.167999,59.702999,60.167999,60.080002,59.717999,60.088001,60.278,60.053001,61.208,61.138,60.772999,60.463001,60.513,60.369999,60.647999,60.853001,61.138,61.537998,61.278,61.358002,61.162998,61.432999,61.493,61.708,61.759998,61.853001,61.910999,62.518002,62.983002,63.59,63.028,62.667999,62.057999,61.598,62.013,61.733002,62.069,62.165001,61.754002,62.443001,63.076,62.483002,62.828999,62.060001,62.313999,62.542999,63.654999,63.522999,64.082001,63.408001,63.625999,63.825001,64.000999,63.999001,63.645,63.511002,63.369999,63.363998,63.484001,63.848,64.117996,63.733002,65.268997,65.460999,66.055,66.160004,66.319,66.122002,66.221001,65.617996,64.772003,64.783997,65.050003,65.444,65.860001,66.047997,66.084999,66.557999,66.803001,66.786003,66.459,65.940002,66.193001,66.920998,67.304001,67.541,68.093002,67.802002,68.473999,68.538002,68.796997,67.142998,67.308998,66.375999,66.906998,66.358002,66.543999,66.637001,66.512001,66.417999,66.601997,66.750999,67.422997,67.024002,67.292,66.740997,67.066002,67.241997,67.181999,67.132004,67.133003,67.153999,66.648003,66.841003,66.899597,67.127502,67.128998,66.5728,66.778,67.0653,66.696503,66.546501,66.591202,66.705299,66.911201,66.781403,66.785301,67.546799,68.169998,68.508499,68.011497,67.460503,67.834999,67.830803,67.944801,68.142601,68.157799,68.077202,68.110001,67.157303,66.843697,67.065201,66.635002,66.773003,66.485001,65.468102,65.393097,64.7967,64.260002,64.453697,64.639999,64.258301,64.169998,64.165497,64.448502,64.513199,64.404999,64.376999,64.394997,64.498001,64.606796,64.611702,64.267303,64.461098,64.123497,63.6651,64.081001,64.075897,63.995499,64.015503,63.931,64.120201,64.890999,65.293297,65.4142,64.672997,65.104103,65.032997,64.693398,65.182999,65.008003,64.544998,64.513,64.473,64.072998,64.007797,63.840801,63.333,63.588501,63.823002,63.573101,64.1325,64.211304,64.379997,64.703003,65.186699,65.090401,65.014397,65.014999,65.069801,64.904503,65.195602,66.203003,66.610001,66.809998,67.382202,67.974998,67.721703,66.987999,67.523003,68.449997,67.830002,68.434998,68.754997,68.486702,68.733002,68.610001,68.510002,69.080002,69.779999,70.275002,70.995003,72.095001,72.027496,72.230003,72.510002,73.763,74.160004,74.160004,73.125,72.904999,72.470001,71.973,70.648003,69.642998,70.75,71.546997,70.129997,69.849998,69.525002,70.370003,71.030197,70.970001,71.449997,71.099998,71.32,71.028,70.989998,69.9869,69.337303,69.160004,69.43,68.970398,69.182999,69.380997,69.844299,69.4244,70.410004,70.235001,69.373001,69.980003,69.360001,69.859001,69.779999,69.324997,68.440002,68.550301,68.913597,69.150497,69.297203,70.470901,71.720001,71.727097,71.680199,71.669998,71.020699,71.717499,70.639999,70.822502,71.029999,71.422501,70.830002,70.5121,71.361267,71.705803,71.7826,71.723,71.286797,70.689003,71.024002,71.313004,71.731003,70.953003,71.034698,71.324997,71.496498,71.515503,71.514801,71.886803,72.150002,73.9953,73.903999,75.159698,74.875504,77.139999,76.166496,76.490997,76.301498,75.830498,75.503502,75.822998,75.977501,75.513199,75.564003,75.956497,76.239799,75.627502,74.6782,75.188004,74.927002,74.669701,74.8769,75.017998,74.849701,74.875298,73.125,73.172699,73.425499,73.602898,73.695999,73.260902,72.959702,73.443001,73.822899,74.264,73.979797,74.487701,74.162399,73.940903,73.790298,73.737999,73.6036,73.689003,73.092003,73.373398,73.158997,72.954903,72.906601,72.784798,72.590797,72.563004,73.595901,73.1334,72.689003,72.441803,72.612801,73.2873,74.729202,74.532997,75.211502,74.087997,73.253998,73.444901,73.021896,72.682999,73.044197,73.012299,74.253899,74.220001,74.743797,74.487,74.901299,74.427002,74.251999,74.203003,74.260101,74.345001,74.155998,73.054298,73.538002,73.564903,73.839996,74.254402,75.2985,74.995003,74.999001,74.797203,74.478104,74.347,74.1744,74.505798,75.464996,75.792297,76.305,75.067398,74.431198,74.4673,73.972298,74.452202,74.994301,74.643898,75.579597,75.063004,75.068001,76.417999,76.310303,75.981598,76.276001,75.919098,75.9132,76.3088,76.441704,76.588997,76.541801,77.443802,77.421097,77.630203,77.643898,78.148804,77.961403,78.142403,78.962997,79.332397,79.685204,79.876503,79.571503,79.591003,79.613998,79.886597,79.956299,79.716797,79.648003,79.653198,81.219498,81.480598,82.7836,82.192101,82.513496,82.442497,81.974998,80.547897,81.500198,81.5979,81.43,82.434601,82.681801,82.604103,82.739502,82.270599,81.284798,80.975998,81.514297,82.491096,82.494698,82.814903,82.932999,81.712502,82.018303,82.532402,82.347198,82.100502,81.875,81.846001,82.1409,81.745399,81.716103,81.787102,81.93],\"yaxis\":\"y\",\"type\":\"scattergl\"}],                        {\"template\":{\"data\":{\"histogram2dcontour\":[{\"type\":\"histogram2dcontour\",\"colorbar\":{\"outlinewidth\":0,\"ticks\":\"\"},\"colorscale\":[[0.0,\"#0d0887\"],[0.1111111111111111,\"#46039f\"],[0.2222222222222222,\"#7201a8\"],[0.3333333333333333,\"#9c179e\"],[0.4444444444444444,\"#bd3786\"],[0.5555555555555556,\"#d8576b\"],[0.6666666666666666,\"#ed7953\"],[0.7777777777777778,\"#fb9f3a\"],[0.8888888888888888,\"#fdca26\"],[1.0,\"#f0f921\"]]}],\"choropleth\":[{\"type\":\"choropleth\",\"colorbar\":{\"outlinewidth\":0,\"ticks\":\"\"}}],\"histogram2d\":[{\"type\":\"histogram2d\",\"colorbar\":{\"outlinewidth\":0,\"ticks\":\"\"},\"colorscale\":[[0.0,\"#0d0887\"],[0.1111111111111111,\"#46039f\"],[0.2222222222222222,\"#7201a8\"],[0.3333333333333333,\"#9c179e\"],[0.4444444444444444,\"#bd3786\"],[0.5555555555555556,\"#d8576b\"],[0.6666666666666666,\"#ed7953\"],[0.7777777777777778,\"#fb9f3a\"],[0.8888888888888888,\"#fdca26\"],[1.0,\"#f0f921\"]]}],\"heatmap\":[{\"type\":\"heatmap\",\"colorbar\":{\"outlinewidth\":0,\"ticks\":\"\"},\"colorscale\":[[0.0,\"#0d0887\"],[0.1111111111111111,\"#46039f\"],[0.2222222222222222,\"#7201a8\"],[0.3333333333333333,\"#9c179e\"],[0.4444444444444444,\"#bd3786\"],[0.5555555555555556,\"#d8576b\"],[0.6666666666666666,\"#ed7953\"],[0.7777777777777778,\"#fb9f3a\"],[0.8888888888888888,\"#fdca26\"],[1.0,\"#f0f921\"]]}],\"heatmapgl\":[{\"type\":\"heatmapgl\",\"colorbar\":{\"outlinewidth\":0,\"ticks\":\"\"},\"colorscale\":[[0.0,\"#0d0887\"],[0.1111111111111111,\"#46039f\"],[0.2222222222222222,\"#7201a8\"],[0.3333333333333333,\"#9c179e\"],[0.4444444444444444,\"#bd3786\"],[0.5555555555555556,\"#d8576b\"],[0.6666666666666666,\"#ed7953\"],[0.7777777777777778,\"#fb9f3a\"],[0.8888888888888888,\"#fdca26\"],[1.0,\"#f0f921\"]]}],\"contourcarpet\":[{\"type\":\"contourcarpet\",\"colorbar\":{\"outlinewidth\":0,\"ticks\":\"\"}}],\"contour\":[{\"type\":\"contour\",\"colorbar\":{\"outlinewidth\":0,\"ticks\":\"\"},\"colorscale\":[[0.0,\"#0d0887\"],[0.1111111111111111,\"#46039f\"],[0.2222222222222222,\"#7201a8\"],[0.3333333333333333,\"#9c179e\"],[0.4444444444444444,\"#bd3786\"],[0.5555555555555556,\"#d8576b\"],[0.6666666666666666,\"#ed7953\"],[0.7777777777777778,\"#fb9f3a\"],[0.8888888888888888,\"#fdca26\"],[1.0,\"#f0f921\"]]}],\"surface\":[{\"type\":\"surface\",\"colorbar\":{\"outlinewidth\":0,\"ticks\":\"\"},\"colorscale\":[[0.0,\"#0d0887\"],[0.1111111111111111,\"#46039f\"],[0.2222222222222222,\"#7201a8\"],[0.3333333333333333,\"#9c179e\"],[0.4444444444444444,\"#bd3786\"],[0.5555555555555556,\"#d8576b\"],[0.6666666666666666,\"#ed7953\"],[0.7777777777777778,\"#fb9f3a\"],[0.8888888888888888,\"#fdca26\"],[1.0,\"#f0f921\"]]}],\"mesh3d\":[{\"type\":\"mesh3d\",\"colorbar\":{\"outlinewidth\":0,\"ticks\":\"\"}}],\"scatter\":[{\"fillpattern\":{\"fillmode\":\"overlay\",\"size\":10,\"solidity\":0.2},\"type\":\"scatter\"}],\"parcoords\":[{\"type\":\"parcoords\",\"line\":{\"colorbar\":{\"outlinewidth\":0,\"ticks\":\"\"}}}],\"scatterpolargl\":[{\"type\":\"scatterpolargl\",\"marker\":{\"colorbar\":{\"outlinewidth\":0,\"ticks\":\"\"}}}],\"bar\":[{\"error_x\":{\"color\":\"#2a3f5f\"},\"error_y\":{\"color\":\"#2a3f5f\"},\"marker\":{\"line\":{\"color\":\"#E5ECF6\",\"width\":0.5},\"pattern\":{\"fillmode\":\"overlay\",\"size\":10,\"solidity\":0.2}},\"type\":\"bar\"}],\"scattergeo\":[{\"type\":\"scattergeo\",\"marker\":{\"colorbar\":{\"outlinewidth\":0,\"ticks\":\"\"}}}],\"scatterpolar\":[{\"type\":\"scatterpolar\",\"marker\":{\"colorbar\":{\"outlinewidth\":0,\"ticks\":\"\"}}}],\"histogram\":[{\"marker\":{\"pattern\":{\"fillmode\":\"overlay\",\"size\":10,\"solidity\":0.2}},\"type\":\"histogram\"}],\"scattergl\":[{\"type\":\"scattergl\",\"marker\":{\"colorbar\":{\"outlinewidth\":0,\"ticks\":\"\"}}}],\"scatter3d\":[{\"type\":\"scatter3d\",\"line\":{\"colorbar\":{\"outlinewidth\":0,\"ticks\":\"\"}},\"marker\":{\"colorbar\":{\"outlinewidth\":0,\"ticks\":\"\"}}}],\"scattermapbox\":[{\"type\":\"scattermapbox\",\"marker\":{\"colorbar\":{\"outlinewidth\":0,\"ticks\":\"\"}}}],\"scatterternary\":[{\"type\":\"scatterternary\",\"marker\":{\"colorbar\":{\"outlinewidth\":0,\"ticks\":\"\"}}}],\"scattercarpet\":[{\"type\":\"scattercarpet\",\"marker\":{\"colorbar\":{\"outlinewidth\":0,\"ticks\":\"\"}}}],\"carpet\":[{\"aaxis\":{\"endlinecolor\":\"#2a3f5f\",\"gridcolor\":\"white\",\"linecolor\":\"white\",\"minorgridcolor\":\"white\",\"startlinecolor\":\"#2a3f5f\"},\"baxis\":{\"endlinecolor\":\"#2a3f5f\",\"gridcolor\":\"white\",\"linecolor\":\"white\",\"minorgridcolor\":\"white\",\"startlinecolor\":\"#2a3f5f\"},\"type\":\"carpet\"}],\"table\":[{\"cells\":{\"fill\":{\"color\":\"#EBF0F8\"},\"line\":{\"color\":\"white\"}},\"header\":{\"fill\":{\"color\":\"#C8D4E3\"},\"line\":{\"color\":\"white\"}},\"type\":\"table\"}],\"barpolar\":[{\"marker\":{\"line\":{\"color\":\"#E5ECF6\",\"width\":0.5},\"pattern\":{\"fillmode\":\"overlay\",\"size\":10,\"solidity\":0.2}},\"type\":\"barpolar\"}],\"pie\":[{\"automargin\":true,\"type\":\"pie\"}]},\"layout\":{\"autotypenumbers\":\"strict\",\"colorway\":[\"#636efa\",\"#EF553B\",\"#00cc96\",\"#ab63fa\",\"#FFA15A\",\"#19d3f3\",\"#FF6692\",\"#B6E880\",\"#FF97FF\",\"#FECB52\"],\"font\":{\"color\":\"#2a3f5f\"},\"hovermode\":\"closest\",\"hoverlabel\":{\"align\":\"left\"},\"paper_bgcolor\":\"white\",\"plot_bgcolor\":\"#E5ECF6\",\"polar\":{\"bgcolor\":\"#E5ECF6\",\"angularaxis\":{\"gridcolor\":\"white\",\"linecolor\":\"white\",\"ticks\":\"\"},\"radialaxis\":{\"gridcolor\":\"white\",\"linecolor\":\"white\",\"ticks\":\"\"}},\"ternary\":{\"bgcolor\":\"#E5ECF6\",\"aaxis\":{\"gridcolor\":\"white\",\"linecolor\":\"white\",\"ticks\":\"\"},\"baxis\":{\"gridcolor\":\"white\",\"linecolor\":\"white\",\"ticks\":\"\"},\"caxis\":{\"gridcolor\":\"white\",\"linecolor\":\"white\",\"ticks\":\"\"}},\"coloraxis\":{\"colorbar\":{\"outlinewidth\":0,\"ticks\":\"\"}},\"colorscale\":{\"sequential\":[[0.0,\"#0d0887\"],[0.1111111111111111,\"#46039f\"],[0.2222222222222222,\"#7201a8\"],[0.3333333333333333,\"#9c179e\"],[0.4444444444444444,\"#bd3786\"],[0.5555555555555556,\"#d8576b\"],[0.6666666666666666,\"#ed7953\"],[0.7777777777777778,\"#fb9f3a\"],[0.8888888888888888,\"#fdca26\"],[1.0,\"#f0f921\"]],\"sequentialminus\":[[0.0,\"#0d0887\"],[0.1111111111111111,\"#46039f\"],[0.2222222222222222,\"#7201a8\"],[0.3333333333333333,\"#9c179e\"],[0.4444444444444444,\"#bd3786\"],[0.5555555555555556,\"#d8576b\"],[0.6666666666666666,\"#ed7953\"],[0.7777777777777778,\"#fb9f3a\"],[0.8888888888888888,\"#fdca26\"],[1.0,\"#f0f921\"]],\"diverging\":[[0,\"#8e0152\"],[0.1,\"#c51b7d\"],[0.2,\"#de77ae\"],[0.3,\"#f1b6da\"],[0.4,\"#fde0ef\"],[0.5,\"#f7f7f7\"],[0.6,\"#e6f5d0\"],[0.7,\"#b8e186\"],[0.8,\"#7fbc41\"],[0.9,\"#4d9221\"],[1,\"#276419\"]]},\"xaxis\":{\"gridcolor\":\"white\",\"linecolor\":\"white\",\"ticks\":\"\",\"title\":{\"standoff\":15},\"zerolinecolor\":\"white\",\"automargin\":true,\"zerolinewidth\":2},\"yaxis\":{\"gridcolor\":\"white\",\"linecolor\":\"white\",\"ticks\":\"\",\"title\":{\"standoff\":15},\"zerolinecolor\":\"white\",\"automargin\":true,\"zerolinewidth\":2},\"scene\":{\"xaxis\":{\"backgroundcolor\":\"#E5ECF6\",\"gridcolor\":\"white\",\"linecolor\":\"white\",\"showbackground\":true,\"ticks\":\"\",\"zerolinecolor\":\"white\",\"gridwidth\":2},\"yaxis\":{\"backgroundcolor\":\"#E5ECF6\",\"gridcolor\":\"white\",\"linecolor\":\"white\",\"showbackground\":true,\"ticks\":\"\",\"zerolinecolor\":\"white\",\"gridwidth\":2},\"zaxis\":{\"backgroundcolor\":\"#E5ECF6\",\"gridcolor\":\"white\",\"linecolor\":\"white\",\"showbackground\":true,\"ticks\":\"\",\"zerolinecolor\":\"white\",\"gridwidth\":2}},\"shapedefaults\":{\"line\":{\"color\":\"#2a3f5f\"}},\"annotationdefaults\":{\"arrowcolor\":\"#2a3f5f\",\"arrowhead\":0,\"arrowwidth\":1},\"geo\":{\"bgcolor\":\"white\",\"landcolor\":\"#E5ECF6\",\"subunitcolor\":\"white\",\"showland\":true,\"showlakes\":true,\"lakecolor\":\"white\"},\"title\":{\"x\":0.05},\"mapbox\":{\"style\":\"light\"}}},\"xaxis\":{\"anchor\":\"y\",\"domain\":[0.0,1.0],\"title\":{\"text\":\"Date\"}},\"yaxis\":{\"anchor\":\"x\",\"domain\":[0.0,1.0],\"title\":{\"text\":\"Close\"}},\"legend\":{\"tracegroupgap\":0},\"margin\":{\"t\":60}},                        {\"responsive\": true}                    ).then(function(){\n",
              "                            \n",
              "var gd = document.getElementById('e6ae4bc8-2ac3-4bb7-b21f-d18aab70a540');\n",
              "var x = new MutationObserver(function (mutations, observer) {{\n",
              "        var display = window.getComputedStyle(gd).display;\n",
              "        if (!display || display === 'none') {{\n",
              "            console.log([gd, 'removed!']);\n",
              "            Plotly.purge(gd);\n",
              "            observer.disconnect();\n",
              "        }}\n",
              "}});\n",
              "\n",
              "// Listen for the removal of the full notebook cells\n",
              "var notebookContainer = gd.closest('#notebook-container');\n",
              "if (notebookContainer) {{\n",
              "    x.observe(notebookContainer, {childList: true});\n",
              "}}\n",
              "\n",
              "// Listen for the clearing of the current output cell\n",
              "var outputEl = gd.closest('.output');\n",
              "if (outputEl) {{\n",
              "    x.observe(outputEl, {childList: true});\n",
              "}}\n",
              "\n",
              "                        })                };                            </script>        </div>\n",
              "</body>\n",
              "</html>"
            ]
          },
          "metadata": {}
        }
      ]
    },
    {
      "cell_type": "code",
      "source": [
        "data['Date'] = pd.to_datetime(data['Date'], format='%Y-%m-%d')\n",
        "data['Year'] = data['Date'].dt.year\n",
        "data['Month'] = data['Date'].dt.month\n",
        "print(data.head())"
      ],
      "metadata": {
        "colab": {
          "base_uri": "https://localhost:8080/"
        },
        "id": "2cG9mCF_jdoX",
        "outputId": "e2bcf81d-b5bf-4d3f-953c-49fff3ed3fee"
      },
      "execution_count": 8,
      "outputs": [
        {
          "output_type": "stream",
          "name": "stdout",
          "text": [
            "        Date       Open       High        Low      Close  Adj Close  Volume  \\\n",
            "0 2003-12-01  45.709000  45.728001  45.449001  45.480000  45.480000     0.0   \n",
            "1 2003-12-08  45.474998  45.507999  45.352001  45.451000  45.451000     0.0   \n",
            "2 2003-12-15  45.450001  45.500000  45.332001  45.455002  45.455002     0.0   \n",
            "3 2003-12-22  45.417000  45.549000  45.296001  45.507999  45.507999     0.0   \n",
            "4 2003-12-29  45.439999  45.645000  45.421001  45.560001  45.560001     0.0   \n",
            "\n",
            "   Year  Month  \n",
            "0  2003     12  \n",
            "1  2003     12  \n",
            "2  2003     12  \n",
            "3  2003     12  \n",
            "4  2003     12  \n"
          ]
        }
      ]
    },
    {
      "cell_type": "markdown",
      "source": [
        "Aggregated Yearly Growth of the conversion rates in %"
      ],
      "metadata": {
        "id": "U6LdhONcm0Ib"
      }
    },
    {
      "cell_type": "code",
      "source": [
        "import plotly.graph_objs as go\n",
        "import plotly.io as pio\n",
        "\n",
        "# calculate yearly growth\n",
        "growth = data.groupby('Year').agg({'Close': lambda x: (x.iloc[-1]-x.iloc[0])/x.iloc[0]*100})\n",
        "\n",
        "fig = go.Figure()\n",
        "fig.add_trace(go.Bar(x=growth.index, y=growth['Close'], name='Yealry Growth'))\n",
        "\n",
        "fig.update_layout(title='Yearly Growth', xaxis_title='Year', yaxis_title='Growth')\n",
        "pio.show(fig)\n"
      ],
      "metadata": {
        "colab": {
          "base_uri": "https://localhost:8080/",
          "height": 542
        },
        "id": "A8zuxgnSjpwU",
        "outputId": "872674ef-1f38-41b0-bce9-55b2e66fea79"
      },
      "execution_count": 9,
      "outputs": [
        {
          "output_type": "display_data",
          "data": {
            "text/html": [
              "<html>\n",
              "<head><meta charset=\"utf-8\" /></head>\n",
              "<body>\n",
              "    <div>            <script src=\"https://cdnjs.cloudflare.com/ajax/libs/mathjax/2.7.5/MathJax.js?config=TeX-AMS-MML_SVG\"></script><script type=\"text/javascript\">if (window.MathJax && window.MathJax.Hub && window.MathJax.Hub.Config) {window.MathJax.Hub.Config({SVG: {font: \"STIX-Web\"}});}</script>                <script type=\"text/javascript\">window.PlotlyConfig = {MathJaxConfig: 'local'};</script>\n",
              "        <script charset=\"utf-8\" src=\"https://cdn.plot.ly/plotly-2.35.2.min.js\"></script>                <div id=\"5ad38535-031f-41d0-b0d6-883891941a58\" class=\"plotly-graph-div\" style=\"height:525px; width:100%;\"></div>            <script type=\"text/javascript\">                                    window.PLOTLYENV=window.PLOTLYENV || {};                                    if (document.getElementById(\"5ad38535-031f-41d0-b0d6-883891941a58\")) {                    Plotly.newPlot(                        \"5ad38535-031f-41d0-b0d6-883891941a58\",                        [{\"name\":\"Yealry Growth\",\"x\":[2003,2004,2005,2006,2007,2008,2009,2010,2011,2012,2013,2014,2015,2016,2017,2018,2019,2020,2021,2022,2023],\"y\":[0.17590369393140476,-4.50486849221104,2.596276633594723,-1.0337056179775357,-11.589778118729575,23.404521718774213,-3.484973049613268,-1.5554307502337272,17.30854360336432,4.190004366563511,13.417656922067497,2.5846370863384918,5.624883602873603,1.5298680990979856,-6.312937775885602,9.77689672050906,1.9340627284043237,3.014671556607703,1.4416669103971447,11.10850265821375,-0.4139984443288148],\"type\":\"bar\"}],                        {\"template\":{\"data\":{\"histogram2dcontour\":[{\"type\":\"histogram2dcontour\",\"colorbar\":{\"outlinewidth\":0,\"ticks\":\"\"},\"colorscale\":[[0.0,\"#0d0887\"],[0.1111111111111111,\"#46039f\"],[0.2222222222222222,\"#7201a8\"],[0.3333333333333333,\"#9c179e\"],[0.4444444444444444,\"#bd3786\"],[0.5555555555555556,\"#d8576b\"],[0.6666666666666666,\"#ed7953\"],[0.7777777777777778,\"#fb9f3a\"],[0.8888888888888888,\"#fdca26\"],[1.0,\"#f0f921\"]]}],\"choropleth\":[{\"type\":\"choropleth\",\"colorbar\":{\"outlinewidth\":0,\"ticks\":\"\"}}],\"histogram2d\":[{\"type\":\"histogram2d\",\"colorbar\":{\"outlinewidth\":0,\"ticks\":\"\"},\"colorscale\":[[0.0,\"#0d0887\"],[0.1111111111111111,\"#46039f\"],[0.2222222222222222,\"#7201a8\"],[0.3333333333333333,\"#9c179e\"],[0.4444444444444444,\"#bd3786\"],[0.5555555555555556,\"#d8576b\"],[0.6666666666666666,\"#ed7953\"],[0.7777777777777778,\"#fb9f3a\"],[0.8888888888888888,\"#fdca26\"],[1.0,\"#f0f921\"]]}],\"heatmap\":[{\"type\":\"heatmap\",\"colorbar\":{\"outlinewidth\":0,\"ticks\":\"\"},\"colorscale\":[[0.0,\"#0d0887\"],[0.1111111111111111,\"#46039f\"],[0.2222222222222222,\"#7201a8\"],[0.3333333333333333,\"#9c179e\"],[0.4444444444444444,\"#bd3786\"],[0.5555555555555556,\"#d8576b\"],[0.6666666666666666,\"#ed7953\"],[0.7777777777777778,\"#fb9f3a\"],[0.8888888888888888,\"#fdca26\"],[1.0,\"#f0f921\"]]}],\"heatmapgl\":[{\"type\":\"heatmapgl\",\"colorbar\":{\"outlinewidth\":0,\"ticks\":\"\"},\"colorscale\":[[0.0,\"#0d0887\"],[0.1111111111111111,\"#46039f\"],[0.2222222222222222,\"#7201a8\"],[0.3333333333333333,\"#9c179e\"],[0.4444444444444444,\"#bd3786\"],[0.5555555555555556,\"#d8576b\"],[0.6666666666666666,\"#ed7953\"],[0.7777777777777778,\"#fb9f3a\"],[0.8888888888888888,\"#fdca26\"],[1.0,\"#f0f921\"]]}],\"contourcarpet\":[{\"type\":\"contourcarpet\",\"colorbar\":{\"outlinewidth\":0,\"ticks\":\"\"}}],\"contour\":[{\"type\":\"contour\",\"colorbar\":{\"outlinewidth\":0,\"ticks\":\"\"},\"colorscale\":[[0.0,\"#0d0887\"],[0.1111111111111111,\"#46039f\"],[0.2222222222222222,\"#7201a8\"],[0.3333333333333333,\"#9c179e\"],[0.4444444444444444,\"#bd3786\"],[0.5555555555555556,\"#d8576b\"],[0.6666666666666666,\"#ed7953\"],[0.7777777777777778,\"#fb9f3a\"],[0.8888888888888888,\"#fdca26\"],[1.0,\"#f0f921\"]]}],\"surface\":[{\"type\":\"surface\",\"colorbar\":{\"outlinewidth\":0,\"ticks\":\"\"},\"colorscale\":[[0.0,\"#0d0887\"],[0.1111111111111111,\"#46039f\"],[0.2222222222222222,\"#7201a8\"],[0.3333333333333333,\"#9c179e\"],[0.4444444444444444,\"#bd3786\"],[0.5555555555555556,\"#d8576b\"],[0.6666666666666666,\"#ed7953\"],[0.7777777777777778,\"#fb9f3a\"],[0.8888888888888888,\"#fdca26\"],[1.0,\"#f0f921\"]]}],\"mesh3d\":[{\"type\":\"mesh3d\",\"colorbar\":{\"outlinewidth\":0,\"ticks\":\"\"}}],\"scatter\":[{\"fillpattern\":{\"fillmode\":\"overlay\",\"size\":10,\"solidity\":0.2},\"type\":\"scatter\"}],\"parcoords\":[{\"type\":\"parcoords\",\"line\":{\"colorbar\":{\"outlinewidth\":0,\"ticks\":\"\"}}}],\"scatterpolargl\":[{\"type\":\"scatterpolargl\",\"marker\":{\"colorbar\":{\"outlinewidth\":0,\"ticks\":\"\"}}}],\"bar\":[{\"error_x\":{\"color\":\"#2a3f5f\"},\"error_y\":{\"color\":\"#2a3f5f\"},\"marker\":{\"line\":{\"color\":\"#E5ECF6\",\"width\":0.5},\"pattern\":{\"fillmode\":\"overlay\",\"size\":10,\"solidity\":0.2}},\"type\":\"bar\"}],\"scattergeo\":[{\"type\":\"scattergeo\",\"marker\":{\"colorbar\":{\"outlinewidth\":0,\"ticks\":\"\"}}}],\"scatterpolar\":[{\"type\":\"scatterpolar\",\"marker\":{\"colorbar\":{\"outlinewidth\":0,\"ticks\":\"\"}}}],\"histogram\":[{\"marker\":{\"pattern\":{\"fillmode\":\"overlay\",\"size\":10,\"solidity\":0.2}},\"type\":\"histogram\"}],\"scattergl\":[{\"type\":\"scattergl\",\"marker\":{\"colorbar\":{\"outlinewidth\":0,\"ticks\":\"\"}}}],\"scatter3d\":[{\"type\":\"scatter3d\",\"line\":{\"colorbar\":{\"outlinewidth\":0,\"ticks\":\"\"}},\"marker\":{\"colorbar\":{\"outlinewidth\":0,\"ticks\":\"\"}}}],\"scattermapbox\":[{\"type\":\"scattermapbox\",\"marker\":{\"colorbar\":{\"outlinewidth\":0,\"ticks\":\"\"}}}],\"scatterternary\":[{\"type\":\"scatterternary\",\"marker\":{\"colorbar\":{\"outlinewidth\":0,\"ticks\":\"\"}}}],\"scattercarpet\":[{\"type\":\"scattercarpet\",\"marker\":{\"colorbar\":{\"outlinewidth\":0,\"ticks\":\"\"}}}],\"carpet\":[{\"aaxis\":{\"endlinecolor\":\"#2a3f5f\",\"gridcolor\":\"white\",\"linecolor\":\"white\",\"minorgridcolor\":\"white\",\"startlinecolor\":\"#2a3f5f\"},\"baxis\":{\"endlinecolor\":\"#2a3f5f\",\"gridcolor\":\"white\",\"linecolor\":\"white\",\"minorgridcolor\":\"white\",\"startlinecolor\":\"#2a3f5f\"},\"type\":\"carpet\"}],\"table\":[{\"cells\":{\"fill\":{\"color\":\"#EBF0F8\"},\"line\":{\"color\":\"white\"}},\"header\":{\"fill\":{\"color\":\"#C8D4E3\"},\"line\":{\"color\":\"white\"}},\"type\":\"table\"}],\"barpolar\":[{\"marker\":{\"line\":{\"color\":\"#E5ECF6\",\"width\":0.5},\"pattern\":{\"fillmode\":\"overlay\",\"size\":10,\"solidity\":0.2}},\"type\":\"barpolar\"}],\"pie\":[{\"automargin\":true,\"type\":\"pie\"}]},\"layout\":{\"autotypenumbers\":\"strict\",\"colorway\":[\"#636efa\",\"#EF553B\",\"#00cc96\",\"#ab63fa\",\"#FFA15A\",\"#19d3f3\",\"#FF6692\",\"#B6E880\",\"#FF97FF\",\"#FECB52\"],\"font\":{\"color\":\"#2a3f5f\"},\"hovermode\":\"closest\",\"hoverlabel\":{\"align\":\"left\"},\"paper_bgcolor\":\"white\",\"plot_bgcolor\":\"#E5ECF6\",\"polar\":{\"bgcolor\":\"#E5ECF6\",\"angularaxis\":{\"gridcolor\":\"white\",\"linecolor\":\"white\",\"ticks\":\"\"},\"radialaxis\":{\"gridcolor\":\"white\",\"linecolor\":\"white\",\"ticks\":\"\"}},\"ternary\":{\"bgcolor\":\"#E5ECF6\",\"aaxis\":{\"gridcolor\":\"white\",\"linecolor\":\"white\",\"ticks\":\"\"},\"baxis\":{\"gridcolor\":\"white\",\"linecolor\":\"white\",\"ticks\":\"\"},\"caxis\":{\"gridcolor\":\"white\",\"linecolor\":\"white\",\"ticks\":\"\"}},\"coloraxis\":{\"colorbar\":{\"outlinewidth\":0,\"ticks\":\"\"}},\"colorscale\":{\"sequential\":[[0.0,\"#0d0887\"],[0.1111111111111111,\"#46039f\"],[0.2222222222222222,\"#7201a8\"],[0.3333333333333333,\"#9c179e\"],[0.4444444444444444,\"#bd3786\"],[0.5555555555555556,\"#d8576b\"],[0.6666666666666666,\"#ed7953\"],[0.7777777777777778,\"#fb9f3a\"],[0.8888888888888888,\"#fdca26\"],[1.0,\"#f0f921\"]],\"sequentialminus\":[[0.0,\"#0d0887\"],[0.1111111111111111,\"#46039f\"],[0.2222222222222222,\"#7201a8\"],[0.3333333333333333,\"#9c179e\"],[0.4444444444444444,\"#bd3786\"],[0.5555555555555556,\"#d8576b\"],[0.6666666666666666,\"#ed7953\"],[0.7777777777777778,\"#fb9f3a\"],[0.8888888888888888,\"#fdca26\"],[1.0,\"#f0f921\"]],\"diverging\":[[0,\"#8e0152\"],[0.1,\"#c51b7d\"],[0.2,\"#de77ae\"],[0.3,\"#f1b6da\"],[0.4,\"#fde0ef\"],[0.5,\"#f7f7f7\"],[0.6,\"#e6f5d0\"],[0.7,\"#b8e186\"],[0.8,\"#7fbc41\"],[0.9,\"#4d9221\"],[1,\"#276419\"]]},\"xaxis\":{\"gridcolor\":\"white\",\"linecolor\":\"white\",\"ticks\":\"\",\"title\":{\"standoff\":15},\"zerolinecolor\":\"white\",\"automargin\":true,\"zerolinewidth\":2},\"yaxis\":{\"gridcolor\":\"white\",\"linecolor\":\"white\",\"ticks\":\"\",\"title\":{\"standoff\":15},\"zerolinecolor\":\"white\",\"automargin\":true,\"zerolinewidth\":2},\"scene\":{\"xaxis\":{\"backgroundcolor\":\"#E5ECF6\",\"gridcolor\":\"white\",\"linecolor\":\"white\",\"showbackground\":true,\"ticks\":\"\",\"zerolinecolor\":\"white\",\"gridwidth\":2},\"yaxis\":{\"backgroundcolor\":\"#E5ECF6\",\"gridcolor\":\"white\",\"linecolor\":\"white\",\"showbackground\":true,\"ticks\":\"\",\"zerolinecolor\":\"white\",\"gridwidth\":2},\"zaxis\":{\"backgroundcolor\":\"#E5ECF6\",\"gridcolor\":\"white\",\"linecolor\":\"white\",\"showbackground\":true,\"ticks\":\"\",\"zerolinecolor\":\"white\",\"gridwidth\":2}},\"shapedefaults\":{\"line\":{\"color\":\"#2a3f5f\"}},\"annotationdefaults\":{\"arrowcolor\":\"#2a3f5f\",\"arrowhead\":0,\"arrowwidth\":1},\"geo\":{\"bgcolor\":\"white\",\"landcolor\":\"#E5ECF6\",\"subunitcolor\":\"white\",\"showland\":true,\"showlakes\":true,\"lakecolor\":\"white\"},\"title\":{\"x\":0.05},\"mapbox\":{\"style\":\"light\"}}},\"title\":{\"text\":\"Yearly Growth\"},\"xaxis\":{\"title\":{\"text\":\"Year\"}},\"yaxis\":{\"title\":{\"text\":\"Growth\"}}},                        {\"responsive\": true}                    ).then(function(){\n",
              "                            \n",
              "var gd = document.getElementById('5ad38535-031f-41d0-b0d6-883891941a58');\n",
              "var x = new MutationObserver(function (mutations, observer) {{\n",
              "        var display = window.getComputedStyle(gd).display;\n",
              "        if (!display || display === 'none') {{\n",
              "            console.log([gd, 'removed!']);\n",
              "            Plotly.purge(gd);\n",
              "            observer.disconnect();\n",
              "        }}\n",
              "}});\n",
              "\n",
              "// Listen for the removal of the full notebook cells\n",
              "var notebookContainer = gd.closest('#notebook-container');\n",
              "if (notebookContainer) {{\n",
              "    x.observe(notebookContainer, {childList: true});\n",
              "}}\n",
              "\n",
              "// Listen for the clearing of the current output cell\n",
              "var outputEl = gd.closest('.output');\n",
              "if (outputEl) {{\n",
              "    x.observe(outputEl, {childList: true});\n",
              "}}\n",
              "\n",
              "                        })                };                            </script>        </div>\n",
              "</body>\n",
              "</html>"
            ]
          },
          "metadata": {}
        }
      ]
    },
    {
      "cell_type": "markdown",
      "source": [
        "Aggregated monthly growth of the conversion rates between INR and USD"
      ],
      "metadata": {
        "id": "ztb5sD1XnBlV"
      }
    },
    {
      "cell_type": "code",
      "source": [
        "# Calculate monthly growth\n",
        "data['Growth'] = data.groupby(['Year', 'Month'])['Close'].transform(lambda x: (x.iloc[-1]-x.iloc[0])/x.iloc[0] * 100)\n",
        "\n",
        "# Group data by month and calculate average growth\n",
        "grouped_data = data.groupby('Month'). mean().reset_index()\n",
        "\n",
        "fig = go.Figure()\n",
        "\n",
        "fig.add_trace(go.Bar(x=grouped_data['Month'],y=grouped_data['Growth'],\n",
        "                     marker_color=grouped_data['Growth'],\n",
        "                     hovertemplate='Month: %{x}<br>Average Growth: %{y:.2f}%<extra></extra>'))\n",
        "\n",
        "fig.update_layout(\n",
        "    title=\"Aggregated Monthly Growth of USD - INR Conversion Rate\",\n",
        "    xaxis_title=\"Month\",\n",
        "    yaxis_title=\"Average Growth (%)\",\n",
        "    width=900,\n",
        "    height=600\n",
        ")\n",
        "\n",
        "pio.show(fig)\n"
      ],
      "metadata": {
        "colab": {
          "base_uri": "https://localhost:8080/",
          "height": 637
        },
        "id": "CMuo2lBqlMpe",
        "outputId": "6cda51db-c775-411d-c90f-a8c8fa444a30"
      },
      "execution_count": 10,
      "outputs": [
        {
          "output_type": "display_data",
          "data": {
            "text/html": [
              "<html>\n",
              "<head><meta charset=\"utf-8\" /></head>\n",
              "<body>\n",
              "    <div>            <script src=\"https://cdnjs.cloudflare.com/ajax/libs/mathjax/2.7.5/MathJax.js?config=TeX-AMS-MML_SVG\"></script><script type=\"text/javascript\">if (window.MathJax && window.MathJax.Hub && window.MathJax.Hub.Config) {window.MathJax.Hub.Config({SVG: {font: \"STIX-Web\"}});}</script>                <script type=\"text/javascript\">window.PlotlyConfig = {MathJaxConfig: 'local'};</script>\n",
              "        <script charset=\"utf-8\" src=\"https://cdn.plot.ly/plotly-2.35.2.min.js\"></script>                <div id=\"3b6e0430-bc97-4fe5-8a19-d0d6c6083485\" class=\"plotly-graph-div\" style=\"height:600px; width:900px;\"></div>            <script type=\"text/javascript\">                                    window.PLOTLYENV=window.PLOTLYENV || {};                                    if (document.getElementById(\"3b6e0430-bc97-4fe5-8a19-d0d6c6083485\")) {                    Plotly.newPlot(                        \"3b6e0430-bc97-4fe5-8a19-d0d6c6083485\",                        [{\"hovertemplate\":\"Month: %{x}\\u003cbr\\u003eAverage Growth: %{y:.2f}%\\u003cextra\\u003e\\u003c\\u002fextra\\u003e\",\"marker\":{\"color\":[-0.4126142379177753,0.34516707282304065,-0.7799701046645576,0.31368123847098967,0.5102502519925076,0.6112237618189031,0.07661777638108688,1.1017280483489247,-0.12626948408454086,0.38396464212300363,0.33520070263753854,-0.3235604452421094]},\"x\":[1,2,3,4,5,6,7,8,9,10,11,12],\"y\":[-0.4126142379177753,0.34516707282304065,-0.7799701046645576,0.31368123847098967,0.5102502519925076,0.6112237618189031,0.07661777638108688,1.1017280483489247,-0.12626948408454086,0.38396464212300363,0.33520070263753854,-0.3235604452421094],\"type\":\"bar\"}],                        {\"template\":{\"data\":{\"histogram2dcontour\":[{\"type\":\"histogram2dcontour\",\"colorbar\":{\"outlinewidth\":0,\"ticks\":\"\"},\"colorscale\":[[0.0,\"#0d0887\"],[0.1111111111111111,\"#46039f\"],[0.2222222222222222,\"#7201a8\"],[0.3333333333333333,\"#9c179e\"],[0.4444444444444444,\"#bd3786\"],[0.5555555555555556,\"#d8576b\"],[0.6666666666666666,\"#ed7953\"],[0.7777777777777778,\"#fb9f3a\"],[0.8888888888888888,\"#fdca26\"],[1.0,\"#f0f921\"]]}],\"choropleth\":[{\"type\":\"choropleth\",\"colorbar\":{\"outlinewidth\":0,\"ticks\":\"\"}}],\"histogram2d\":[{\"type\":\"histogram2d\",\"colorbar\":{\"outlinewidth\":0,\"ticks\":\"\"},\"colorscale\":[[0.0,\"#0d0887\"],[0.1111111111111111,\"#46039f\"],[0.2222222222222222,\"#7201a8\"],[0.3333333333333333,\"#9c179e\"],[0.4444444444444444,\"#bd3786\"],[0.5555555555555556,\"#d8576b\"],[0.6666666666666666,\"#ed7953\"],[0.7777777777777778,\"#fb9f3a\"],[0.8888888888888888,\"#fdca26\"],[1.0,\"#f0f921\"]]}],\"heatmap\":[{\"type\":\"heatmap\",\"colorbar\":{\"outlinewidth\":0,\"ticks\":\"\"},\"colorscale\":[[0.0,\"#0d0887\"],[0.1111111111111111,\"#46039f\"],[0.2222222222222222,\"#7201a8\"],[0.3333333333333333,\"#9c179e\"],[0.4444444444444444,\"#bd3786\"],[0.5555555555555556,\"#d8576b\"],[0.6666666666666666,\"#ed7953\"],[0.7777777777777778,\"#fb9f3a\"],[0.8888888888888888,\"#fdca26\"],[1.0,\"#f0f921\"]]}],\"heatmapgl\":[{\"type\":\"heatmapgl\",\"colorbar\":{\"outlinewidth\":0,\"ticks\":\"\"},\"colorscale\":[[0.0,\"#0d0887\"],[0.1111111111111111,\"#46039f\"],[0.2222222222222222,\"#7201a8\"],[0.3333333333333333,\"#9c179e\"],[0.4444444444444444,\"#bd3786\"],[0.5555555555555556,\"#d8576b\"],[0.6666666666666666,\"#ed7953\"],[0.7777777777777778,\"#fb9f3a\"],[0.8888888888888888,\"#fdca26\"],[1.0,\"#f0f921\"]]}],\"contourcarpet\":[{\"type\":\"contourcarpet\",\"colorbar\":{\"outlinewidth\":0,\"ticks\":\"\"}}],\"contour\":[{\"type\":\"contour\",\"colorbar\":{\"outlinewidth\":0,\"ticks\":\"\"},\"colorscale\":[[0.0,\"#0d0887\"],[0.1111111111111111,\"#46039f\"],[0.2222222222222222,\"#7201a8\"],[0.3333333333333333,\"#9c179e\"],[0.4444444444444444,\"#bd3786\"],[0.5555555555555556,\"#d8576b\"],[0.6666666666666666,\"#ed7953\"],[0.7777777777777778,\"#fb9f3a\"],[0.8888888888888888,\"#fdca26\"],[1.0,\"#f0f921\"]]}],\"surface\":[{\"type\":\"surface\",\"colorbar\":{\"outlinewidth\":0,\"ticks\":\"\"},\"colorscale\":[[0.0,\"#0d0887\"],[0.1111111111111111,\"#46039f\"],[0.2222222222222222,\"#7201a8\"],[0.3333333333333333,\"#9c179e\"],[0.4444444444444444,\"#bd3786\"],[0.5555555555555556,\"#d8576b\"],[0.6666666666666666,\"#ed7953\"],[0.7777777777777778,\"#fb9f3a\"],[0.8888888888888888,\"#fdca26\"],[1.0,\"#f0f921\"]]}],\"mesh3d\":[{\"type\":\"mesh3d\",\"colorbar\":{\"outlinewidth\":0,\"ticks\":\"\"}}],\"scatter\":[{\"fillpattern\":{\"fillmode\":\"overlay\",\"size\":10,\"solidity\":0.2},\"type\":\"scatter\"}],\"parcoords\":[{\"type\":\"parcoords\",\"line\":{\"colorbar\":{\"outlinewidth\":0,\"ticks\":\"\"}}}],\"scatterpolargl\":[{\"type\":\"scatterpolargl\",\"marker\":{\"colorbar\":{\"outlinewidth\":0,\"ticks\":\"\"}}}],\"bar\":[{\"error_x\":{\"color\":\"#2a3f5f\"},\"error_y\":{\"color\":\"#2a3f5f\"},\"marker\":{\"line\":{\"color\":\"#E5ECF6\",\"width\":0.5},\"pattern\":{\"fillmode\":\"overlay\",\"size\":10,\"solidity\":0.2}},\"type\":\"bar\"}],\"scattergeo\":[{\"type\":\"scattergeo\",\"marker\":{\"colorbar\":{\"outlinewidth\":0,\"ticks\":\"\"}}}],\"scatterpolar\":[{\"type\":\"scatterpolar\",\"marker\":{\"colorbar\":{\"outlinewidth\":0,\"ticks\":\"\"}}}],\"histogram\":[{\"marker\":{\"pattern\":{\"fillmode\":\"overlay\",\"size\":10,\"solidity\":0.2}},\"type\":\"histogram\"}],\"scattergl\":[{\"type\":\"scattergl\",\"marker\":{\"colorbar\":{\"outlinewidth\":0,\"ticks\":\"\"}}}],\"scatter3d\":[{\"type\":\"scatter3d\",\"line\":{\"colorbar\":{\"outlinewidth\":0,\"ticks\":\"\"}},\"marker\":{\"colorbar\":{\"outlinewidth\":0,\"ticks\":\"\"}}}],\"scattermapbox\":[{\"type\":\"scattermapbox\",\"marker\":{\"colorbar\":{\"outlinewidth\":0,\"ticks\":\"\"}}}],\"scatterternary\":[{\"type\":\"scatterternary\",\"marker\":{\"colorbar\":{\"outlinewidth\":0,\"ticks\":\"\"}}}],\"scattercarpet\":[{\"type\":\"scattercarpet\",\"marker\":{\"colorbar\":{\"outlinewidth\":0,\"ticks\":\"\"}}}],\"carpet\":[{\"aaxis\":{\"endlinecolor\":\"#2a3f5f\",\"gridcolor\":\"white\",\"linecolor\":\"white\",\"minorgridcolor\":\"white\",\"startlinecolor\":\"#2a3f5f\"},\"baxis\":{\"endlinecolor\":\"#2a3f5f\",\"gridcolor\":\"white\",\"linecolor\":\"white\",\"minorgridcolor\":\"white\",\"startlinecolor\":\"#2a3f5f\"},\"type\":\"carpet\"}],\"table\":[{\"cells\":{\"fill\":{\"color\":\"#EBF0F8\"},\"line\":{\"color\":\"white\"}},\"header\":{\"fill\":{\"color\":\"#C8D4E3\"},\"line\":{\"color\":\"white\"}},\"type\":\"table\"}],\"barpolar\":[{\"marker\":{\"line\":{\"color\":\"#E5ECF6\",\"width\":0.5},\"pattern\":{\"fillmode\":\"overlay\",\"size\":10,\"solidity\":0.2}},\"type\":\"barpolar\"}],\"pie\":[{\"automargin\":true,\"type\":\"pie\"}]},\"layout\":{\"autotypenumbers\":\"strict\",\"colorway\":[\"#636efa\",\"#EF553B\",\"#00cc96\",\"#ab63fa\",\"#FFA15A\",\"#19d3f3\",\"#FF6692\",\"#B6E880\",\"#FF97FF\",\"#FECB52\"],\"font\":{\"color\":\"#2a3f5f\"},\"hovermode\":\"closest\",\"hoverlabel\":{\"align\":\"left\"},\"paper_bgcolor\":\"white\",\"plot_bgcolor\":\"#E5ECF6\",\"polar\":{\"bgcolor\":\"#E5ECF6\",\"angularaxis\":{\"gridcolor\":\"white\",\"linecolor\":\"white\",\"ticks\":\"\"},\"radialaxis\":{\"gridcolor\":\"white\",\"linecolor\":\"white\",\"ticks\":\"\"}},\"ternary\":{\"bgcolor\":\"#E5ECF6\",\"aaxis\":{\"gridcolor\":\"white\",\"linecolor\":\"white\",\"ticks\":\"\"},\"baxis\":{\"gridcolor\":\"white\",\"linecolor\":\"white\",\"ticks\":\"\"},\"caxis\":{\"gridcolor\":\"white\",\"linecolor\":\"white\",\"ticks\":\"\"}},\"coloraxis\":{\"colorbar\":{\"outlinewidth\":0,\"ticks\":\"\"}},\"colorscale\":{\"sequential\":[[0.0,\"#0d0887\"],[0.1111111111111111,\"#46039f\"],[0.2222222222222222,\"#7201a8\"],[0.3333333333333333,\"#9c179e\"],[0.4444444444444444,\"#bd3786\"],[0.5555555555555556,\"#d8576b\"],[0.6666666666666666,\"#ed7953\"],[0.7777777777777778,\"#fb9f3a\"],[0.8888888888888888,\"#fdca26\"],[1.0,\"#f0f921\"]],\"sequentialminus\":[[0.0,\"#0d0887\"],[0.1111111111111111,\"#46039f\"],[0.2222222222222222,\"#7201a8\"],[0.3333333333333333,\"#9c179e\"],[0.4444444444444444,\"#bd3786\"],[0.5555555555555556,\"#d8576b\"],[0.6666666666666666,\"#ed7953\"],[0.7777777777777778,\"#fb9f3a\"],[0.8888888888888888,\"#fdca26\"],[1.0,\"#f0f921\"]],\"diverging\":[[0,\"#8e0152\"],[0.1,\"#c51b7d\"],[0.2,\"#de77ae\"],[0.3,\"#f1b6da\"],[0.4,\"#fde0ef\"],[0.5,\"#f7f7f7\"],[0.6,\"#e6f5d0\"],[0.7,\"#b8e186\"],[0.8,\"#7fbc41\"],[0.9,\"#4d9221\"],[1,\"#276419\"]]},\"xaxis\":{\"gridcolor\":\"white\",\"linecolor\":\"white\",\"ticks\":\"\",\"title\":{\"standoff\":15},\"zerolinecolor\":\"white\",\"automargin\":true,\"zerolinewidth\":2},\"yaxis\":{\"gridcolor\":\"white\",\"linecolor\":\"white\",\"ticks\":\"\",\"title\":{\"standoff\":15},\"zerolinecolor\":\"white\",\"automargin\":true,\"zerolinewidth\":2},\"scene\":{\"xaxis\":{\"backgroundcolor\":\"#E5ECF6\",\"gridcolor\":\"white\",\"linecolor\":\"white\",\"showbackground\":true,\"ticks\":\"\",\"zerolinecolor\":\"white\",\"gridwidth\":2},\"yaxis\":{\"backgroundcolor\":\"#E5ECF6\",\"gridcolor\":\"white\",\"linecolor\":\"white\",\"showbackground\":true,\"ticks\":\"\",\"zerolinecolor\":\"white\",\"gridwidth\":2},\"zaxis\":{\"backgroundcolor\":\"#E5ECF6\",\"gridcolor\":\"white\",\"linecolor\":\"white\",\"showbackground\":true,\"ticks\":\"\",\"zerolinecolor\":\"white\",\"gridwidth\":2}},\"shapedefaults\":{\"line\":{\"color\":\"#2a3f5f\"}},\"annotationdefaults\":{\"arrowcolor\":\"#2a3f5f\",\"arrowhead\":0,\"arrowwidth\":1},\"geo\":{\"bgcolor\":\"white\",\"landcolor\":\"#E5ECF6\",\"subunitcolor\":\"white\",\"showland\":true,\"showlakes\":true,\"lakecolor\":\"white\"},\"title\":{\"x\":0.05},\"mapbox\":{\"style\":\"light\"}}},\"title\":{\"text\":\"Aggregated Monthly Growth of USD - INR Conversion Rate\"},\"xaxis\":{\"title\":{\"text\":\"Month\"}},\"yaxis\":{\"title\":{\"text\":\"Average Growth (%)\"}},\"width\":900,\"height\":600},                        {\"responsive\": true}                    ).then(function(){\n",
              "                            \n",
              "var gd = document.getElementById('3b6e0430-bc97-4fe5-8a19-d0d6c6083485');\n",
              "var x = new MutationObserver(function (mutations, observer) {{\n",
              "        var display = window.getComputedStyle(gd).display;\n",
              "        if (!display || display === 'none') {{\n",
              "            console.log([gd, 'removed!']);\n",
              "            Plotly.purge(gd);\n",
              "            observer.disconnect();\n",
              "        }}\n",
              "}});\n",
              "\n",
              "// Listen for the removal of the full notebook cells\n",
              "var notebookContainer = gd.closest('#notebook-container');\n",
              "if (notebookContainer) {{\n",
              "    x.observe(notebookContainer, {childList: true});\n",
              "}}\n",
              "\n",
              "// Listen for the clearing of the current output cell\n",
              "var outputEl = gd.closest('.output');\n",
              "if (outputEl) {{\n",
              "    x.observe(outputEl, {childList: true});\n",
              "}}\n",
              "\n",
              "                        })                };                            </script>        </div>\n",
              "</body>\n",
              "</html>"
            ]
          },
          "metadata": {}
        }
      ]
    },
    {
      "cell_type": "markdown",
      "source": [
        "### Time Series Forecasting\n",
        "\n",
        "to perform most appropriate time series forecasting model, we need to perform seasonal decomposition, which will help us identify any recurring patterns, long-term trends, and random fluctuation"
      ],
      "metadata": {
        "id": "rnjHtlfGppdg"
      }
    },
    {
      "cell_type": "code",
      "source": [
        "from statsmodels.tsa.seasonal import seasonal_decompose\n",
        "result = seasonal_decompose(data['Close'], model='multiplicative', period=24)\n",
        "fig = plt.figure()\n",
        "fig = result.plot()\n",
        "fig.show()"
      ],
      "metadata": {
        "colab": {
          "base_uri": "https://localhost:8080/",
          "height": 504
        },
        "id": "msFL0uD-oN8M",
        "outputId": "1092031f-440e-4b47-a4d1-e4f2c620d4d2"
      },
      "execution_count": 11,
      "outputs": [
        {
          "output_type": "display_data",
          "data": {
            "text/plain": [
              "<Figure size 640x480 with 0 Axes>"
            ]
          },
          "metadata": {}
        },
        {
          "output_type": "display_data",
          "data": {
            "text/plain": [
              "<Figure size 640x480 with 4 Axes>"
            ],
            "image/png": "[encoded data removed]"
          },
          "metadata": {}
        }
      ]
    },
    {
      "cell_type": "markdown",
      "source": [
        "We can deduce by looking at the graphs, especially the seasonal graph - which is periodic in nature, that the data is in a seasonal pattern\n",
        "\n",
        "So we will use SARIMA(Seasonal Autoregressive Integrated Moving Average) for thus problem\n",
        "\n",
        "---\n",
        "\n"
      ],
      "metadata": {
        "id": "r_tDKUKzUgFd"
      }
    },
    {
      "cell_type": "markdown",
      "source": [
        "Before using SARIMA, we need to find p, d, q values\n",
        "\n",
        "- **p**: The order of the Autoregressive (AR) part. It represents the number of lag observations included in the model.\n",
        "\n",
        "- **d**: The order of the Integrated (I) part. It represents the number of times the raw observations are differenced to make the time series stationary.\n",
        "\n",
        "- **q**: The order of the Moving Average (MA) part. It represents the number of lag forecast errors that should be included in the model.\n",
        "\n"
      ],
      "metadata": {
        "id": "esW2OPbhVDSu"
      }
    },
    {
      "cell_type": "markdown",
      "metadata": {
        "id": "bdd92f01"
      },
      "source": [
        "Let's consider a simple example to illustrate how p, d, and q work in an ARIMA model (the non-seasonal part of SARIMA).\n",
        "\n",
        "Imagine you have a time series of monthly sales data for a product.\n",
        "\n",
        "*   **p (AR order):** If `p=1`, the model uses the sales from the previous month to predict the current month's sales. If `p=2`, it uses the sales from the previous two months, and so on. This captures the dependency of the current value on past values.\n",
        "\n",
        "*   **d (Integration order):** If your sales data has an upward trend over time (it's not stationary), you might need to difference it. If `d=1`, you would calculate the difference between consecutive months' sales (current month's sales - previous month's sales). This often removes the trend and makes the data stationary. If you needed to difference it twice to achieve stationarity, `d=2`.\n",
        "\n",
        "*   **q (MA order):** If `q=1`, the model uses the error from the previous month's forecast to predict the current month's sales. If `q=2`, it uses the errors from the previous two months. This captures the dependency of the current value on past forecast errors.\n",
        "\n",
        "So, an ARIMA(1, 1, 1) model would use the previous month's sales, the difference between the current and previous month's sales, and the previous month's forecast error to predict the current month's sales.\n",
        "\n",
        "For SARIMA, you would have additional (P, D, Q, m) terms to account for seasonal patterns. For example, if your sales data has a yearly seasonality (m=12), a SARIMA(p, d, q)(P, D, Q, 12) model would also consider the sales from the same month in previous years (P), the seasonal differencing needed (D), and the seasonal forecast errors (Q)."
      ]
    },
    {
      "cell_type": "code",
      "source": [
        "from pmdarima.arima import auto_arima\n",
        "model = auto_arima(data['Close'], seasonal=True, m=52, suppress_warnings=True)\n",
        "print(model.order)"
      ],
      "metadata": {
        "id": "hjhzz7ACqX7O",
        "colab": {
          "base_uri": "https://localhost:8080/"
        },
        "outputId": "fe31af92-21ff-4371-efed-9bc1d551e8e4"
      },
      "execution_count": 12,
      "outputs": [
        {
          "output_type": "stream",
          "name": "stderr",
          "text": [
            "/usr/local/lib/python3.11/dist-packages/sklearn/utils/deprecation.py:132: FutureWarning:\n",
            "\n",
            "'force_all_finite' was renamed to 'ensure_all_finite' in 1.6 and will be removed in 1.8.\n",
            "\n",
            "/usr/local/lib/python3.11/dist-packages/sklearn/utils/deprecation.py:132: FutureWarning:\n",
            "\n",
            "'force_all_finite' was renamed to 'ensure_all_finite' in 1.6 and will be removed in 1.8.\n",
            "\n",
            "/usr/local/lib/python3.11/dist-packages/sklearn/utils/deprecation.py:132: FutureWarning:\n",
            "\n",
            "'force_all_finite' was renamed to 'ensure_all_finite' in 1.6 and will be removed in 1.8.\n",
            "\n",
            "/usr/local/lib/python3.11/dist-packages/sklearn/utils/deprecation.py:132: FutureWarning:\n",
            "\n",
            "'force_all_finite' was renamed to 'ensure_all_finite' in 1.6 and will be removed in 1.8.\n",
            "\n",
            "/usr/local/lib/python3.11/dist-packages/sklearn/utils/deprecation.py:132: FutureWarning:\n",
            "\n",
            "'force_all_finite' was renamed to 'ensure_all_finite' in 1.6 and will be removed in 1.8.\n",
            "\n",
            "/usr/local/lib/python3.11/dist-packages/sklearn/utils/deprecation.py:132: FutureWarning:\n",
            "\n",
            "'force_all_finite' was renamed to 'ensure_all_finite' in 1.6 and will be removed in 1.8.\n",
            "\n",
            "/usr/local/lib/python3.11/dist-packages/sklearn/utils/deprecation.py:132: FutureWarning:\n",
            "\n",
            "'force_all_finite' was renamed to 'ensure_all_finite' in 1.6 and will be removed in 1.8.\n",
            "\n",
            "/usr/local/lib/python3.11/dist-packages/sklearn/utils/deprecation.py:132: FutureWarning:\n",
            "\n",
            "'force_all_finite' was renamed to 'ensure_all_finite' in 1.6 and will be removed in 1.8.\n",
            "\n",
            "/usr/local/lib/python3.11/dist-packages/sklearn/utils/deprecation.py:132: FutureWarning:\n",
            "\n",
            "'force_all_finite' was renamed to 'ensure_all_finite' in 1.6 and will be removed in 1.8.\n",
            "\n",
            "/usr/local/lib/python3.11/dist-packages/sklearn/utils/deprecation.py:132: FutureWarning:\n",
            "\n",
            "'force_all_finite' was renamed to 'ensure_all_finite' in 1.6 and will be removed in 1.8.\n",
            "\n",
            "/usr/local/lib/python3.11/dist-packages/sklearn/utils/deprecation.py:132: FutureWarning:\n",
            "\n",
            "'force_all_finite' was renamed to 'ensure_all_finite' in 1.6 and will be removed in 1.8.\n",
            "\n",
            "/usr/local/lib/python3.11/dist-packages/sklearn/utils/deprecation.py:132: FutureWarning:\n",
            "\n",
            "'force_all_finite' was renamed to 'ensure_all_finite' in 1.6 and will be removed in 1.8.\n",
            "\n",
            "/usr/local/lib/python3.11/dist-packages/sklearn/utils/deprecation.py:132: FutureWarning:\n",
            "\n",
            "'force_all_finite' was renamed to 'ensure_all_finite' in 1.6 and will be removed in 1.8.\n",
            "\n",
            "/usr/local/lib/python3.11/dist-packages/sklearn/utils/deprecation.py:132: FutureWarning:\n",
            "\n",
            "'force_all_finite' was renamed to 'ensure_all_finite' in 1.6 and will be removed in 1.8.\n",
            "\n",
            "/usr/local/lib/python3.11/dist-packages/sklearn/utils/deprecation.py:132: FutureWarning:\n",
            "\n",
            "'force_all_finite' was renamed to 'ensure_all_finite' in 1.6 and will be removed in 1.8.\n",
            "\n",
            "/usr/local/lib/python3.11/dist-packages/sklearn/utils/deprecation.py:132: FutureWarning:\n",
            "\n",
            "'force_all_finite' was renamed to 'ensure_all_finite' in 1.6 and will be removed in 1.8.\n",
            "\n",
            "/usr/local/lib/python3.11/dist-packages/sklearn/utils/deprecation.py:132: FutureWarning:\n",
            "\n",
            "'force_all_finite' was renamed to 'ensure_all_finite' in 1.6 and will be removed in 1.8.\n",
            "\n",
            "/usr/local/lib/python3.11/dist-packages/sklearn/utils/deprecation.py:132: FutureWarning:\n",
            "\n",
            "'force_all_finite' was renamed to 'ensure_all_finite' in 1.6 and will be removed in 1.8.\n",
            "\n",
            "/usr/local/lib/python3.11/dist-packages/sklearn/utils/deprecation.py:132: FutureWarning:\n",
            "\n",
            "'force_all_finite' was renamed to 'ensure_all_finite' in 1.6 and will be removed in 1.8.\n",
            "\n",
            "/usr/local/lib/python3.11/dist-packages/sklearn/utils/deprecation.py:132: FutureWarning:\n",
            "\n",
            "'force_all_finite' was renamed to 'ensure_all_finite' in 1.6 and will be removed in 1.8.\n",
            "\n",
            "/usr/local/lib/python3.11/dist-packages/sklearn/utils/deprecation.py:132: FutureWarning:\n",
            "\n",
            "'force_all_finite' was renamed to 'ensure_all_finite' in 1.6 and will be removed in 1.8.\n",
            "\n",
            "/usr/local/lib/python3.11/dist-packages/sklearn/utils/deprecation.py:132: FutureWarning:\n",
            "\n",
            "'force_all_finite' was renamed to 'ensure_all_finite' in 1.6 and will be removed in 1.8.\n",
            "\n",
            "/usr/local/lib/python3.11/dist-packages/sklearn/utils/deprecation.py:132: FutureWarning:\n",
            "\n",
            "'force_all_finite' was renamed to 'ensure_all_finite' in 1.6 and will be removed in 1.8.\n",
            "\n",
            "/usr/local/lib/python3.11/dist-packages/sklearn/utils/deprecation.py:132: FutureWarning:\n",
            "\n",
            "'force_all_finite' was renamed to 'ensure_all_finite' in 1.6 and will be removed in 1.8.\n",
            "\n",
            "/usr/local/lib/python3.11/dist-packages/sklearn/utils/deprecation.py:132: FutureWarning:\n",
            "\n",
            "'force_all_finite' was renamed to 'ensure_all_finite' in 1.6 and will be removed in 1.8.\n",
            "\n",
            "/usr/local/lib/python3.11/dist-packages/sklearn/utils/deprecation.py:132: FutureWarning:\n",
            "\n",
            "'force_all_finite' was renamed to 'ensure_all_finite' in 1.6 and will be removed in 1.8.\n",
            "\n",
            "/usr/local/lib/python3.11/dist-packages/sklearn/utils/deprecation.py:132: FutureWarning:\n",
            "\n",
            "'force_all_finite' was renamed to 'ensure_all_finite' in 1.6 and will be removed in 1.8.\n",
            "\n",
            "/usr/local/lib/python3.11/dist-packages/sklearn/utils/deprecation.py:132: FutureWarning:\n",
            "\n",
            "'force_all_finite' was renamed to 'ensure_all_finite' in 1.6 and will be removed in 1.8.\n",
            "\n",
            "/usr/local/lib/python3.11/dist-packages/sklearn/utils/deprecation.py:132: FutureWarning:\n",
            "\n",
            "'force_all_finite' was renamed to 'ensure_all_finite' in 1.6 and will be removed in 1.8.\n",
            "\n",
            "/usr/local/lib/python3.11/dist-packages/sklearn/utils/deprecation.py:132: FutureWarning:\n",
            "\n",
            "'force_all_finite' was renamed to 'ensure_all_finite' in 1.6 and will be removed in 1.8.\n",
            "\n"
          ]
        },
        {
          "output_type": "stream",
          "name": "stdout",
          "text": [
            "(2, 1, 0)\n"
          ]
        }
      ]
    },
    {
      "cell_type": "code",
      "source": [
        "print(model.order)"
      ],
      "metadata": {
        "colab": {
          "base_uri": "https://localhost:8080/"
        },
        "id": "gufrMQA38P3-",
        "outputId": "90a7696b-ed35-439f-edbc-9cd4d87ae2c8"
      },
      "execution_count": 14,
      "outputs": [
        {
          "output_type": "stream",
          "name": "stdout",
          "text": [
            "(2, 1, 0)\n"
          ]
        }
      ]
    },
    {
      "cell_type": "markdown",
      "source": [
        "- **p (AR)**: Looking at the recent past. Think of p as how many of the immediately previous data points the model considers to predict the next one. If p=2, it's like saying, \"To guess what happens tomorrow, let's look at what happened today and yesterday.\"\n",
        "\n",
        "- **d (I)**: Making the data stable. Sometimes, data has a clear trend (always going up or down). d is about making that trend flat or stable so the model can work better. If d=1, it's like looking at the change from one data point to the next, instead of the raw data points themselves. This often removes the trend.\n",
        "\n",
        "- **q (MA)**: Correcting based on past mistakes. q is about using the errors from previous predictions to help make a better prediction now. If q=1, it's like saying, \"If my guess yesterday was a bit off, let's use that information to adjust my guess for today.\"\n",
        "\n",
        "So, (2, 1, 0) means the model is looking at the last two data points (p=2), is working with the change in the data rather than the raw values (d=1), and isn't using any information from past prediction errors (q=0)\n",
        "\n",
        "\n"
      ],
      "metadata": {
        "id": "PgK_zs6mJhdL"
      }
    },
    {
      "cell_type": "code",
      "source": [
        "from statsmodels.tsa.statespace.sarimax import SARIMAX\n",
        "model = SARIMAX(data['Close'], order = (p, d, q), seasonal_data = (p, d, q, 52))\n",
        "fitted_model = model.fit()\n",
        "print(fitted_model.summary())"
      ],
      "metadata": {
        "colab": {
          "base_uri": "https://localhost:8080/",
          "height": 193
        },
        "id": "ftnyXp7sJElJ",
        "outputId": "c6fec543-077e-40ea-cafb-936b692c7989"
      },
      "execution_count": 16,
      "outputs": [
        {
          "output_type": "error",
          "ename": "NameError",
          "evalue": "name 'p' is not defined",
          "traceback": [
            "\u001b[0;31m---------------------------------------------------------------------------\u001b[0m",
            "\u001b[0;31mNameError\u001b[0m                                 Traceback (most recent call last)",
            "\u001b[0;32m/tmp/ipython-input-1790509044.py\u001b[0m in \u001b[0;36m<cell line: 0>\u001b[0;34m()\u001b[0m\n\u001b[1;32m      1\u001b[0m \u001b[0;32mfrom\u001b[0m \u001b[0mstatsmodels\u001b[0m\u001b[0;34m.\u001b[0m\u001b[0mtsa\u001b[0m\u001b[0;34m.\u001b[0m\u001b[0mstatespace\u001b[0m\u001b[0;34m.\u001b[0m\u001b[0msarimax\u001b[0m \u001b[0;32mimport\u001b[0m \u001b[0mSARIMAX\u001b[0m\u001b[0;34m\u001b[0m\u001b[0;34m\u001b[0m\u001b[0m\n\u001b[0;32m----> 2\u001b[0;31m \u001b[0mmodel\u001b[0m \u001b[0;34m=\u001b[0m \u001b[0mSARIMAX\u001b[0m\u001b[0;34m(\u001b[0m\u001b[0mdata\u001b[0m\u001b[0;34m[\u001b[0m\u001b[0;34m'Close'\u001b[0m\u001b[0;34m]\u001b[0m\u001b[0;34m,\u001b[0m \u001b[0morder\u001b[0m \u001b[0;34m=\u001b[0m \u001b[0;34m(\u001b[0m\u001b[0mp\u001b[0m\u001b[0;34m,\u001b[0m \u001b[0md\u001b[0m\u001b[0;34m,\u001b[0m \u001b[0mq\u001b[0m\u001b[0;34m)\u001b[0m\u001b[0;34m,\u001b[0m \u001b[0mseasonal_data\u001b[0m \u001b[0;34m=\u001b[0m \u001b[0;34m(\u001b[0m\u001b[0mp\u001b[0m\u001b[0;34m,\u001b[0m \u001b[0md\u001b[0m\u001b[0;34m,\u001b[0m \u001b[0mq\u001b[0m\u001b[0;34m,\u001b[0m \u001b[0;36m52\u001b[0m\u001b[0;34m)\u001b[0m\u001b[0;34m)\u001b[0m\u001b[0;34m\u001b[0m\u001b[0;34m\u001b[0m\u001b[0m\n\u001b[0m\u001b[1;32m      3\u001b[0m \u001b[0mfitted_model\u001b[0m \u001b[0;34m=\u001b[0m \u001b[0mmodel\u001b[0m\u001b[0;34m.\u001b[0m\u001b[0mfit\u001b[0m\u001b[0;34m(\u001b[0m\u001b[0;34m)\u001b[0m\u001b[0;34m\u001b[0m\u001b[0;34m\u001b[0m\u001b[0m\n\u001b[1;32m      4\u001b[0m \u001b[0mprint\u001b[0m\u001b[0;34m(\u001b[0m\u001b[0mfitted_model\u001b[0m\u001b[0;34m.\u001b[0m\u001b[0msummary\u001b[0m\u001b[0;34m(\u001b[0m\u001b[0;34m)\u001b[0m\u001b[0;34m)\u001b[0m\u001b[0;34m\u001b[0m\u001b[0;34m\u001b[0m\u001b[0m\n",
            "\u001b[0;31mNameError\u001b[0m: name 'p' is not defined"
          ]
        }
      ]
    },
    {
      "cell_type": "code",
      "source": [
        "from statsmodels.tsa.statespace.sarimax import SARIMAX\n",
        "model = SARIMAX(data['Close'], order = (2, 1, 0), seasonal_order = (2, 1, 0, 52))\n",
        "fitted_model = model.fit()\n",
        "print(fitted_model.summary())"
      ],
      "metadata": {
        "colab": {
          "base_uri": "https://localhost:8080/"
        },
        "id": "3DL2AU7QKC-s",
        "outputId": "d4dd8783-87b5-4886-9a6b-e08e88822b6b"
      },
      "execution_count": 17,
      "outputs": [
        {
          "output_type": "stream",
          "name": "stderr",
          "text": [
            "/usr/local/lib/python3.11/dist-packages/statsmodels/tsa/base/tsa_model.py:473: ValueWarning:\n",
            "\n",
            "An unsupported index was provided. As a result, forecasts cannot be generated. To use the model for forecasting, use one of the supported classes of index.\n",
            "\n",
            "/usr/local/lib/python3.11/dist-packages/statsmodels/tsa/base/tsa_model.py:473: ValueWarning:\n",
            "\n",
            "An unsupported index was provided. As a result, forecasts cannot be generated. To use the model for forecasting, use one of the supported classes of index.\n",
            "\n"
          ]
        },
        {
          "output_type": "stream",
          "name": "stdout",
          "text": [
            "                                     SARIMAX Results                                      \n",
            "==========================================================================================\n",
            "Dep. Variable:                              Close   No. Observations:                 1013\n",
            "Model:             SARIMAX(2, 1, 0)x(2, 1, 0, 52)   Log Likelihood                -905.797\n",
            "Date:                            Sat, 16 Aug 2025   AIC                           1821.594\n",
            "Time:                                    09:16:06   BIC                           1845.929\n",
            "Sample:                                         0   HQIC                          1830.861\n",
            "                                           - 1013                                         \n",
            "Covariance Type:                              opg                                         \n",
            "==============================================================================\n",
            "                 coef    std err          z      P>|z|      [0.025      0.975]\n",
            "------------------------------------------------------------------------------\n",
            "ar.L1          0.0313      0.026      1.193      0.233      -0.020       0.083\n",
            "ar.L2          0.0643      0.026      2.480      0.013       0.013       0.115\n",
            "ar.S.L52      -0.6358      0.026    -24.677      0.000      -0.686      -0.585\n",
            "ar.S.L104     -0.3075      0.029    -10.602      0.000      -0.364      -0.251\n",
            "sigma2         0.3767      0.013     28.481      0.000       0.351       0.403\n",
            "===================================================================================\n",
            "Ljung-Box (L1) (Q):                   0.00   Jarque-Bera (JB):                86.43\n",
            "Prob(Q):                              0.99   Prob(JB):                         0.00\n",
            "Heteroskedasticity (H):               1.57   Skew:                             0.06\n",
            "Prob(H) (two-sided):                  0.00   Kurtosis:                         4.47\n",
            "===================================================================================\n",
            "\n",
            "Warnings:\n",
            "[1] Covariance matrix calculated using the outer product of gradients (complex-step).\n"
          ]
        }
      ]
    },
    {
      "cell_type": "code",
      "source": [
        "predictions = fitted_model.predict(len(data), len(data)+60)\n",
        "print(predictions)"
      ],
      "metadata": {
        "colab": {
          "base_uri": "https://localhost:8080/"
        },
        "id": "lhIjbNrnKTmA",
        "outputId": "7472909e-3b6e-4030-ee99-2498b5144387"
      },
      "execution_count": 19,
      "outputs": [
        {
          "output_type": "stream",
          "name": "stdout",
          "text": [
            "1013    81.732805\n",
            "1014    81.886989\n",
            "1015    82.180316\n",
            "1016    82.607755\n",
            "1017    82.474240\n",
            "          ...    \n",
            "1069    84.906857\n",
            "1070    85.402512\n",
            "1071    85.520206\n",
            "1072    85.830537\n",
            "1073    85.687342\n",
            "Name: predicted_mean, Length: 61, dtype: float64\n"
          ]
        },
        {
          "output_type": "stream",
          "name": "stderr",
          "text": [
            "/usr/local/lib/python3.11/dist-packages/statsmodels/tsa/base/tsa_model.py:837: ValueWarning:\n",
            "\n",
            "No supported index is available. Prediction results will be given with an integer index beginning at `start`.\n",
            "\n",
            "/usr/local/lib/python3.11/dist-packages/statsmodels/tsa/base/tsa_model.py:837: FutureWarning:\n",
            "\n",
            "No supported index is available. In the next version, calling this method in a model without a supported index will result in an exception.\n",
            "\n"
          ]
        }
      ]
    },
    {
      "cell_type": "code",
      "source": [
        "# Create figure\n",
        "fig = go.Figure()\n",
        "\n",
        "# Add training data line plot\n",
        "fig.add_trace(go.Scatter(\n",
        "    x = data.index,\n",
        "    y = data['Close'],\n",
        "    mode = 'lines',\n",
        "    name = 'Training Data',\n",
        "    line = dict(color = 'blue')\n",
        "))\n",
        "\n",
        "# Add predictions line plot\n",
        "fig.add_trace(go.Scatter(\n",
        "    x=predictions.index,\n",
        "    y=predictions,\n",
        "    mode='lines',\n",
        "    name='Predictions',\n",
        "    line=dict(color='green')\n",
        "))\n",
        "\n",
        "fig.update_layout(\n",
        "    title='INR Rate - Training Data vs Predictions',\n",
        "    xaxis_title = 'Date',\n",
        "    yaxis_title = 'Close',\n",
        "    legend_title = 'Data',\n",
        "    width=900,\n",
        "    height=600\n",
        ")\n",
        "\n",
        "pio.show(fig)"
      ],
      "metadata": {
        "colab": {
          "base_uri": "https://localhost:8080/",
          "height": 637
        },
        "id": "Qnh4cAcpKiYx",
        "outputId": "80780c21-ec8b-4e3a-ab06-efd53d816c81"
      },
      "execution_count": 23,
      "outputs": [
        {
          "output_type": "display_data",
          "data": {
            "text/html": [
              "<html>\n",
              "<head><meta charset=\"utf-8\" /></head>\n",
              "<body>\n",
              "    <div>            <script src=\"https://cdnjs.cloudflare.com/ajax/libs/mathjax/2.7.5/MathJax.js?config=TeX-AMS-MML_SVG\"></script><script type=\"text/javascript\">if (window.MathJax && window.MathJax.Hub && window.MathJax.Hub.Config) {window.MathJax.Hub.Config({SVG: {font: \"STIX-Web\"}});}</script>                <script type=\"text/javascript\">window.PlotlyConfig = {MathJaxConfig: 'local'};</script>\n",
              "        <script charset=\"utf-8\" src=\"https://cdn.plot.ly/plotly-2.35.2.min.js\"></script>                <div id=\"edb54c1e-72c5-4a87-a0f9-ac314cd965c8\" class=\"plotly-graph-div\" style=\"height:600px; width:900px;\"></div>            <script type=\"text/javascript\">                                    window.PLOTLYENV=window.PLOTLYENV || {};                                    if (document.getElementById(\"edb54c1e-72c5-4a87-a0f9-ac314cd965c8\")) {                    Plotly.newPlot(                        \"edb54c1e-72c5-4a87-a0f9-ac314cd965c8\",                        [{\"line\":{\"color\":\"blue\"},\"mode\":\"lines\",\"name\":\"Training Data\",\"x\":[0,1,2,3,4,5,6,7,8,9,10,11,12,13,14,15,16,17,18,19,20,21,22,23,24,25,26,27,28,29,30,31,32,33,34,35,36,37,38,39,40,41,42,43,44,45,46,47,48,49,50,51,52,53,54,55,56,57,58,59,60,61,62,63,64,65,66,67,68,69,70,71,72,73,74,75,76,77,78,79,80,81,82,83,84,85,86,87,88,89,90,91,92,93,94,95,96,97,98,99,100,101,102,103,104,105,106,107,108,109,110,111,112,113,114,115,116,117,118,119,120,121,122,123,124,125,126,127,128,129,130,131,132,133,134,135,136,137,138,139,140,141,142,143,144,145,146,147,148,149,150,151,152,153,154,155,156,157,158,159,160,161,162,163,164,165,166,167,168,169,170,171,172,173,174,175,176,177,178,179,180,181,182,183,184,185,186,187,188,189,190,191,192,193,194,195,196,197,198,199,200,201,202,203,204,205,206,207,208,209,210,211,212,213,214,215,216,217,218,219,220,221,222,223,224,225,226,227,228,229,230,231,232,233,234,235,236,237,238,239,240,241,242,243,247,248,249,250,251,252,253,254,255,256,257,258,259,260,261,262,263,264,265,266,267,268,269,270,271,272,273,274,275,276,277,278,279,280,281,282,283,284,285,286,287,288,289,290,291,292,293,294,295,296,297,298,299,300,301,302,303,304,305,306,307,308,309,310,311,312,313,314,315,316,317,318,319,320,321,322,323,324,325,326,327,328,329,330,331,332,333,334,335,336,337,338,339,340,341,342,343,344,345,346,347,348,349,350,351,352,353,354,355,356,357,358,359,360,361,362,363,364,365,366,367,368,369,370,371,372,373,374,375,376,377,378,379,380,381,382,383,384,385,386,387,388,389,390,391,392,393,394,395,396,397,398,399,400,401,402,403,404,405,406,407,408,409,410,411,412,413,414,415,416,417,418,419,420,421,422,423,424,425,426,427,428,429,430,431,432,433,434,435,436,437,438,439,440,441,442,443,444,445,446,447,448,449,450,451,452,453,454,455,456,457,458,459,460,461,462,463,464,465,466,467,468,469,470,471,472,473,474,475,476,477,478,479,480,481,482,483,484,485,486,487,488,489,490,491,492,493,494,495,496,497,498,499,500,501,502,503,504,505,506,507,508,509,510,511,512,513,514,515,516,517,518,519,520,521,522,523,524,525,526,527,528,529,530,531,532,533,534,535,536,537,538,539,540,541,542,543,544,545,546,547,548,549,550,551,552,553,554,555,556,557,558,559,560,561,562,563,564,565,566,567,568,569,570,571,572,573,574,575,576,577,578,579,580,581,582,583,584,585,586,587,588,589,590,591,592,593,594,595,596,597,598,599,600,601,602,603,604,605,606,607,608,609,610,611,612,613,614,615,616,617,618,619,620,621,622,623,624,625,626,627,628,629,630,631,632,633,634,635,636,637,638,639,640,641,642,643,644,645,646,647,648,649,650,651,652,653,654,655,656,657,658,659,660,661,662,663,664,665,666,667,668,669,670,671,672,673,674,675,676,677,678,679,680,681,682,683,684,685,686,687,688,689,690,691,692,693,694,695,696,697,698,699,700,701,702,703,704,705,706,707,708,709,710,711,712,713,714,715,716,717,718,719,720,721,722,723,724,725,726,727,728,729,730,731,732,733,734,735,736,737,738,739,740,741,742,743,744,745,746,747,748,749,750,751,752,753,754,755,756,757,758,759,760,761,762,763,764,765,766,767,768,769,770,771,772,773,774,775,776,777,778,779,780,781,782,783,784,785,786,787,788,789,790,791,792,793,794,795,796,797,798,799,800,801,802,803,804,805,806,807,808,809,810,811,812,813,814,815,816,817,818,819,820,821,822,823,824,825,826,827,828,829,830,831,832,833,834,835,836,837,838,839,840,841,842,843,844,845,846,847,848,849,850,851,852,853,854,855,856,857,858,859,860,861,862,863,864,865,866,867,868,869,870,871,872,873,874,875,876,877,878,879,880,881,882,883,884,885,886,887,888,889,890,891,892,893,894,895,896,897,898,899,900,901,902,903,904,905,906,907,908,909,910,911,912,913,914,915,916,917,918,919,920,921,922,923,924,925,926,927,928,929,930,931,932,933,934,935,936,937,938,939,940,941,942,943,944,945,946,947,948,949,950,951,952,953,954,955,956,957,958,959,960,961,962,963,964,965,966,967,968,969,970,971,972,973,974,975,976,977,978,979,980,981,982,983,984,985,986,987,988,989,990,991,992,993,994,995,996,997,998,999,1000,1001,1002,1003,1004,1005,1006,1007,1008,1009,1010,1011,1012,1013,1014,1015],\"y\":[45.48,45.451,45.455002,45.507999,45.560001,45.351002,45.352001,45.243999,45.0,45.290001,45.373001,45.238998,45.195999,45.200001,45.278999,45.104,44.52,43.691002,43.522999,43.740002,44.109001,44.259998,44.529999,45.380001,45.182999,45.219002,44.972,45.066002,45.507999,45.648998,45.501999,45.645,46.088001,46.129002,46.237999,46.111,46.229,46.220001,46.209999,46.257,46.172001,45.771,45.799999,45.993,45.674999,45.743999,45.610001,45.243999,44.959999,45.029999,44.93,44.928001,43.991001,44.569,43.875999,43.612999,43.307999,43.832001,43.52,43.599998,43.580002,43.275002,43.700001,43.66,43.599998,43.567001,43.419998,43.549999,43.619999,43.619999,43.599998,43.700001,43.66,43.431999,43.43,43.360001,43.450001,43.5,43.560001,43.470001,43.459999,43.404999,43.459999,43.540001,43.470001,43.369999,43.360001,43.419998,43.52,43.5,43.599998,43.880001,43.740002,43.799999,43.849998,43.880001,44.259998,44.77,45.009998,44.970001,45.419998,45.48,45.66,45.740002,46.060001,46.139999,45.279999,45.060001,44.970001,44.5,44.07,44.150002,43.939999,44.16,44.040001,44.32,44.290001,44.18,44.459999,44.25,44.424999,44.540001,44.404999,45.0,44.994999,44.805,44.779999,44.825001,45.360001,45.755001,45.605,45.744999,45.625,45.939999,45.880001,45.860001,46.125,46.580002,46.465,46.459999,46.424999,46.400002,46.345001,46.507999,45.994999,45.884998,45.709999,45.715,45.355,45.299999,45.125,45.005001,44.695,44.485001,44.685001,44.529999,44.435001,44.465,44.5,44.305,44.040001,44.220001,44.255001,44.084999,44.040001,43.919998,43.98,44.0,44.200001,44.035,44.009998,43.889999,43.305,43.044998,42.695,42.365002,41.52,40.724998,40.68,40.674999,40.299999,40.52,40.215,40.759998,40.459999,40.494999,40.529999,40.310001,40.200001,40.125,40.32,40.195,40.400002,41.0,40.84,40.575001,40.599998,40.285,39.77,39.575001,39.404999,39.095001,39.450001,39.235001,39.265999,39.044998,39.174999,39.599998,39.362999,39.360001,39.240002,39.235001,39.244999,39.095001,39.095001,39.134998,39.245998,39.055,39.535,39.584999,39.974998,39.91,40.355,40.075001,40.185001,39.615002,39.805,39.775002,39.665001,39.990002,40.485001,41.5,42.435001,42.610001,42.084999,42.564999,42.805,42.799999,42.715,43.084999,42.728001,42.595001,42.084999,42.433998,43.625,44.573002,45.560001,45.705002,46.498001,46.973,48.423,48.823002,49.755001,49.403,47.555,48.783001,49.548,49.568001,49.563,48.233002,47.037998,48.682999,48.244999,48.292999,48.643002,49.018002,48.733002,48.623001,48.598,49.733002,50.893002,51.682999,51.452999,50.563,50.493,49.928001,49.627998,49.803001,49.693001,49.192001,49.147999,49.382999,47.145,47.112999,47.068001,47.308998,48.018002,48.018002,47.807999,48.763,48.563,48.162998,47.625999,47.737999,48.193001,48.432999,48.528,48.868,48.394001,48.037998,47.938,47.627998,46.458,46.217999,46.428001,46.917999,46.740002,46.257999,46.643002,46.553001,46.150002,46.473,46.702999,46.650002,46.610001,45.518002,45.803001,46.223,46.098,46.737999,46.400002,46.252998,46.068001,45.507999,45.498001,45.268002,45.138,44.807999,44.119999,44.318001,44.290001,44.217999,45.417999,45.217999,46.917999,46.327999,46.868,46.778,45.978001,46.358002,46.568001,46.658001,46.702999,46.917999,46.368,46.056,46.709999,46.358002,46.787998,46.599998,46.303001,46.099998,45.450001,44.563,44.200001,44.068001,44.200001,44.419998,44.013,44.240002,45.150002,45.557999,45.130001,45.049999,45.25,45.060001,44.810001,45.18,44.959999,45.778,45.688,45.560001,45.630001,45.209999,45.400002,44.849998,45.110001,45.049999,44.599998,44.450001,44.099998,44.419998,44.259998,44.299999,44.700001,44.709999,44.849998,45.189999,44.759998,44.599998,44.799999,44.849998,44.592999,44.330002,44.400002,44.299999,44.009998,44.563,45.292999,45.709999,46.009998,45.700001,46.130001,47.5,49.473,48.860001,49.040001,49.200001,49.860001,49.790001,49.048,49.959999,50.948002,52.063,51.299999,51.700001,53.209999,52.509998,53.0,52.673,51.432999,50.223,49.388,48.653,49.353001,49.318001,49.007999,49.518002,50.073002,50.132999,51.167999,50.868,51.033001,51.542999,52.068001,52.537998,53.467999,53.627998,54.417999,55.368,55.537998,55.417999,55.388,57.118,55.502998,55.403,55.138,55.318001,55.248001,55.748001,55.278,55.728001,55.498001,55.518002,55.358002,54.298,53.358002,52.848,51.908001,52.803001,53.838001,53.548,53.807999,54.588001,55.158001,55.443001,54.257999,54.338001,54.438,54.848,54.752998,54.880001,54.868,53.737999,53.792999,53.162998,53.588001,54.318001,54.272999,54.897999,54.342999,54.022999,54.342999,54.278,54.803001,54.513,53.932999,54.373001,53.779999,54.803001,54.888,55.813,56.573002,57.057999,57.498001,59.268002,59.526001,60.223,59.883999,59.333,59.060001,61.098,60.723999,62.490002,64.07,66.589996,65.237999,63.290001,62.720001,62.91,61.380001,60.990002,61.240002,61.439999,62.200001,63.34,62.709999,62.240002,62.459999,61.150002,62.188,62.02,61.669998,62.23,61.439999,61.549999,62.73,62.5,62.09,61.830002,62.009998,61.82,61.23,60.98,61.02,59.84,59.669998,60.34,60.150002,60.630001,60.02,59.849998,58.560001,58.419998,58.900002,59.167999,59.702999,60.167999,60.080002,59.717999,60.088001,60.278,60.053001,61.208,61.138,60.772999,60.463001,60.513,60.369999,60.647999,60.853001,61.138,61.537998,61.278,61.358002,61.162998,61.432999,61.493,61.708,61.759998,61.853001,61.910999,62.518002,62.983002,63.59,63.028,62.667999,62.057999,61.598,62.013,61.733002,62.069,62.165001,61.754002,62.443001,63.076,62.483002,62.828999,62.060001,62.313999,62.542999,63.654999,63.522999,64.082001,63.408001,63.625999,63.825001,64.000999,63.999001,63.645,63.511002,63.369999,63.363998,63.484001,63.848,64.117996,63.733002,65.268997,65.460999,66.055,66.160004,66.319,66.122002,66.221001,65.617996,64.772003,64.783997,65.050003,65.444,65.860001,66.047997,66.084999,66.557999,66.803001,66.786003,66.459,65.940002,66.193001,66.920998,67.304001,67.541,68.093002,67.802002,68.473999,68.538002,68.796997,67.142998,67.308998,66.375999,66.906998,66.358002,66.543999,66.637001,66.512001,66.417999,66.601997,66.750999,67.422997,67.024002,67.292,66.740997,67.066002,67.241997,67.181999,67.132004,67.133003,67.153999,66.648003,66.841003,66.899597,67.127502,67.128998,66.5728,66.778,67.0653,66.696503,66.546501,66.591202,66.705299,66.911201,66.781403,66.785301,67.546799,68.169998,68.508499,68.011497,67.460503,67.834999,67.830803,67.944801,68.142601,68.157799,68.077202,68.110001,67.157303,66.843697,67.065201,66.635002,66.773003,66.485001,65.468102,65.393097,64.7967,64.260002,64.453697,64.639999,64.258301,64.169998,64.165497,64.448502,64.513199,64.404999,64.376999,64.394997,64.498001,64.606796,64.611702,64.267303,64.461098,64.123497,63.6651,64.081001,64.075897,63.995499,64.015503,63.931,64.120201,64.890999,65.293297,65.4142,64.672997,65.104103,65.032997,64.693398,65.182999,65.008003,64.544998,64.513,64.473,64.072998,64.007797,63.840801,63.333,63.588501,63.823002,63.573101,64.1325,64.211304,64.379997,64.703003,65.186699,65.090401,65.014397,65.014999,65.069801,64.904503,65.195602,66.203003,66.610001,66.809998,67.382202,67.974998,67.721703,66.987999,67.523003,68.449997,67.830002,68.434998,68.754997,68.486702,68.733002,68.610001,68.510002,69.080002,69.779999,70.275002,70.995003,72.095001,72.027496,72.230003,72.510002,73.763,74.160004,74.160004,73.125,72.904999,72.470001,71.973,70.648003,69.642998,70.75,71.546997,70.129997,69.849998,69.525002,70.370003,71.030197,70.970001,71.449997,71.099998,71.32,71.028,70.989998,69.9869,69.337303,69.160004,69.43,68.970398,69.182999,69.380997,69.844299,69.4244,70.410004,70.235001,69.373001,69.980003,69.360001,69.859001,69.779999,69.324997,68.440002,68.550301,68.913597,69.150497,69.297203,70.470901,71.720001,71.727097,71.680199,71.669998,71.020699,71.717499,70.639999,70.822502,71.029999,71.422501,70.830002,70.5121,71.361267,71.705803,71.7826,71.723,71.286797,70.689003,71.024002,71.313004,71.731003,70.953003,71.034698,71.324997,71.496498,71.515503,71.514801,71.886803,72.150002,73.9953,73.903999,75.159698,74.875504,77.139999,76.166496,76.490997,76.301498,75.830498,75.503502,75.822998,75.977501,75.513199,75.564003,75.956497,76.239799,75.627502,74.6782,75.188004,74.927002,74.669701,74.8769,75.017998,74.849701,74.875298,73.125,73.172699,73.425499,73.602898,73.695999,73.260902,72.959702,73.443001,73.822899,74.264,73.979797,74.487701,74.162399,73.940903,73.790298,73.737999,73.6036,73.689003,73.092003,73.373398,73.158997,72.954903,72.906601,72.784798,72.590797,72.563004,73.595901,73.1334,72.689003,72.441803,72.612801,73.2873,74.729202,74.532997,75.211502,74.087997,73.253998,73.444901,73.021896,72.682999,73.044197,73.012299,74.253899,74.220001,74.743797,74.487,74.901299,74.427002,74.251999,74.203003,74.260101,74.345001,74.155998,73.054298,73.538002,73.564903,73.839996,74.254402,75.2985,74.995003,74.999001,74.797203,74.478104,74.347,74.1744,74.505798,75.464996,75.792297,76.305,75.067398,74.431198,74.4673,73.972298,74.452202,74.994301,74.643898,75.579597,75.063004,75.068001,76.417999,76.310303,75.981598,76.276001,75.919098,75.9132,76.3088,76.441704,76.588997,76.541801,77.443802,77.421097,77.630203,77.643898,78.148804,77.961403,78.142403,78.962997,79.332397,79.685204,79.876503,79.571503,79.591003,79.613998,79.886597,79.956299,79.716797,79.648003,79.653198,81.219498,81.480598,82.7836,82.192101,82.513496,82.442497,81.974998,80.547897,81.500198,81.5979,81.43,82.434601,82.681801,82.604103,82.739502,82.270599,81.284798,80.975998,81.514297,82.491096,82.494698,82.814903,82.932999,81.712502,82.018303,82.532402,82.347198,82.100502,81.875,81.846001,82.1409,81.745399,81.716103,81.787102,81.93],\"type\":\"scatter\"},{\"line\":{\"color\":\"green\"},\"mode\":\"lines\",\"name\":\"Predictions\",\"x\":[1013,1014,1015,1016,1017,1018,1019,1020,1021,1022,1023,1024,1025,1026,1027,1028,1029,1030,1031,1032,1033,1034,1035,1036,1037,1038,1039,1040,1041,1042,1043,1044,1045,1046,1047,1048,1049,1050,1051,1052,1053,1054,1055,1056,1057,1058,1059,1060,1061,1062,1063,1064,1065,1066,1067,1068,1069,1070,1071,1072,1073],\"y\":[81.73280504879921,81.88698881545749,82.18031617729882,82.60775541771963,82.47424040502786,82.6532036038545,82.86019078119352,83.04444214348322,82.8792722901145,82.77445481779702,82.80885851323062,82.78422710687222,82.91924842437746,82.34435912809587,81.91010226864117,82.12159112472602,82.18686570021998,82.87623385936158,82.9735834549107,83.69828733968615,83.53184640071645,83.76702597933193,83.81055633741025,83.44814290431889,83.04155305594534,83.23166882383507,83.30794172179402,83.51539985862424,83.97263525401674,84.18966028383336,83.7813058390719,83.43816474167924,83.36577980682681,82.77832179748661,82.76066023903569,83.11982530135333,83.32306454098979,83.57192173284628,83.51038544903767,83.87265366625522,83.72916717953957,83.66852404528262,83.67181865263768,83.75360857503263,83.75400044445163,84.11332869534652,84.17231433640606,84.53198839036037,84.09082985058991,83.80820853802841,84.18890635283289,84.10341806166822,83.9960428209128,84.167759912593,84.43054334421807,84.90647992993189,84.90685651388128,85.40251194221983,85.52020621774254,85.8305367513746,85.68734242205817],\"type\":\"scatter\"}],                        {\"template\":{\"data\":{\"histogram2dcontour\":[{\"type\":\"histogram2dcontour\",\"colorbar\":{\"outlinewidth\":0,\"ticks\":\"\"},\"colorscale\":[[0.0,\"#0d0887\"],[0.1111111111111111,\"#46039f\"],[0.2222222222222222,\"#7201a8\"],[0.3333333333333333,\"#9c179e\"],[0.4444444444444444,\"#bd3786\"],[0.5555555555555556,\"#d8576b\"],[0.6666666666666666,\"#ed7953\"],[0.7777777777777778,\"#fb9f3a\"],[0.8888888888888888,\"#fdca26\"],[1.0,\"#f0f921\"]]}],\"choropleth\":[{\"type\":\"choropleth\",\"colorbar\":{\"outlinewidth\":0,\"ticks\":\"\"}}],\"histogram2d\":[{\"type\":\"histogram2d\",\"colorbar\":{\"outlinewidth\":0,\"ticks\":\"\"},\"colorscale\":[[0.0,\"#0d0887\"],[0.1111111111111111,\"#46039f\"],[0.2222222222222222,\"#7201a8\"],[0.3333333333333333,\"#9c179e\"],[0.4444444444444444,\"#bd3786\"],[0.5555555555555556,\"#d8576b\"],[0.6666666666666666,\"#ed7953\"],[0.7777777777777778,\"#fb9f3a\"],[0.8888888888888888,\"#fdca26\"],[1.0,\"#f0f921\"]]}],\"heatmap\":[{\"type\":\"heatmap\",\"colorbar\":{\"outlinewidth\":0,\"ticks\":\"\"},\"colorscale\":[[0.0,\"#0d0887\"],[0.1111111111111111,\"#46039f\"],[0.2222222222222222,\"#7201a8\"],[0.3333333333333333,\"#9c179e\"],[0.4444444444444444,\"#bd3786\"],[0.5555555555555556,\"#d8576b\"],[0.6666666666666666,\"#ed7953\"],[0.7777777777777778,\"#fb9f3a\"],[0.8888888888888888,\"#fdca26\"],[1.0,\"#f0f921\"]]}],\"heatmapgl\":[{\"type\":\"heatmapgl\",\"colorbar\":{\"outlinewidth\":0,\"ticks\":\"\"},\"colorscale\":[[0.0,\"#0d0887\"],[0.1111111111111111,\"#46039f\"],[0.2222222222222222,\"#7201a8\"],[0.3333333333333333,\"#9c179e\"],[0.4444444444444444,\"#bd3786\"],[0.5555555555555556,\"#d8576b\"],[0.6666666666666666,\"#ed7953\"],[0.7777777777777778,\"#fb9f3a\"],[0.8888888888888888,\"#fdca26\"],[1.0,\"#f0f921\"]]}],\"contourcarpet\":[{\"type\":\"contourcarpet\",\"colorbar\":{\"outlinewidth\":0,\"ticks\":\"\"}}],\"contour\":[{\"type\":\"contour\",\"colorbar\":{\"outlinewidth\":0,\"ticks\":\"\"},\"colorscale\":[[0.0,\"#0d0887\"],[0.1111111111111111,\"#46039f\"],[0.2222222222222222,\"#7201a8\"],[0.3333333333333333,\"#9c179e\"],[0.4444444444444444,\"#bd3786\"],[0.5555555555555556,\"#d8576b\"],[0.6666666666666666,\"#ed7953\"],[0.7777777777777778,\"#fb9f3a\"],[0.8888888888888888,\"#fdca26\"],[1.0,\"#f0f921\"]]}],\"surface\":[{\"type\":\"surface\",\"colorbar\":{\"outlinewidth\":0,\"ticks\":\"\"},\"colorscale\":[[0.0,\"#0d0887\"],[0.1111111111111111,\"#46039f\"],[0.2222222222222222,\"#7201a8\"],[0.3333333333333333,\"#9c179e\"],[0.4444444444444444,\"#bd3786\"],[0.5555555555555556,\"#d8576b\"],[0.6666666666666666,\"#ed7953\"],[0.7777777777777778,\"#fb9f3a\"],[0.8888888888888888,\"#fdca26\"],[1.0,\"#f0f921\"]]}],\"mesh3d\":[{\"type\":\"mesh3d\",\"colorbar\":{\"outlinewidth\":0,\"ticks\":\"\"}}],\"scatter\":[{\"fillpattern\":{\"fillmode\":\"overlay\",\"size\":10,\"solidity\":0.2},\"type\":\"scatter\"}],\"parcoords\":[{\"type\":\"parcoords\",\"line\":{\"colorbar\":{\"outlinewidth\":0,\"ticks\":\"\"}}}],\"scatterpolargl\":[{\"type\":\"scatterpolargl\",\"marker\":{\"colorbar\":{\"outlinewidth\":0,\"ticks\":\"\"}}}],\"bar\":[{\"error_x\":{\"color\":\"#2a3f5f\"},\"error_y\":{\"color\":\"#2a3f5f\"},\"marker\":{\"line\":{\"color\":\"#E5ECF6\",\"width\":0.5},\"pattern\":{\"fillmode\":\"overlay\",\"size\":10,\"solidity\":0.2}},\"type\":\"bar\"}],\"scattergeo\":[{\"type\":\"scattergeo\",\"marker\":{\"colorbar\":{\"outlinewidth\":0,\"ticks\":\"\"}}}],\"scatterpolar\":[{\"type\":\"scatterpolar\",\"marker\":{\"colorbar\":{\"outlinewidth\":0,\"ticks\":\"\"}}}],\"histogram\":[{\"marker\":{\"pattern\":{\"fillmode\":\"overlay\",\"size\":10,\"solidity\":0.2}},\"type\":\"histogram\"}],\"scattergl\":[{\"type\":\"scattergl\",\"marker\":{\"colorbar\":{\"outlinewidth\":0,\"ticks\":\"\"}}}],\"scatter3d\":[{\"type\":\"scatter3d\",\"line\":{\"colorbar\":{\"outlinewidth\":0,\"ticks\":\"\"}},\"marker\":{\"colorbar\":{\"outlinewidth\":0,\"ticks\":\"\"}}}],\"scattermapbox\":[{\"type\":\"scattermapbox\",\"marker\":{\"colorbar\":{\"outlinewidth\":0,\"ticks\":\"\"}}}],\"scatterternary\":[{\"type\":\"scatterternary\",\"marker\":{\"colorbar\":{\"outlinewidth\":0,\"ticks\":\"\"}}}],\"scattercarpet\":[{\"type\":\"scattercarpet\",\"marker\":{\"colorbar\":{\"outlinewidth\":0,\"ticks\":\"\"}}}],\"carpet\":[{\"aaxis\":{\"endlinecolor\":\"#2a3f5f\",\"gridcolor\":\"white\",\"linecolor\":\"white\",\"minorgridcolor\":\"white\",\"startlinecolor\":\"#2a3f5f\"},\"baxis\":{\"endlinecolor\":\"#2a3f5f\",\"gridcolor\":\"white\",\"linecolor\":\"white\",\"minorgridcolor\":\"white\",\"startlinecolor\":\"#2a3f5f\"},\"type\":\"carpet\"}],\"table\":[{\"cells\":{\"fill\":{\"color\":\"#EBF0F8\"},\"line\":{\"color\":\"white\"}},\"header\":{\"fill\":{\"color\":\"#C8D4E3\"},\"line\":{\"color\":\"white\"}},\"type\":\"table\"}],\"barpolar\":[{\"marker\":{\"line\":{\"color\":\"#E5ECF6\",\"width\":0.5},\"pattern\":{\"fillmode\":\"overlay\",\"size\":10,\"solidity\":0.2}},\"type\":\"barpolar\"}],\"pie\":[{\"automargin\":true,\"type\":\"pie\"}]},\"layout\":{\"autotypenumbers\":\"strict\",\"colorway\":[\"#636efa\",\"#EF553B\",\"#00cc96\",\"#ab63fa\",\"#FFA15A\",\"#19d3f3\",\"#FF6692\",\"#B6E880\",\"#FF97FF\",\"#FECB52\"],\"font\":{\"color\":\"#2a3f5f\"},\"hovermode\":\"closest\",\"hoverlabel\":{\"align\":\"left\"},\"paper_bgcolor\":\"white\",\"plot_bgcolor\":\"#E5ECF6\",\"polar\":{\"bgcolor\":\"#E5ECF6\",\"angularaxis\":{\"gridcolor\":\"white\",\"linecolor\":\"white\",\"ticks\":\"\"},\"radialaxis\":{\"gridcolor\":\"white\",\"linecolor\":\"white\",\"ticks\":\"\"}},\"ternary\":{\"bgcolor\":\"#E5ECF6\",\"aaxis\":{\"gridcolor\":\"white\",\"linecolor\":\"white\",\"ticks\":\"\"},\"baxis\":{\"gridcolor\":\"white\",\"linecolor\":\"white\",\"ticks\":\"\"},\"caxis\":{\"gridcolor\":\"white\",\"linecolor\":\"white\",\"ticks\":\"\"}},\"coloraxis\":{\"colorbar\":{\"outlinewidth\":0,\"ticks\":\"\"}},\"colorscale\":{\"sequential\":[[0.0,\"#0d0887\"],[0.1111111111111111,\"#46039f\"],[0.2222222222222222,\"#7201a8\"],[0.3333333333333333,\"#9c179e\"],[0.4444444444444444,\"#bd3786\"],[0.5555555555555556,\"#d8576b\"],[0.6666666666666666,\"#ed7953\"],[0.7777777777777778,\"#fb9f3a\"],[0.8888888888888888,\"#fdca26\"],[1.0,\"#f0f921\"]],\"sequentialminus\":[[0.0,\"#0d0887\"],[0.1111111111111111,\"#46039f\"],[0.2222222222222222,\"#7201a8\"],[0.3333333333333333,\"#9c179e\"],[0.4444444444444444,\"#bd3786\"],[0.5555555555555556,\"#d8576b\"],[0.6666666666666666,\"#ed7953\"],[0.7777777777777778,\"#fb9f3a\"],[0.8888888888888888,\"#fdca26\"],[1.0,\"#f0f921\"]],\"diverging\":[[0,\"#8e0152\"],[0.1,\"#c51b7d\"],[0.2,\"#de77ae\"],[0.3,\"#f1b6da\"],[0.4,\"#fde0ef\"],[0.5,\"#f7f7f7\"],[0.6,\"#e6f5d0\"],[0.7,\"#b8e186\"],[0.8,\"#7fbc41\"],[0.9,\"#4d9221\"],[1,\"#276419\"]]},\"xaxis\":{\"gridcolor\":\"white\",\"linecolor\":\"white\",\"ticks\":\"\",\"title\":{\"standoff\":15},\"zerolinecolor\":\"white\",\"automargin\":true,\"zerolinewidth\":2},\"yaxis\":{\"gridcolor\":\"white\",\"linecolor\":\"white\",\"ticks\":\"\",\"title\":{\"standoff\":15},\"zerolinecolor\":\"white\",\"automargin\":true,\"zerolinewidth\":2},\"scene\":{\"xaxis\":{\"backgroundcolor\":\"#E5ECF6\",\"gridcolor\":\"white\",\"linecolor\":\"white\",\"showbackground\":true,\"ticks\":\"\",\"zerolinecolor\":\"white\",\"gridwidth\":2},\"yaxis\":{\"backgroundcolor\":\"#E5ECF6\",\"gridcolor\":\"white\",\"linecolor\":\"white\",\"showbackground\":true,\"ticks\":\"\",\"zerolinecolor\":\"white\",\"gridwidth\":2},\"zaxis\":{\"backgroundcolor\":\"#E5ECF6\",\"gridcolor\":\"white\",\"linecolor\":\"white\",\"showbackground\":true,\"ticks\":\"\",\"zerolinecolor\":\"white\",\"gridwidth\":2}},\"shapedefaults\":{\"line\":{\"color\":\"#2a3f5f\"}},\"annotationdefaults\":{\"arrowcolor\":\"#2a3f5f\",\"arrowhead\":0,\"arrowwidth\":1},\"geo\":{\"bgcolor\":\"white\",\"landcolor\":\"#E5ECF6\",\"subunitcolor\":\"white\",\"showland\":true,\"showlakes\":true,\"lakecolor\":\"white\"},\"title\":{\"x\":0.05},\"mapbox\":{\"style\":\"light\"}}},\"title\":{\"text\":\"INR Rate - Training Data vs Predictions\"},\"xaxis\":{\"title\":{\"text\":\"Date\"}},\"yaxis\":{\"title\":{\"text\":\"Close\"}},\"legend\":{\"title\":{\"text\":\"Data\"}},\"width\":900,\"height\":600},                        {\"responsive\": true}                    ).then(function(){\n",
              "                            \n",
              "var gd = document.getElementById('edb54c1e-72c5-4a87-a0f9-ac314cd965c8');\n",
              "var x = new MutationObserver(function (mutations, observer) {{\n",
              "        var display = window.getComputedStyle(gd).display;\n",
              "        if (!display || display === 'none') {{\n",
              "            console.log([gd, 'removed!']);\n",
              "            Plotly.purge(gd);\n",
              "            observer.disconnect();\n",
              "        }}\n",
              "}});\n",
              "\n",
              "// Listen for the removal of the full notebook cells\n",
              "var notebookContainer = gd.closest('#notebook-container');\n",
              "if (notebookContainer) {{\n",
              "    x.observe(notebookContainer, {childList: true});\n",
              "}}\n",
              "\n",
              "// Listen for the clearing of the current output cell\n",
              "var outputEl = gd.closest('.output');\n",
              "if (outputEl) {{\n",
              "    x.observe(outputEl, {childList: true});\n",
              "}}\n",
              "\n",
              "                        })                };                            </script>        </div>\n",
              "</body>\n",
              "</html>"
            ]
          },
          "metadata": {}
        }
      ]
    },
    {
      "cell_type": "markdown",
      "metadata": {
        "id": "c01c5114"
      },
      "source": [
        "# Task\n",
        "Explain how to add more interpretability to the SARIMA model predictions for this project."
      ]
    },
    {
      "cell_type": "markdown",
      "metadata": {
        "id": "1f9ef058"
      },
      "source": [
        "## Interpret the sarimax model summary\n",
        "\n",
        "### Subtask:\n",
        "Explain the key statistics from the `fitted_model.summary()` output, such as the coefficients, p-values, and information criteria (AIC, BIC) to understand the significance of each component and the overall model fit.\n"
      ]
    },
    {
      "cell_type": "markdown",
      "metadata": {
        "id": "b2a358cb"
      },
      "source": [
        "**Reasoning**:\n",
        "I will explain the key statistics from the SARIMAX summary output based on the provided instructions.\n",
        "\n"
      ]
    },
    {
      "cell_type": "code",
      "metadata": {
        "colab": {
          "base_uri": "https://localhost:8080/"
        },
        "id": "a01fc5a1",
        "outputId": "aeea7b3f-6d05-4392-f89e-30c8cc61539c"
      },
      "source": [
        "# Explain the key statistics from the fitted_model.summary()\n",
        "print(\"Interpretation of SARIMAX Results:\")\n",
        "print(\"\\nCoefficients (coef):\")\n",
        "print(\"- ar.L1 (0.0313): This is the coefficient for the first lag of the autoregressive component. It suggests a very weak positive relationship between the previous period's 'Close' price and the current 'Close' price.\")\n",
        "print(\"- ar.L2 (0.0643): This is the coefficient for the second lag of the autoregressive component. It indicates a weak positive relationship between the 'Close' price two periods ago and the current 'Close' price.\")\n",
        "print(\"- ar.S.L52 (-0.6358): This is the coefficient for the 52nd lag of the seasonal autoregressive component. The negative value suggests a strong negative relationship between the 'Close' price 52 periods (one seasonal period, likely a year based on m=52) ago and the current 'Close' price. This is a significant seasonal effect.\")\n",
        "print(\"- ar.S.L104 (-0.3075): This is the coefficient for the 104th lag of the seasonal autoregressive component. It indicates a moderate negative relationship between the 'Close' price 104 periods (two seasonal periods) ago and the current 'Close' price.\")\n",
        "print(\"- sigma2 (0.3767): This represents the variance of the residuals (the error term). A lower value indicates less variability in the errors.\")\n",
        "\n",
        "print(\"\\nP>|z| (p-values):\")\n",
        "print(\"- ar.L1 (0.233): The p-value is greater than 0.05, suggesting that the first autoregressive lag is not statistically significant at the 5% significance level.\")\n",
        "print(\"- ar.L2 (0.013): The p-value is less than 0.05, indicating that the second autoregressive lag is statistically significant.\")\n",
        "print(\"- ar.S.L52 (0.000): The p-value is less than 0.05, indicating that the seasonal autoregressive lag at period 52 is highly statistically significant.\")\n",
        "print(\"- ar.S.L104 (0.000): The p-value is less than 0.05, indicating that the seasonal autoregressive lag at period 104 is highly statistically significant.\")\n",
        "print(\"- sigma2 (0.000): The p-value is less than 0.05, indicating that the variance of the residuals is statistically significant (as expected for a model with errors).\")\n",
        "\n",
        "print(\"\\nInformation Criteria:\")\n",
        "print(f\"- AIC (Akaike Information Criterion): {fitted_model.aic:.3f}. Lower values generally indicate a better model fit, penalizing for the number of parameters.\")\n",
        "print(f\"- BIC (Bayesian Information Criterion): {fitted_model.bic:.3f}. Similar to AIC, lower values are preferred, with a stronger penalty for the number of parameters.\")\n",
        "\n",
        "print(\"\\nDiagnostic Tests:\")\n",
        "print(\"- Ljung-Box (L1) (Q): 0.00, Prob(Q): 0.99. The high p-value (0.99) suggests that there is no significant autocorrelation in the residuals at lag 1, which is a good sign of model fit.\")\n",
        "print(\"- Jarque-Bera (JB): 86.43, Prob(JB): 0.00. The low p-value (0.00) indicates that the residuals are not normally distributed. This might suggest that some model assumptions are violated.\")\n",
        "print(\"- Heteroskedasticity (H): 1.57, Prob(H) (two-sided): 0.00. The low p-value (0.00) suggests that there is heteroskedasticity in the residuals (non-constant variance). This also indicates potential issues with model assumptions.\")\n",
        "\n",
        "print(\"\\nSummary:\")\n",
        "print(\"The SARIMA(2, 1, 0)x(2, 1, 0, 52) model shows statistically significant seasonal components at lags 52 and 104, and a statistically significant non-seasonal autoregressive component at lag 2. The Ljung-Box test suggests no significant autocorrelation in the residuals at lag 1. However, the Jarque-Bera and Heteroskedasticity tests indicate that the residuals are neither normally distributed nor have constant variance, which might suggest that the model could be further improved or that the data exhibits characteristics not fully captured by this model.\")"
      ],
      "execution_count": 24,
      "outputs": [
        {
          "output_type": "stream",
          "name": "stdout",
          "text": [
            "Interpretation of SARIMAX Results:\n",
            "\n",
            "Coefficients (coef):\n",
            "- ar.L1 (0.0313): This is the coefficient for the first lag of the autoregressive component. It suggests a very weak positive relationship between the previous period's 'Close' price and the current 'Close' price.\n",
            "- ar.L2 (0.0643): This is the coefficient for the second lag of the autoregressive component. It indicates a weak positive relationship between the 'Close' price two periods ago and the current 'Close' price.\n",
            "- ar.S.L52 (-0.6358): This is the coefficient for the 52nd lag of the seasonal autoregressive component. The negative value suggests a strong negative relationship between the 'Close' price 52 periods (one seasonal period, likely a year based on m=52) ago and the current 'Close' price. This is a significant seasonal effect.\n",
            "- ar.S.L104 (-0.3075): This is the coefficient for the 104th lag of the seasonal autoregressive component. It indicates a moderate negative relationship between the 'Close' price 104 periods (two seasonal periods) ago and the current 'Close' price.\n",
            "- sigma2 (0.3767): This represents the variance of the residuals (the error term). A lower value indicates less variability in the errors.\n",
            "\n",
            "P>|z| (p-values):\n",
            "- ar.L1 (0.233): The p-value is greater than 0.05, suggesting that the first autoregressive lag is not statistically significant at the 5% significance level.\n",
            "- ar.L2 (0.013): The p-value is less than 0.05, indicating that the second autoregressive lag is statistically significant.\n",
            "- ar.S.L52 (0.000): The p-value is less than 0.05, indicating that the seasonal autoregressive lag at period 52 is highly statistically significant.\n",
            "- ar.S.L104 (0.000): The p-value is less than 0.05, indicating that the seasonal autoregressive lag at period 104 is highly statistically significant.\n",
            "- sigma2 (0.000): The p-value is less than 0.05, indicating that the variance of the residuals is statistically significant (as expected for a model with errors).\n",
            "\n",
            "Information Criteria:\n",
            "- AIC (Akaike Information Criterion): 1821.594. Lower values generally indicate a better model fit, penalizing for the number of parameters.\n",
            "- BIC (Bayesian Information Criterion): 1845.929. Similar to AIC, lower values are preferred, with a stronger penalty for the number of parameters.\n",
            "\n",
            "Diagnostic Tests:\n",
            "- Ljung-Box (L1) (Q): 0.00, Prob(Q): 0.99. The high p-value (0.99) suggests that there is no significant autocorrelation in the residuals at lag 1, which is a good sign of model fit.\n",
            "- Jarque-Bera (JB): 86.43, Prob(JB): 0.00. The low p-value (0.00) indicates that the residuals are not normally distributed. This might suggest that some model assumptions are violated.\n",
            "- Heteroskedasticity (H): 1.57, Prob(H) (two-sided): 0.00. The low p-value (0.00) suggests that there is heteroskedasticity in the residuals (non-constant variance). This also indicates potential issues with model assumptions.\n",
            "\n",
            "Summary:\n",
            "The SARIMA(2, 1, 0)x(2, 1, 0, 52) model shows statistically significant seasonal components at lags 52 and 104, and a statistically significant non-seasonal autoregressive component at lag 2. The Ljung-Box test suggests no significant autocorrelation in the residuals at lag 1. However, the Jarque-Bera and Heteroskedasticity tests indicate that the residuals are neither normally distributed nor have constant variance, which might suggest that the model could be further improved or that the data exhibits characteristics not fully captured by this model.\n"
          ]
        }
      ]
    },
    {
      "cell_type": "markdown",
      "metadata": {
        "id": "9b06b5c8"
      },
      "source": [
        "## Explain the impact of p, d, q, (p, d, q, m)\n",
        "\n",
        "### Subtask:\n",
        "Reiterate and elaborate on how the chosen orders (p, d, q) and seasonal orders (P, D, Q, m) influence the model's predictions, connecting them to the concepts of past values, differencing, and past errors.\n"
      ]
    },
    {
      "cell_type": "markdown",
      "metadata": {
        "id": "b3cd1a47"
      },
      "source": [
        "**Reasoning**:\n",
        "Elaborate on how the SARIMA parameters influence the model's predictions based on the previous auto_arima output and model summary.\n",
        "\n"
      ]
    },
    {
      "cell_type": "code",
      "metadata": {
        "colab": {
          "base_uri": "https://localhost:8080/"
        },
        "id": "7a1e773e",
        "outputId": "07151e21-2647-4604-c5ef-6e25c833408c"
      },
      "source": [
        "print(\"Interpretation of SARIMA Parameters (p, d, q) and (P, D, Q, m):\")\n",
        "\n",
        "print(\"\\nNon-seasonal Parameters (p, d, q) = (2, 1, 0):\")\n",
        "print(f\"- p=2 (Autoregressive order): The model uses the 'Close' prices from the two most recent time periods to predict the current 'Close' price. This captures short-term dependencies in the data.\")\n",
        "print(f\"- d=1 (Integrated order): The model differences the 'Close' price data once. This indicates that the 'Close' price series was likely non-stationary and had a trend, which differencing helps to remove, making the series more stable for modeling.\")\n",
        "print(f\"- q=0 (Moving Average order): The model does not use the forecast errors from previous periods to inform the current prediction. This suggests that past prediction errors do not significantly impact the current forecast in the non-seasonal part.\")\n",
        "\n",
        "print(\"\\nSeasonal Parameters (P, D, Q, m) = (2, 1, 0, 52):\")\n",
        "print(f\"- P=2 (Seasonal Autoregressive order): The model uses the 'Close' prices from the same week in the previous two years (due to m=52) to predict the current 'Close' price. This captures the recurring yearly seasonal patterns.\")\n",
        "print(f\"- D=1 (Seasonal Integrated order): The model applies seasonal differencing once, meaning it considers the difference between the 'Close' price in the current week and the 'Close' price in the same week of the previous year. This addresses the seasonal non-stationarity observed in the data.\")\n",
        "print(f\"- Q=0 (Seasonal Moving Average order): Similar to the non-seasonal q, the model does not use seasonal forecast errors to inform the current seasonal prediction.\")\n",
        "print(f\"- m=52 (Seasonal period): This parameter indicates that the seasonal pattern repeats every 52 periods, which corresponds to the weekly frequency of the data and suggests a yearly seasonality.\")\n",
        "\n",
        "print(\"\\nImpact on Model Predictions:\")\n",
        "print(f\"The combination of these parameters (p=2, d=1, q=0) and (P=2, D=1, Q=0, m=52) allows the SARIMA model to capture both the short-term fluctuations and the strong yearly seasonality observed in the INR-USD conversion rate data.\")\n",
        "print(f\"- The non-seasonal AR(2) component (p=2) accounts for the influence of the immediate past 'Close' prices.\")\n",
        "print(f\"- The differencing (d=1) helps to stabilize the trend in the data.\")\n",
        "print(f\"- The seasonal AR(2) component (P=2) and seasonal differencing (D=1) with a seasonal period of 52 (m=52) are crucial for modeling the recurring patterns that happen approximately every year.\")\n",
        "print(f\"- The significance of the seasonal AR lags (ar.S.L52 and ar.S.L104) with low p-values (0.000) in the model summary confirms that these seasonal components are indeed important drivers of the model's predictions for this dataset.\")\n",
        "print(f\"- The absence of moving average components (q=0 and Q=0) suggests that past forecast errors are not deemed necessary by auto_arima to improve the predictions for this specific time series.\")\n",
        "print(f\"Collectively, these parameters shape the forecast by incorporating the observed trends, short-term correlations, and the pronounced yearly seasonality, leading to predictions that follow the general upward trend and exhibit the recurring seasonal dips and rises.\")"
      ],
      "execution_count": 27,
      "outputs": [
        {
          "output_type": "stream",
          "name": "stdout",
          "text": [
            "Interpretation of SARIMA Parameters (p, d, q) and (P, D, Q, m):\n",
            "\n",
            "Non-seasonal Parameters (p, d, q) = (2, 1, 0):\n",
            "- p=2 (Autoregressive order): The model uses the 'Close' prices from the two most recent time periods to predict the current 'Close' price. This captures short-term dependencies in the data.\n",
            "- d=1 (Integrated order): The model differences the 'Close' price data once. This indicates that the 'Close' price series was likely non-stationary and had a trend, which differencing helps to remove, making the series more stable for modeling.\n",
            "- q=0 (Moving Average order): The model does not use the forecast errors from previous periods to inform the current prediction. This suggests that past prediction errors do not significantly impact the current forecast in the non-seasonal part.\n",
            "\n",
            "Seasonal Parameters (P, D, Q, m) = (2, 1, 0, 52):\n",
            "- P=2 (Seasonal Autoregressive order): The model uses the 'Close' prices from the same week in the previous two years (due to m=52) to predict the current 'Close' price. This captures the recurring yearly seasonal patterns.\n",
            "- D=1 (Seasonal Integrated order): The model applies seasonal differencing once, meaning it considers the difference between the 'Close' price in the current week and the 'Close' price in the same week of the previous year. This addresses the seasonal non-stationarity observed in the data.\n",
            "- Q=0 (Seasonal Moving Average order): Similar to the non-seasonal q, the model does not use seasonal forecast errors to inform the current seasonal prediction.\n",
            "- m=52 (Seasonal period): This parameter indicates that the seasonal pattern repeats every 52 periods, which corresponds to the weekly frequency of the data and suggests a yearly seasonality.\n",
            "\n",
            "Impact on Model Predictions:\n",
            "The combination of these parameters (p=2, d=1, q=0) and (P=2, D=1, Q=0, m=52) allows the SARIMA model to capture both the short-term fluctuations and the strong yearly seasonality observed in the INR-USD conversion rate data.\n",
            "- The non-seasonal AR(2) component (p=2) accounts for the influence of the immediate past 'Close' prices.\n",
            "- The differencing (d=1) helps to stabilize the trend in the data.\n",
            "- The seasonal AR(2) component (P=2) and seasonal differencing (D=1) with a seasonal period of 52 (m=52) are crucial for modeling the recurring patterns that happen approximately every year.\n",
            "- The significance of the seasonal AR lags (ar.S.L52 and ar.S.L104) with low p-values (0.000) in the model summary confirms that these seasonal components are indeed important drivers of the model's predictions for this dataset.\n",
            "- The absence of moving average components (q=0 and Q=0) suggests that past forecast errors are not deemed necessary by auto_arima to improve the predictions for this specific time series.\n",
            "Collectively, these parameters shape the forecast by incorporating the observed trends, short-term correlations, and the pronounced yearly seasonality, leading to predictions that follow the general upward trend and exhibit the recurring seasonal dips and rises.\n"
          ]
        }
      ]
    },
    {
      "cell_type": "markdown",
      "metadata": {
        "id": "d978d50e"
      },
      "source": [
        "## Discuss limitations and assumptions\n",
        "\n",
        "### Subtask:\n",
        "Explain the assumptions of the SARIMA model and its limitations in capturing complex non-linear relationships or sudden structural changes in the data.\n"
      ]
    },
    {
      "cell_type": "markdown",
      "metadata": {
        "id": "5f91d6cc"
      },
      "source": [
        "**Reasoning**:\n",
        "Explain the assumptions and limitations of the SARIMA model based on the instructions.\n",
        "\n"
      ]
    },
    {
      "cell_type": "code",
      "metadata": {
        "colab": {
          "base_uri": "https://localhost:8080/"
        },
        "id": "f8e3a48c",
        "outputId": "edaf480a-d046-4cfa-e094-8404d4a707c8"
      },
      "source": [
        "print(\"Assumptions of the SARIMA Model:\")\n",
        "print(\"- Stationarity (after differencing): SARIMA assumes that the time series, after applying the necessary differencing (both non-seasonal 'd' and seasonal 'D'), is stationary. This means that the statistical properties of the differenced series (like mean, variance, and autocorrelation) should remain constant over time.\")\n",
        "print(\"- Linearity: SARIMA is a linear model, meaning it assumes a linear relationship between the current value and past values and past errors.\")\n",
        "print(\"- Normality of Residuals: The errors (residuals) of the SARIMA model are assumed to be normally distributed.\")\n",
        "print(\"- Homoscedasticity of Residuals: The variance of the errors (residuals) is assumed to be constant over time (homoscedasticity).\")\n",
        "\n",
        "print(\"\\nLimitations of the SARIMA Model:\")\n",
        "print(\"- Inability to capture complex non-linear patterns: As a linear model, SARIMA struggles to capture complex, non-linear relationships in the data. If the underlying process generating the time series is highly non-linear, SARIMA's predictions may be inaccurate.\")\n",
        "print(\"- Sensitivity to outliers: Outliers can significantly affect the estimation of SARIMA parameters and distort the model's forecasts.\")\n",
        "print(\"- Difficulty in forecasting during periods of structural change or sudden events: SARIMA models assume that the underlying data generating process is relatively stable. Sudden structural changes (e.g., policy changes, economic crises) or unexpected events can render the historical patterns captured by the model irrelevant, leading to poor forecasts.\")\n",
        "print(\"- Assumption of constant seasonal patterns: While SARIMA handles seasonality, it assumes that the seasonal pattern is constant over time. If the seasonal amplitude or shape changes, the model's ability to capture it accurately diminishes.\")\n",
        "\n",
        "print(\"\\nImpact of Limitations on INR-USD Exchange Rate Data Predictions:\")\n",
        "print(\"Considering the INR-USD exchange rate data and the residual analysis performed earlier:\")\n",
        "print(\"- The residual analysis showed that the residuals are not normally distributed (Jarque-Bera test) and exhibit heteroskedasticity (non-constant variance). This violates key assumptions of the SARIMA model and suggests that the model may not be fully capturing all the underlying patterns or that the errors are not behaving as assumed.\")\n",
        "print(\"- Exchange rates can be influenced by various complex factors (geopolitical events, economic policies, market sentiment) that might introduce non-linearities or sudden structural changes not easily captured by a linear SARIMA model.\")\n",
        "print(\"- While a strong seasonal pattern was identified and modeled, if this seasonality were to change in amplitude or timing in the future, the SARIMA model's fixed seasonal component might lead to less accurate predictions.\")\n",
        "print(\"Therefore, while the SARIMA model provides a good baseline for forecasting the INR-USD exchange rate by capturing trend and seasonality, its assumptions and limitations, particularly regarding residual behavior and the potential for non-linearities or structural changes in exchange rate dynamics, suggest that the predictions should be interpreted with caution and might benefit from more advanced modeling techniques for improved accuracy and robustness, especially during volatile periods.\")"
      ],
      "execution_count": 28,
      "outputs": [
        {
          "output_type": "stream",
          "name": "stdout",
          "text": [
            "Assumptions of the SARIMA Model:\n",
            "- Stationarity (after differencing): SARIMA assumes that the time series, after applying the necessary differencing (both non-seasonal 'd' and seasonal 'D'), is stationary. This means that the statistical properties of the differenced series (like mean, variance, and autocorrelation) should remain constant over time.\n",
            "- Linearity: SARIMA is a linear model, meaning it assumes a linear relationship between the current value and past values and past errors.\n",
            "- Normality of Residuals: The errors (residuals) of the SARIMA model are assumed to be normally distributed.\n",
            "- Homoscedasticity of Residuals: The variance of the errors (residuals) is assumed to be constant over time (homoscedasticity).\n",
            "\n",
            "Limitations of the SARIMA Model:\n",
            "- Inability to capture complex non-linear patterns: As a linear model, SARIMA struggles to capture complex, non-linear relationships in the data. If the underlying process generating the time series is highly non-linear, SARIMA's predictions may be inaccurate.\n",
            "- Sensitivity to outliers: Outliers can significantly affect the estimation of SARIMA parameters and distort the model's forecasts.\n",
            "- Difficulty in forecasting during periods of structural change or sudden events: SARIMA models assume that the underlying data generating process is relatively stable. Sudden structural changes (e.g., policy changes, economic crises) or unexpected events can render the historical patterns captured by the model irrelevant, leading to poor forecasts.\n",
            "- Assumption of constant seasonal patterns: While SARIMA handles seasonality, it assumes that the seasonal pattern is constant over time. If the seasonal amplitude or shape changes, the model's ability to capture it accurately diminishes.\n",
            "\n",
            "Impact of Limitations on INR-USD Exchange Rate Data Predictions:\n",
            "Considering the INR-USD exchange rate data and the residual analysis performed earlier:\n",
            "- The residual analysis showed that the residuals are not normally distributed (Jarque-Bera test) and exhibit heteroskedasticity (non-constant variance). This violates key assumptions of the SARIMA model and suggests that the model may not be fully capturing all the underlying patterns or that the errors are not behaving as assumed.\n",
            "- Exchange rates can be influenced by various complex factors (geopolitical events, economic policies, market sentiment) that might introduce non-linearities or sudden structural changes not easily captured by a linear SARIMA model.\n",
            "- While a strong seasonal pattern was identified and modeled, if this seasonality were to change in amplitude or timing in the future, the SARIMA model's fixed seasonal component might lead to less accurate predictions.\n",
            "Therefore, while the SARIMA model provides a good baseline for forecasting the INR-USD exchange rate by capturing trend and seasonality, its assumptions and limitations, particularly regarding residual behavior and the potential for non-linearities or structural changes in exchange rate dynamics, suggest that the predictions should be interpreted with caution and might benefit from more advanced modeling techniques for improved accuracy and robustness, especially during volatile periods.\n"
          ]
        }
      ]
    },
    {
      "cell_type": "markdown",
      "metadata": {
        "id": "99396780"
      },
      "source": [
        "## Consider alternative interpretability techniques (if applicable)\n",
        "\n",
        "### Subtask:\n",
        "Briefly discuss if other interpretability techniques, like feature importance (common in other ML models), could be conceptually applied to time series forecasting (e.g., by looking at the influence of lagged features), while noting that this is less standard for traditional SARIMA.\n"
      ]
    },
    {
      "cell_type": "markdown",
      "metadata": {
        "id": "7b895e59"
      },
      "source": [
        "**Reasoning**:\n",
        "Discuss how feature importance relates conceptually to time series forecasting within SARIMA by considering lagged values and how the interpretability of SARIMA comes from analyzing model coefficients and their significance.\n",
        "\n"
      ]
    },
    {
      "cell_type": "code",
      "metadata": {
        "colab": {
          "base_uri": "https://localhost:8080/"
        },
        "id": "e9ef6b11",
        "outputId": "1689509f-faef-43cb-b667-96d141f72e2a"
      },
      "source": [
        "print(\"Feature Importance in Time Series Forecasting (SARIMA):\")\n",
        "\n",
        "print(\"\\nFeature Importance in other ML models:\")\n",
        "print(\"In many machine learning models, such as linear regression or tree-based models (like Random Forests or Gradient Boosting), 'feature importance' refers to techniques that quantify the contribution of each input feature to the model's predictions. This helps in understanding which variables are most influential in driving the outcome.\")\n",
        "\n",
        "print(\"\\nConceptual relation to Time Series Forecasting (SARIMA):\")\n",
        "print(\"While not directly referred to as 'feature importance' in the same way, a similar concept exists conceptually in time series models like SARIMA. In SARIMA, the 'features' influencing the current prediction are essentially the lagged values of the time series itself (autoregressive terms), the lagged forecast errors (moving average terms), and their seasonal counterparts.\")\n",
        "print(\"The parameters (p, d, q) for the non-seasonal part and (P, D, Q, m) for the seasonal part determine which lagged values and errors are included in the model.\")\n",
        "\n",
        "print(\"\\nInterpretability in Traditional SARIMA:\")\n",
        "print(\"Traditional SARIMA models do not provide a standard 'feature importance score' like some other ML models. The interpretability of a SARIMA model primarily comes from analyzing the estimated coefficients and their statistical significance (p-values) in the model summary, as discussed in the previous step.\")\n",
        "print(\"The magnitude and significance of the coefficients for the AR (ar.Lp), MA (ma.Lq), Seasonal AR (ar.S.LP), and Seasonal MA (ma.S.LQ) terms indicate the strength and statistical importance of the influence of the corresponding lagged values (conceptual 'features') on the current prediction.\")\n",
        "print(\"- A large coefficient with a low p-value for `ar.L1`, for instance, suggests that the value in the previous time period has a strong and statistically significant impact on the current value.\")\n",
        "print(\"- Similarly, a significant coefficient for `ar.S.L52` (as observed in our model) indicates that the value from the same week in the previous year is a very important factor in predicting the current week's value.\")\n",
        "\n",
        "print(\"\\nConclusion:\")\n",
        "print(\"In summary, while the term 'feature importance' isn't standard for SARIMA, the concept of understanding which past data points (lagged values and errors) are most influential on future predictions is central to interpreting the model. This understanding is gained by examining the estimated coefficients and their statistical significance within the SARIMA model summary, which effectively highlights the 'importance' of the different temporal dependencies captured by the model's structure.\")"
      ],
      "execution_count": 29,
      "outputs": [
        {
          "output_type": "stream",
          "name": "stdout",
          "text": [
            "Feature Importance in Time Series Forecasting (SARIMA):\n",
            "\n",
            "Feature Importance in other ML models:\n",
            "In many machine learning models, such as linear regression or tree-based models (like Random Forests or Gradient Boosting), 'feature importance' refers to techniques that quantify the contribution of each input feature to the model's predictions. This helps in understanding which variables are most influential in driving the outcome.\n",
            "\n",
            "Conceptual relation to Time Series Forecasting (SARIMA):\n",
            "While not directly referred to as 'feature importance' in the same way, a similar concept exists conceptually in time series models like SARIMA. In SARIMA, the 'features' influencing the current prediction are essentially the lagged values of the time series itself (autoregressive terms), the lagged forecast errors (moving average terms), and their seasonal counterparts.\n",
            "The parameters (p, d, q) for the non-seasonal part and (P, D, Q, m) for the seasonal part determine which lagged values and errors are included in the model.\n",
            "\n",
            "Interpretability in Traditional SARIMA:\n",
            "Traditional SARIMA models do not provide a standard 'feature importance score' like some other ML models. The interpretability of a SARIMA model primarily comes from analyzing the estimated coefficients and their statistical significance (p-values) in the model summary, as discussed in the previous step.\n",
            "The magnitude and significance of the coefficients for the AR (ar.Lp), MA (ma.Lq), Seasonal AR (ar.S.LP), and Seasonal MA (ma.S.LQ) terms indicate the strength and statistical importance of the influence of the corresponding lagged values (conceptual 'features') on the current prediction.\n",
            "- A large coefficient with a low p-value for `ar.L1`, for instance, suggests that the value in the previous time period has a strong and statistically significant impact on the current value.\n",
            "- Similarly, a significant coefficient for `ar.S.L52` (as observed in our model) indicates that the value from the same week in the previous year is a very important factor in predicting the current week's value.\n",
            "\n",
            "Conclusion:\n",
            "In summary, while the term 'feature importance' isn't standard for SARIMA, the concept of understanding which past data points (lagged values and errors) are most influential on future predictions is central to interpreting the model. This understanding is gained by examining the estimated coefficients and their statistical significance within the SARIMA model summary, which effectively highlights the 'importance' of the different temporal dependencies captured by the model's structure.\n"
          ]
        }
      ]
    },
    {
      "cell_type": "markdown",
      "metadata": {
        "id": "62fb568e"
      },
      "source": [
        "## Summary:\n",
        "\n",
        "### Data Analysis Key Findings\n",
        "\n",
        "*   The SARIMA model summary indicates that seasonal autoregressive components at lags 52 and 104, along with the non-seasonal autoregressive component at lag 2, are statistically significant drivers of the 'Close' price predictions.\n",
        "*   The analysis of residuals revealed that while there was no significant autocorrelation at lag 1, the residuals were neither normally distributed nor exhibited constant variance, suggesting potential areas for model improvement or uncaptured data characteristics.\n",
        "*   The `statsmodels` library does not provide a direct method to visualize the traditional decomposition components (trend, seasonal, residual) of the fitted SARIMA model's forecast.\n",
        "*   The chosen SARIMA parameters (p=2, d=1, q=0) and (P=2, D=1, Q=0, m=52) allow the model to capture both short-term dependencies and strong yearly seasonality in the data.\n",
        "*   While traditional \"feature importance\" scores are not applicable to SARIMA, the interpretability is derived from analyzing the magnitude and statistical significance of the coefficients for the lagged terms, which indicate their influence on predictions.\n",
        "\n",
        "### Insights or Next Steps\n",
        "\n",
        "*   Given the issues with residual normality and heteroskedasticity, consider exploring alternative time series models or techniques that might better handle these characteristics, or investigate data transformations.\n",
        "*   Although direct decomposition of the SARIMA forecast is not available, understanding the significance of the seasonal coefficients (ar.S.L52 and ar.S.L104) reinforces the importance of the yearly seasonal pattern in the predictions.\n"
      ]
    },
    {
      "cell_type": "markdown",
      "metadata": {
        "id": "4a781c59"
      },
      "source": [
        "## INR to USD Exchange Rate Forecasting with SARIMA\n",
        "\n",
        "This repository contains a Google Colab notebook that demonstrates the process of forecasting the INR to USD exchange rate using a Seasonal Autoregressive Integrated Moving Average (SARIMA) model.\n",
        "\n",
        "## Project Overview\n",
        "\n",
        "The project aims to analyze historical INR to USD exchange rate data, identify patterns and seasonality, and build a time series forecasting model to predict future exchange rates. The SARIMA model is chosen due to the apparent seasonality in the data.\n",
        "\n",
        "## Data\n",
        "\n",
        "The data used in this notebook is the historical INR to USD exchange rate, sourced from a CSV file (`INR-USD.csv`). The data includes the following columns:\n",
        "\n",
        "- `Date`: The date of the exchange rate observation.\n",
        "- `Open`: The opening exchange rate for the period.\n",
        "- `High`: The highest exchange rate during the period.\n",
        "- `Low`: The lowest exchange rate during the period.\n",
        "- `Close`: The closing exchange rate for the period.\n",
        "- `Adj Close`: The adjusted closing exchange rate for the period.\n",
        "- `Volume`: The trading volume.\n",
        "\n",
        "## Methodology\n",
        "\n",
        "The notebook follows these steps:\n",
        "\n",
        "1.  **Data Loading and Preparation:** Loading the exchange rate data and handling missing values.\n",
        "2.  **Exploratory Data Analysis (EDA):** Visualizing the closing exchange rate over time and analyzing yearly and monthly growth patterns.\n",
        "3.  **Seasonal Decomposition:** Decomposing the time series to identify trend, seasonality, and residuals.\n",
        "4.  **SARIMA Model Selection:** Using `auto_arima` to automatically determine the optimal SARIMA model orders (p, d, q) and seasonal orders (P, D, Q, m).\n",
        "5.  **SARIMA Model Fitting:** Fitting the SARIMA model to the historical data.\n",
        "6.  **Forecasting:** Generating future exchange rate predictions using the fitted model.\n",
        "7.  **Model Interpretability:** Explaining the SARIMA model results, including coefficients, p-values, information criteria, and the impact of the chosen orders on predictions. Discussing the assumptions and limitations of the SARIMA model.\n",
        "\n",
        "## Key Findings\n",
        "\n",
        "- The INR to USD exchange rate exhibits a clear upward trend and significant yearly seasonality.\n",
        "- The `auto_arima` process identified a SARIMA(2, 1, 0)x(2, 1, 0, 52) model as suitable for this data, capturing both non-seasonal and seasonal dependencies.\n",
        "- The seasonal components at lags 52 and 104 were found to be statistically significant, highlighting the importance of the yearly pattern in forecasting.\n",
        "- While the model captures trend and seasonality, residual analysis indicated potential areas for improvement, such as non-normally distributed and heteroskedastic residuals.\n",
        "\n",
        "## How to Use\n",
        "\n",
        "To run this notebook:\n",
        "\n",
        "1.  Clone this repository.\n",
        "2.  Open the `inr_usd_forecasting.ipynb` notebook in Google Colab.\n",
        "3.  Run the cells sequentially to execute the data analysis, modeling, and forecasting steps.\n",
        "\n",
        "## Dependencies\n",
        "\n",
        "The main libraries used in this notebook include:\n",
        "\n",
        "- pandas\n",
        "- numpy\n",
        "- matplotlib\n",
        "- seaborn\n",
        "- plotly\n",
        "- pmdarima\n",
        "- statsmodels\n",
        "\n",
        "These dependencies are installed within the notebook environment."
      ]
    }
  ]
}